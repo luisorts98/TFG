{
 "cells": [
  {
   "cell_type": "markdown",
   "id": "92884eac-2880-426f-992f-43ac4bb8e3e8",
   "metadata": {},
   "source": [
    "## Travelling Salesman problem"
   ]
  },
  {
   "cell_type": "code",
   "execution_count": 60,
   "id": "5d434c7a-2bb7-441d-91c7-8e5440a78704",
   "metadata": {},
   "outputs": [
    {
     "data": {
      "text/html": [
       "<style>.container{width:100% !important;}</style>"
      ],
      "text/plain": [
       "<IPython.core.display.HTML object>"
      ]
     },
     "metadata": {},
     "output_type": "display_data"
    }
   ],
   "source": [
    "%matplotlib widget\n",
    "from IPython.display import display, HTML\n",
    "display(HTML(\"<style>.container{width:100% !important;}</style>\"))"
   ]
  },
  {
   "cell_type": "code",
   "execution_count": 61,
   "id": "6c472ef8-6ffa-4ac4-800b-057021ace665",
   "metadata": {},
   "outputs": [
    {
     "name": "stdout",
     "output_type": "stream",
     "text": [
      "Requirement already satisfied: ortools in /opt/anaconda3/envs/expertcourse/lib/python3.10/site-packages (9.10.4067)\n",
      "Requirement already satisfied: absl-py>=2.0.0 in /opt/anaconda3/envs/expertcourse/lib/python3.10/site-packages (from ortools) (2.1.0)\n",
      "Requirement already satisfied: numpy>=1.13.3 in /opt/anaconda3/envs/expertcourse/lib/python3.10/site-packages (from ortools) (1.26.4)\n",
      "Requirement already satisfied: pandas>=2.0.0 in /opt/anaconda3/envs/expertcourse/lib/python3.10/site-packages (from ortools) (2.1.4)\n",
      "Requirement already satisfied: protobuf>=5.26.1 in /opt/anaconda3/envs/expertcourse/lib/python3.10/site-packages (from ortools) (5.27.1)\n",
      "Requirement already satisfied: immutabledict>=3.0.0 in /opt/anaconda3/envs/expertcourse/lib/python3.10/site-packages (from ortools) (4.2.0)\n",
      "Requirement already satisfied: python-dateutil>=2.8.2 in /opt/anaconda3/envs/expertcourse/lib/python3.10/site-packages (from pandas>=2.0.0->ortools) (2.9.0)\n",
      "Requirement already satisfied: pytz>=2020.1 in /opt/anaconda3/envs/expertcourse/lib/python3.10/site-packages (from pandas>=2.0.0->ortools) (2024.1)\n",
      "Requirement already satisfied: tzdata>=2022.1 in /opt/anaconda3/envs/expertcourse/lib/python3.10/site-packages (from pandas>=2.0.0->ortools) (2024.1)\n",
      "Requirement already satisfied: six>=1.5 in /opt/anaconda3/envs/expertcourse/lib/python3.10/site-packages (from python-dateutil>=2.8.2->pandas>=2.0.0->ortools) (1.16.0)\n"
     ]
    }
   ],
   "source": [
    "!pip install ortools"
   ]
  },
  {
   "cell_type": "code",
   "execution_count": 94,
   "id": "1a977a08-2db8-4c23-a57f-f7048b17a5c9",
   "metadata": {},
   "outputs": [
    {
     "name": "stdout",
     "output_type": "stream",
     "text": [
      "{('Munich', 'Hamburg'): 6, ('Hamburg', 'Munich'): 6, ('Munich', 'Stuttgart'): 1, ('Stuttgart', 'Munich'): 1, ('Munich', 'Berlin'): 1, ('Berlin', 'Munich'): 1, ('Munich', 'Frankfurt'): 6, ('Frankfurt', 'Munich'): 6, ('Munich', 'Paris'): 3, ('Paris', 'Munich'): 3, ('Munich', 'Madrid'): 2, ('Madrid', 'Munich'): 2, ('Munich', 'Barcelona'): 2, ('Barcelona', 'Munich'): 2, ('Hamburg', 'Stuttgart'): 2, ('Stuttgart', 'Hamburg'): 2, ('Hamburg', 'Berlin'): 6, ('Berlin', 'Hamburg'): 6, ('Hamburg', 'Frankfurt'): 1, ('Frankfurt', 'Hamburg'): 1, ('Hamburg', 'Paris'): 6, ('Paris', 'Hamburg'): 6, ('Hamburg', 'Madrid'): 6, ('Madrid', 'Hamburg'): 6, ('Hamburg', 'Barcelona'): 5, ('Barcelona', 'Hamburg'): 5, ('Stuttgart', 'Berlin'): 1, ('Berlin', 'Stuttgart'): 1, ('Stuttgart', 'Frankfurt'): 5, ('Frankfurt', 'Stuttgart'): 5, ('Stuttgart', 'Paris'): 4, ('Paris', 'Stuttgart'): 4, ('Stuttgart', 'Madrid'): 1, ('Madrid', 'Stuttgart'): 1, ('Stuttgart', 'Barcelona'): 1, ('Barcelona', 'Stuttgart'): 1, ('Berlin', 'Frankfurt'): 1, ('Frankfurt', 'Berlin'): 1, ('Berlin', 'Paris'): 2, ('Paris', 'Berlin'): 2, ('Berlin', 'Madrid'): 2, ('Madrid', 'Berlin'): 2, ('Berlin', 'Barcelona'): 5, ('Barcelona', 'Berlin'): 5, ('Frankfurt', 'Paris'): 5, ('Paris', 'Frankfurt'): 5, ('Frankfurt', 'Madrid'): 1, ('Madrid', 'Frankfurt'): 1, ('Frankfurt', 'Barcelona'): 5, ('Barcelona', 'Frankfurt'): 5, ('Paris', 'Madrid'): 2, ('Madrid', 'Paris'): 2, ('Paris', 'Barcelona'): 6, ('Barcelona', 'Paris'): 6, ('Madrid', 'Barcelona'): 6, ('Barcelona', 'Madrid'): 6}\n",
      "Distance Matrix:\n",
      "[[0 6 1 1 6 3 2 2]\n",
      " [6 0 2 6 1 6 6 5]\n",
      " [1 2 0 1 5 4 1 1]\n",
      " [1 6 1 0 1 2 2 5]\n",
      " [6 1 5 1 0 5 1 5]\n",
      " [3 6 4 2 5 0 2 6]\n",
      " [2 6 1 2 1 2 0 6]\n",
      " [2 5 1 5 5 6 6 0]]\n"
     ]
    }
   ],
   "source": [
    "\n",
    "from IPython.display import display, HTML\n",
    "from dimod import BinaryQuadraticModel\n",
    "import random\n",
    "import numpy as np\n",
    "import os\n",
    "import itertools\n",
    "import time\n",
    "from ortools.linear_solver import pywraplp\n",
    "from ortools.constraint_solver import pywrapcp, routing_enums_pb2\n",
    "\n",
    "random.seed(42)\n",
    "cities = [\"Munich\", \"Hamburg\", \"Stuttgart\", \"Berlin\", \"Frankfurt\", \"Paris\", \"Madrid\", \"Barcelona\"]\n",
    "n = len(cities)\n",
    "A = 10\n",
    "B = 10\n",
    "C = 1\n",
    "distances = {}\n",
    "for cindex1 in range(len(cities)-1):\n",
    "    c1 = cities[cindex1]\n",
    "    for cindex2 in range(cindex1+1,len(cities)):\n",
    "        c2 = cities[cindex2]\n",
    "        distances[c1,c2] = random.randint(1,6)\n",
    "        distances[c2,c1] = distances[c1,c2]\n",
    "\n",
    "print(distances)\n",
    "\n",
    "distance_matrix = np.zeros((n, n), dtype=int)\n",
    "for (c1, c2), dist in distances.items():\n",
    "    i, j = cities.index(c1), cities.index(c2)\n",
    "    distance_matrix[i, j] = distance_matrix[j, i] = dist\n",
    "\n",
    "print(\"Distance Matrix:\")\n",
    "print(distance_matrix)\n"
   ]
  },
  {
   "cell_type": "markdown",
   "id": "f599e553-ce16-4d85-b6cf-aa33ee803dd2",
   "metadata": {},
   "source": [
    "### Creates el data model"
   ]
  },
  {
   "cell_type": "code",
   "execution_count": 92,
   "id": "71bc3082-aab8-4f83-a209-c41f4a3c52f3",
   "metadata": {},
   "outputs": [],
   "source": [
    "from ortools.constraint_solver import pywrapcp\n",
    "from ortools.sat.python import cp_model\n",
    "\n",
    "# Definir el modelo de OR-Tools\n",
    "model = cp_model.CpModel()\n",
    "\n",
    "# Variables: x[t][c] es 1 si la ciudad c es visitada en el tiempo t\n",
    "x = {}\n",
    "for t in range(n):\n",
    "    for c in range(n):\n",
    "        x[t, c] = model.NewBoolVar(f'x[{t},{c}]')\n",
    "\n",
    "# Restricción 1: cada ciudad debe ser visitada exactamente una vez\n",
    "for c in range(n):\n",
    "    model.Add(sum(x[t, c] for t in range(n)) == 1)\n",
    "\n",
    "# Restricción 2: cada tiempo debe tener exactamente una ciudad\n",
    "for t in range(n):\n",
    "    model.Add(sum(x[t, c] for c in range(n)) == 1)\n",
    "\n",
    "\n",
    "# Función objetivo: minimizar la distancia total recorrida\n",
    "total_distance = model.NewIntVar(0, 10000, 'total_distance')\n",
    "\n",
    "# Crear una lista de términos a sumar\n",
    "terms = []\n",
    "for t in range(n - 1):\n",
    "    for c1 in range(n):\n",
    "        for c2 in range(n):\n",
    "            term = model.NewIntVar(0, 10000, f'term[{t},{c1},{c2}]')\n",
    "            model.AddMultiplicationEquality(term, [distance_matrix[c1, c2], x[t, c1], x[t + 1, c2]])\n",
    "            terms.append(term)\n",
    "\n",
    "# Añadir el término de la vuelta al inicio\n",
    "for c1 in range(n):\n",
    "    for c2 in range(n):\n",
    "        term = model.NewIntVar(0, 10000, f'term_end[{c1},{c2}]')\n",
    "        model.AddMultiplicationEquality(term, [distance_matrix[c2, c1], x[n - 1, c1], x[0, c2]])\n",
    "        terms.append(term)\n",
    "\n",
    "# Sumar todos los términos para definir la función objetivo\n",
    "model.Add(total_distance == sum(terms))\n",
    "model.Minimize(total_distance)\n"
   ]
  },
  {
   "cell_type": "markdown",
   "id": "f0c596a2-2591-4055-96f8-883a2a40e41a",
   "metadata": {},
   "source": [
    "### Find the minima usiNG ROUTINGModel"
   ]
  },
  {
   "cell_type": "code",
   "execution_count": 93,
   "id": "056f2d4d-febd-48e6-89fe-cd768e9c66d3",
   "metadata": {
    "scrolled": true
   },
   "outputs": [
    {
     "name": "stdout",
     "output_type": "stream",
     "text": [
      "La ruta óptima es: ['Munich', 'Barcelona', 'Stuttgart', 'Hamburg', 'Frankfurt', 'Madrid', 'Paris', 'Berlin']\n",
      "Distancia total recorrida: 12\n",
      "Tiempo de ejecución: 0.08057403564453125 segundos\n",
      "Incremento de uso de memoria: 1.14453125 MB\n",
      "CPU Solver Formatted Result:\n",
      "['Munich' 0 0 0 0 0 0 0]\n",
      "[0 0 0 0 0 0 0 'Barcelona']\n",
      "[0 0 'Stuttgart' 0 0 0 0 0]\n",
      "[0 'Hamburg' 0 0 0 0 0 0]\n",
      "[0 0 0 0 'Frankfurt' 0 0 0]\n",
      "[0 0 0 0 0 0 'Madrid' 0]\n",
      "[0 0 0 0 0 'Paris' 0 0]\n",
      "[0 0 0 'Berlin' 0 0 0 0]\n"
     ]
    }
   ],
   "source": [
    "import time\n",
    "import psutil \n",
    "import numpy as np\n",
    "\n",
    "def get_memory_usage():\n",
    "    process = psutil.Process()\n",
    "    return process.memory_info().rss / 1024 / 1024  # Convertir a MB\n",
    "\n",
    "# Resolver el problema\n",
    "solver = cp_model.CpSolver()\n",
    "start_time = time.time()\n",
    "initial_memory = get_memory_usage()\n",
    "status = solver.Solve(model)\n",
    "end_time = time.time()\n",
    "final_memory = get_memory_usage()\n",
    "execution_time = end_time - start_time\n",
    "\n",
    "# Mostrar resultados\n",
    "if status == cp_model.OPTIMAL or status == cp_model.FEASIBLE:\n",
    "    route = [-1] * n\n",
    "    for t in range(n):\n",
    "        for c in range(n):\n",
    "            if solver.BooleanValue(x[t, c]):\n",
    "                route[t] = c\n",
    "    total_distance_value = solver.Value(total_distance)\n",
    "    \n",
    "    print(\"La ruta óptima es:\", [cities[i] for i in route])\n",
    "    print(\"Distancia total recorrida:\", total_distance_value)\n",
    "    print(\"Tiempo de ejecución:\", execution_time, \"segundos\")\n",
    "\n",
    "else:\n",
    "    print(\"No se encontró una solución óptima.\")\n",
    "\n",
    "# Construir la matriz resultado para visualizar la ruta\n",
    "result = np.zeros((n, n), dtype=object)\n",
    "for t in range(n):\n",
    "    for c in range(n):\n",
    "        if solver.BooleanValue(x[t, c]):\n",
    "            result[t, c] = cities[c]\n",
    "        else:\n",
    "            result[t, c] = 0\n",
    "print(\"Incremento de uso de memoria:\", final_memory - initial_memory, \"MB\")\n",
    "print(\"CPU Solver Formatted Result:\")\n",
    "for row in result:\n",
    "    print(row)"
   ]
  },
  {
   "cell_type": "markdown",
   "id": "81a5888f-4e59-487e-b650-3a9dd24f2a60",
   "metadata": {},
   "source": [
    "### Draw Solution"
   ]
  },
  {
   "cell_type": "code",
   "execution_count": 41,
   "id": "788964cf-e5de-466c-8c23-301dff0c9c7c",
   "metadata": {},
   "outputs": [
    {
     "ename": "NameError",
     "evalue": "name 'sorted_route' is not defined",
     "output_type": "error",
     "traceback": [
      "\u001b[0;31m---------------------------------------------------------------------------\u001b[0m",
      "\u001b[0;31mNameError\u001b[0m                                 Traceback (most recent call last)",
      "Cell \u001b[0;32mIn[41], line 49\u001b[0m\n\u001b[1;32m     46\u001b[0m     plt\u001b[38;5;241m.\u001b[39mshow()\n\u001b[1;32m     48\u001b[0m \u001b[38;5;66;03m# Llamar a la función para dibujar la ruta con distancias\u001b[39;00m\n\u001b[0;32m---> 49\u001b[0m plot_route(\u001b[43msorted_route\u001b[49m, cities, distance_matrix)\n",
      "\u001b[0;31mNameError\u001b[0m: name 'sorted_route' is not defined"
     ]
    }
   ],
   "source": [
    "import matplotlib.pyplot as plt\n",
    "import numpy as np\n",
    "\n",
    "# Función para visualizar la ruta y las distancias entre ciudades\n",
    "def plot_route(route, cities, distance_matrix):\n",
    "    n = len(cities)\n",
    "    plt.figure(figsize=(10, 10))  # Aumentar el tamaño del gráfico\n",
    "    ax = plt.gca()\n",
    "\n",
    "    # Coordenadas de las ciudades (para visualización)\n",
    "    coords = np.random.rand(n, 2) * 100  # Coordenadas aleatorias en un plano 100x100\n",
    "    for i, (x, y) in enumerate(coords):\n",
    "        ax.plot(x, y, 'o', markersize=10, label=cities[i])\n",
    "        ax.text(x, y, f' {cities[i]}', fontsize=12)\n",
    "\n",
    "    # Dibujar la ruta y añadir las distancias\n",
    "    total_distance = 0\n",
    "    for i in range(n):\n",
    "        start_city = route[i]\n",
    "        end_city = route[(i + 1) % n]\n",
    "        start_coord = coords[start_city]\n",
    "        end_coord = coords[end_city]\n",
    "        ax.plot([start_coord[0], end_coord[0]], [start_coord[1], end_coord[1]], 'k-')\n",
    "        \n",
    "        # Calcular el punto medio para poner la etiqueta de la distancia\n",
    "        mid_point = (start_coord + end_coord) / 2\n",
    "        distance = distance_matrix[start_city, end_city]\n",
    "        total_distance += distance\n",
    "        \n",
    "        # Ajustar posición de la etiqueta para que no se solape\n",
    "        label_offset = np.array([0, 0])  # Ajuste vertical\n",
    "        if start_coord[0] > end_coord[0]:\n",
    "            label_offset[0] = -15  # Ajuste horizontal si necesario\n",
    "        ax.text(mid_point[0] + label_offset[0], mid_point[1] + label_offset[1], \n",
    "                f'{distance}', color='red', fontsize=10, ha='center')\n",
    "\n",
    "    # Dibujar la línea de regreso a la ciudad inicial\n",
    "    start_city = route[0]\n",
    "    start_coord = coords[start_city]\n",
    "    end_coord = coords[route[-1]]\n",
    "    ax.plot([start_coord[0], end_coord[0]], [start_coord[1], end_coord[1]], 'k-')\n",
    "\n",
    "    plt.title(f\"Ruta Óptima del Viajante - Distancia Total: {total_distance}\")\n",
    "    plt.legend()\n",
    "    plt.grid(True)\n",
    "    plt.show()\n",
    "\n",
    "# Llamar a la función para dibujar la ruta con distancias\n",
    "plot_route(sorted_route, cities, distance_matrix)\n"
   ]
  },
  {
   "cell_type": "code",
   "execution_count": null,
   "id": "77e5e01b-e630-4724-9604-81dcb69f63d1",
   "metadata": {},
   "outputs": [],
   "source": []
  },
  {
   "cell_type": "code",
   "execution_count": null,
   "id": "97e2752a-c151-4017-8e77-59e39ec0cdeb",
   "metadata": {},
   "outputs": [],
   "source": []
  }
 ],
 "metadata": {
  "kernelspec": {
   "display_name": "Python 3 (ipykernel)",
   "language": "python",
   "name": "python3"
  },
  "language_info": {
   "codemirror_mode": {
    "name": "ipython",
    "version": 3
   },
   "file_extension": ".py",
   "mimetype": "text/x-python",
   "name": "python",
   "nbconvert_exporter": "python",
   "pygments_lexer": "ipython3",
   "version": "3.10.13"
  }
 },
 "nbformat": 4,
 "nbformat_minor": 5
}
