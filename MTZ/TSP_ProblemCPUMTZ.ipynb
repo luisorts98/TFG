{
  "cells": [
    {
      "cell_type": "markdown",
      "id": "92884eac-2880-426f-992f-43ac4bb8e3e8",
      "metadata": {
        "id": "92884eac-2880-426f-992f-43ac4bb8e3e8"
      },
      "source": [
        "## Travelling Salesman problem"
      ]
    },
    {
      "cell_type": "code",
      "source": [
        "!pip install -r \"requirements_unix.txt\""
      ],
      "metadata": {
        "colab": {
          "base_uri": "https://localhost:8080/"
        },
        "id": "I7rehRiYrICw",
        "outputId": "9d5686de-10ad-4fc0-9876-5acc311756e1"
      },
      "id": "I7rehRiYrICw",
      "execution_count": 2,
      "outputs": [
        {
          "output_type": "stream",
          "name": "stdout",
          "text": [
            "Processing ./dadk_light_3.10.tar.bz2\n",
            "  Preparing metadata (setup.py) ... \u001b[?25l\u001b[?25hdone\n",
            "Requirement already satisfied: matplotlib==3.8.2 in /usr/local/lib/python3.10/dist-packages (from -r requirements_unix.txt (line 3)) (3.8.2)\n",
            "Requirement already satisfied: networkx==3.2.1 in /usr/local/lib/python3.10/dist-packages (from -r requirements_unix.txt (line 4)) (3.2.1)\n",
            "Requirement already satisfied: openpyxl==3.1.2 in /usr/local/lib/python3.10/dist-packages (from -r requirements_unix.txt (line 5)) (3.1.2)\n",
            "Requirement already satisfied: pandas==2.1.4 in /usr/local/lib/python3.10/dist-packages (from -r requirements_unix.txt (line 6)) (2.1.4)\n",
            "Requirement already satisfied: plotly==5.18.0 in /usr/local/lib/python3.10/dist-packages (from -r requirements_unix.txt (line 7)) (5.18.0)\n",
            "Requirement already satisfied: scikit-learn==1.3.2 in /usr/local/lib/python3.10/dist-packages (from -r requirements_unix.txt (line 8)) (1.3.2)\n",
            "Requirement already satisfied: scipy==1.11.4 in /usr/local/lib/python3.10/dist-packages (from -r requirements_unix.txt (line 9)) (1.11.4)\n",
            "Requirement already satisfied: seaborn==0.13.0 in /usr/local/lib/python3.10/dist-packages (from -r requirements_unix.txt (line 10)) (0.13.0)\n",
            "Requirement already satisfied: contourpy>=1.0.1 in /usr/local/lib/python3.10/dist-packages (from matplotlib==3.8.2->-r requirements_unix.txt (line 3)) (1.2.1)\n",
            "Requirement already satisfied: cycler>=0.10 in /usr/local/lib/python3.10/dist-packages (from matplotlib==3.8.2->-r requirements_unix.txt (line 3)) (0.12.1)\n",
            "Requirement already satisfied: fonttools>=4.22.0 in /usr/local/lib/python3.10/dist-packages (from matplotlib==3.8.2->-r requirements_unix.txt (line 3)) (4.53.0)\n",
            "Requirement already satisfied: kiwisolver>=1.3.1 in /usr/local/lib/python3.10/dist-packages (from matplotlib==3.8.2->-r requirements_unix.txt (line 3)) (1.4.5)\n",
            "Requirement already satisfied: numpy<2,>=1.21 in /usr/local/lib/python3.10/dist-packages (from matplotlib==3.8.2->-r requirements_unix.txt (line 3)) (1.25.2)\n",
            "Requirement already satisfied: packaging>=20.0 in /usr/local/lib/python3.10/dist-packages (from matplotlib==3.8.2->-r requirements_unix.txt (line 3)) (24.1)\n",
            "Requirement already satisfied: pillow>=8 in /usr/local/lib/python3.10/dist-packages (from matplotlib==3.8.2->-r requirements_unix.txt (line 3)) (9.4.0)\n",
            "Requirement already satisfied: pyparsing>=2.3.1 in /usr/local/lib/python3.10/dist-packages (from matplotlib==3.8.2->-r requirements_unix.txt (line 3)) (3.1.2)\n",
            "Requirement already satisfied: python-dateutil>=2.7 in /usr/local/lib/python3.10/dist-packages (from matplotlib==3.8.2->-r requirements_unix.txt (line 3)) (2.8.2)\n",
            "Requirement already satisfied: et-xmlfile in /usr/local/lib/python3.10/dist-packages (from openpyxl==3.1.2->-r requirements_unix.txt (line 5)) (1.1.0)\n",
            "Requirement already satisfied: pytz>=2020.1 in /usr/local/lib/python3.10/dist-packages (from pandas==2.1.4->-r requirements_unix.txt (line 6)) (2023.4)\n",
            "Requirement already satisfied: tzdata>=2022.1 in /usr/local/lib/python3.10/dist-packages (from pandas==2.1.4->-r requirements_unix.txt (line 6)) (2024.1)\n",
            "Requirement already satisfied: tenacity>=6.2.0 in /usr/local/lib/python3.10/dist-packages (from plotly==5.18.0->-r requirements_unix.txt (line 7)) (8.4.1)\n",
            "Requirement already satisfied: joblib>=1.1.1 in /usr/local/lib/python3.10/dist-packages (from scikit-learn==1.3.2->-r requirements_unix.txt (line 8)) (1.4.2)\n",
            "Requirement already satisfied: threadpoolctl>=2.0.0 in /usr/local/lib/python3.10/dist-packages (from scikit-learn==1.3.2->-r requirements_unix.txt (line 8)) (3.5.0)\n",
            "Requirement already satisfied: MarkupSafe in /usr/local/lib/python3.10/dist-packages (from dadk==2023.12.10->-r requirements_unix.txt (line 11)) (2.1.5)\n",
            "Requirement already satisfied: XlsxWriter in /usr/local/lib/python3.10/dist-packages (from dadk==2023.12.10->-r requirements_unix.txt (line 11)) (3.2.0)\n",
            "Requirement already satisfied: auth0-python in /usr/local/lib/python3.10/dist-packages (from dadk==2023.12.10->-r requirements_unix.txt (line 11)) (4.7.1)\n",
            "Requirement already satisfied: azure-storage-blob in /usr/local/lib/python3.10/dist-packages (from dadk==2023.12.10->-r requirements_unix.txt (line 11)) (12.20.0)\n",
            "Requirement already satisfied: bqplot in /usr/local/lib/python3.10/dist-packages (from dadk==2023.12.10->-r requirements_unix.txt (line 11)) (0.12.43)\n",
            "Requirement already satisfied: colorama in /usr/local/lib/python3.10/dist-packages (from dadk==2023.12.10->-r requirements_unix.txt (line 11)) (0.4.6)\n",
            "Requirement already satisfied: future in /usr/local/lib/python3.10/dist-packages (from dadk==2023.12.10->-r requirements_unix.txt (line 11)) (0.18.3)\n",
            "Requirement already satisfied: h5py in /usr/local/lib/python3.10/dist-packages (from dadk==2023.12.10->-r requirements_unix.txt (line 11)) (3.9.0)\n",
            "Requirement already satisfied: htmlentities in /usr/local/lib/python3.10/dist-packages (from dadk==2023.12.10->-r requirements_unix.txt (line 11)) (0.3.0)\n",
            "Requirement already satisfied: imageio in /usr/local/lib/python3.10/dist-packages (from dadk==2023.12.10->-r requirements_unix.txt (line 11)) (2.31.6)\n",
            "Requirement already satisfied: ipyevents in /usr/local/lib/python3.10/dist-packages (from dadk==2023.12.10->-r requirements_unix.txt (line 11)) (2.0.2)\n",
            "Requirement already satisfied: ipympl in /usr/local/lib/python3.10/dist-packages (from dadk==2023.12.10->-r requirements_unix.txt (line 11)) (0.9.4)\n",
            "Requirement already satisfied: ipytree in /usr/local/lib/python3.10/dist-packages (from dadk==2023.12.10->-r requirements_unix.txt (line 11)) (0.2.2)\n",
            "Requirement already satisfied: ipywidgets in /usr/local/lib/python3.10/dist-packages (from dadk==2023.12.10->-r requirements_unix.txt (line 11)) (7.7.1)\n",
            "Requirement already satisfied: JSON_minify in /usr/local/lib/python3.10/dist-packages (from dadk==2023.12.10->-r requirements_unix.txt (line 11)) (0.3.0)\n",
            "Requirement already satisfied: k3d in /usr/local/lib/python3.10/dist-packages (from dadk==2023.12.10->-r requirements_unix.txt (line 11)) (2.16.1)\n",
            "Requirement already satisfied: keyboard in /usr/local/lib/python3.10/dist-packages (from dadk==2023.12.10->-r requirements_unix.txt (line 11)) (0.13.5)\n",
            "Requirement already satisfied: lark-parser in /usr/local/lib/python3.10/dist-packages (from dadk==2023.12.10->-r requirements_unix.txt (line 11)) (0.12.0)\n",
            "Requirement already satisfied: multiprocess in /usr/local/lib/python3.10/dist-packages (from dadk==2023.12.10->-r requirements_unix.txt (line 11)) (0.70.16)\n",
            "Requirement already satisfied: numba in /usr/local/lib/python3.10/dist-packages (from dadk==2023.12.10->-r requirements_unix.txt (line 11)) (0.58.1)\n",
            "Requirement already satisfied: optuna in /usr/local/lib/python3.10/dist-packages (from dadk==2023.12.10->-r requirements_unix.txt (line 11)) (3.6.1)\n",
            "Requirement already satisfied: pyjwt in /usr/local/lib/python3.10/dist-packages (from dadk==2023.12.10->-r requirements_unix.txt (line 11)) (2.8.0)\n",
            "Requirement already satisfied: pyyaml in /usr/local/lib/python3.10/dist-packages (from dadk==2023.12.10->-r requirements_unix.txt (line 11)) (6.0.1)\n",
            "Requirement already satisfied: requests in /usr/local/lib/python3.10/dist-packages (from dadk==2023.12.10->-r requirements_unix.txt (line 11)) (2.31.0)\n",
            "Requirement already satisfied: tabulate in /usr/local/lib/python3.10/dist-packages (from dadk==2023.12.10->-r requirements_unix.txt (line 11)) (0.9.0)\n",
            "Requirement already satisfied: termcolor in /usr/local/lib/python3.10/dist-packages (from dadk==2023.12.10->-r requirements_unix.txt (line 11)) (2.4.0)\n",
            "Requirement already satisfied: six>=1.5 in /usr/local/lib/python3.10/dist-packages (from python-dateutil>=2.7->matplotlib==3.8.2->-r requirements_unix.txt (line 3)) (1.16.0)\n",
            "Requirement already satisfied: aiohttp<4.0.0,>=3.8.5 in /usr/local/lib/python3.10/dist-packages (from auth0-python->dadk==2023.12.10->-r requirements_unix.txt (line 11)) (3.9.5)\n",
            "Requirement already satisfied: cryptography<43.0.0,>=42.0.4 in /usr/local/lib/python3.10/dist-packages (from auth0-python->dadk==2023.12.10->-r requirements_unix.txt (line 11)) (42.0.8)\n",
            "Requirement already satisfied: urllib3<3.0.0,>=2.0.7 in /usr/local/lib/python3.10/dist-packages (from auth0-python->dadk==2023.12.10->-r requirements_unix.txt (line 11)) (2.0.7)\n",
            "Requirement already satisfied: charset-normalizer<4,>=2 in /usr/local/lib/python3.10/dist-packages (from requests->dadk==2023.12.10->-r requirements_unix.txt (line 11)) (3.3.2)\n",
            "Requirement already satisfied: idna<4,>=2.5 in /usr/local/lib/python3.10/dist-packages (from requests->dadk==2023.12.10->-r requirements_unix.txt (line 11)) (3.7)\n",
            "Requirement already satisfied: certifi>=2017.4.17 in /usr/local/lib/python3.10/dist-packages (from requests->dadk==2023.12.10->-r requirements_unix.txt (line 11)) (2024.6.2)\n",
            "Requirement already satisfied: azure-core>=1.28.0 in /usr/local/lib/python3.10/dist-packages (from azure-storage-blob->dadk==2023.12.10->-r requirements_unix.txt (line 11)) (1.30.2)\n",
            "Requirement already satisfied: typing-extensions>=4.6.0 in /usr/local/lib/python3.10/dist-packages (from azure-storage-blob->dadk==2023.12.10->-r requirements_unix.txt (line 11)) (4.12.2)\n",
            "Requirement already satisfied: isodate>=0.6.1 in /usr/local/lib/python3.10/dist-packages (from azure-storage-blob->dadk==2023.12.10->-r requirements_unix.txt (line 11)) (0.6.1)\n",
            "Requirement already satisfied: traitlets>=4.3.0 in /usr/local/lib/python3.10/dist-packages (from bqplot->dadk==2023.12.10->-r requirements_unix.txt (line 11)) (5.7.1)\n",
            "Requirement already satisfied: traittypes>=0.0.6 in /usr/local/lib/python3.10/dist-packages (from bqplot->dadk==2023.12.10->-r requirements_unix.txt (line 11)) (0.2.1)\n",
            "Requirement already satisfied: ipykernel>=4.5.1 in /usr/local/lib/python3.10/dist-packages (from ipywidgets->dadk==2023.12.10->-r requirements_unix.txt (line 11)) (5.5.6)\n",
            "Requirement already satisfied: ipython-genutils~=0.2.0 in /usr/local/lib/python3.10/dist-packages (from ipywidgets->dadk==2023.12.10->-r requirements_unix.txt (line 11)) (0.2.0)\n",
            "Requirement already satisfied: widgetsnbextension~=3.6.0 in /usr/local/lib/python3.10/dist-packages (from ipywidgets->dadk==2023.12.10->-r requirements_unix.txt (line 11)) (3.6.6)\n",
            "Requirement already satisfied: ipython>=4.0.0 in /usr/local/lib/python3.10/dist-packages (from ipywidgets->dadk==2023.12.10->-r requirements_unix.txt (line 11)) (7.34.0)\n",
            "Requirement already satisfied: jupyterlab-widgets>=1.0.0 in /usr/local/lib/python3.10/dist-packages (from ipywidgets->dadk==2023.12.10->-r requirements_unix.txt (line 11)) (3.0.11)\n",
            "Requirement already satisfied: msgpack in /usr/local/lib/python3.10/dist-packages (from k3d->dadk==2023.12.10->-r requirements_unix.txt (line 11)) (1.0.8)\n",
            "Requirement already satisfied: dill>=0.3.8 in /usr/local/lib/python3.10/dist-packages (from multiprocess->dadk==2023.12.10->-r requirements_unix.txt (line 11)) (0.3.8)\n",
            "Requirement already satisfied: llvmlite<0.42,>=0.41.0dev0 in /usr/local/lib/python3.10/dist-packages (from numba->dadk==2023.12.10->-r requirements_unix.txt (line 11)) (0.41.1)\n",
            "Requirement already satisfied: alembic>=1.5.0 in /usr/local/lib/python3.10/dist-packages (from optuna->dadk==2023.12.10->-r requirements_unix.txt (line 11)) (1.13.1)\n",
            "Requirement already satisfied: colorlog in /usr/local/lib/python3.10/dist-packages (from optuna->dadk==2023.12.10->-r requirements_unix.txt (line 11)) (6.8.2)\n",
            "Requirement already satisfied: sqlalchemy>=1.3.0 in /usr/local/lib/python3.10/dist-packages (from optuna->dadk==2023.12.10->-r requirements_unix.txt (line 11)) (2.0.30)\n",
            "Requirement already satisfied: tqdm in /usr/local/lib/python3.10/dist-packages (from optuna->dadk==2023.12.10->-r requirements_unix.txt (line 11)) (4.66.4)\n",
            "Requirement already satisfied: aiosignal>=1.1.2 in /usr/local/lib/python3.10/dist-packages (from aiohttp<4.0.0,>=3.8.5->auth0-python->dadk==2023.12.10->-r requirements_unix.txt (line 11)) (1.3.1)\n",
            "Requirement already satisfied: attrs>=17.3.0 in /usr/local/lib/python3.10/dist-packages (from aiohttp<4.0.0,>=3.8.5->auth0-python->dadk==2023.12.10->-r requirements_unix.txt (line 11)) (23.2.0)\n",
            "Requirement already satisfied: frozenlist>=1.1.1 in /usr/local/lib/python3.10/dist-packages (from aiohttp<4.0.0,>=3.8.5->auth0-python->dadk==2023.12.10->-r requirements_unix.txt (line 11)) (1.4.1)\n",
            "Requirement already satisfied: multidict<7.0,>=4.5 in /usr/local/lib/python3.10/dist-packages (from aiohttp<4.0.0,>=3.8.5->auth0-python->dadk==2023.12.10->-r requirements_unix.txt (line 11)) (6.0.5)\n",
            "Requirement already satisfied: yarl<2.0,>=1.0 in /usr/local/lib/python3.10/dist-packages (from aiohttp<4.0.0,>=3.8.5->auth0-python->dadk==2023.12.10->-r requirements_unix.txt (line 11)) (1.9.4)\n",
            "Requirement already satisfied: async-timeout<5.0,>=4.0 in /usr/local/lib/python3.10/dist-packages (from aiohttp<4.0.0,>=3.8.5->auth0-python->dadk==2023.12.10->-r requirements_unix.txt (line 11)) (4.0.3)\n",
            "Requirement already satisfied: Mako in /usr/local/lib/python3.10/dist-packages (from alembic>=1.5.0->optuna->dadk==2023.12.10->-r requirements_unix.txt (line 11)) (1.3.5)\n",
            "Requirement already satisfied: cffi>=1.12 in /usr/local/lib/python3.10/dist-packages (from cryptography<43.0.0,>=42.0.4->auth0-python->dadk==2023.12.10->-r requirements_unix.txt (line 11)) (1.16.0)\n",
            "Requirement already satisfied: jupyter-client in /usr/local/lib/python3.10/dist-packages (from ipykernel>=4.5.1->ipywidgets->dadk==2023.12.10->-r requirements_unix.txt (line 11)) (6.1.12)\n",
            "Requirement already satisfied: tornado>=4.2 in /usr/local/lib/python3.10/dist-packages (from ipykernel>=4.5.1->ipywidgets->dadk==2023.12.10->-r requirements_unix.txt (line 11)) (6.3.3)\n",
            "Requirement already satisfied: setuptools>=18.5 in /usr/local/lib/python3.10/dist-packages (from ipython>=4.0.0->ipywidgets->dadk==2023.12.10->-r requirements_unix.txt (line 11)) (67.7.2)\n",
            "Requirement already satisfied: jedi>=0.16 in /usr/local/lib/python3.10/dist-packages (from ipython>=4.0.0->ipywidgets->dadk==2023.12.10->-r requirements_unix.txt (line 11)) (0.19.1)\n",
            "Requirement already satisfied: decorator in /usr/local/lib/python3.10/dist-packages (from ipython>=4.0.0->ipywidgets->dadk==2023.12.10->-r requirements_unix.txt (line 11)) (4.4.2)\n",
            "Requirement already satisfied: pickleshare in /usr/local/lib/python3.10/dist-packages (from ipython>=4.0.0->ipywidgets->dadk==2023.12.10->-r requirements_unix.txt (line 11)) (0.7.5)\n",
            "Requirement already satisfied: prompt-toolkit!=3.0.0,!=3.0.1,<3.1.0,>=2.0.0 in /usr/local/lib/python3.10/dist-packages (from ipython>=4.0.0->ipywidgets->dadk==2023.12.10->-r requirements_unix.txt (line 11)) (3.0.47)\n",
            "Requirement already satisfied: pygments in /usr/local/lib/python3.10/dist-packages (from ipython>=4.0.0->ipywidgets->dadk==2023.12.10->-r requirements_unix.txt (line 11)) (2.16.1)\n",
            "Requirement already satisfied: backcall in /usr/local/lib/python3.10/dist-packages (from ipython>=4.0.0->ipywidgets->dadk==2023.12.10->-r requirements_unix.txt (line 11)) (0.2.0)\n",
            "Requirement already satisfied: matplotlib-inline in /usr/local/lib/python3.10/dist-packages (from ipython>=4.0.0->ipywidgets->dadk==2023.12.10->-r requirements_unix.txt (line 11)) (0.1.7)\n",
            "Requirement already satisfied: pexpect>4.3 in /usr/local/lib/python3.10/dist-packages (from ipython>=4.0.0->ipywidgets->dadk==2023.12.10->-r requirements_unix.txt (line 11)) (4.9.0)\n",
            "Requirement already satisfied: greenlet!=0.4.17 in /usr/local/lib/python3.10/dist-packages (from sqlalchemy>=1.3.0->optuna->dadk==2023.12.10->-r requirements_unix.txt (line 11)) (3.0.3)\n",
            "Requirement already satisfied: notebook>=4.4.1 in /usr/local/lib/python3.10/dist-packages (from widgetsnbextension~=3.6.0->ipywidgets->dadk==2023.12.10->-r requirements_unix.txt (line 11)) (6.5.5)\n",
            "Requirement already satisfied: pycparser in /usr/local/lib/python3.10/dist-packages (from cffi>=1.12->cryptography<43.0.0,>=42.0.4->auth0-python->dadk==2023.12.10->-r requirements_unix.txt (line 11)) (2.22)\n",
            "Requirement already satisfied: parso<0.9.0,>=0.8.3 in /usr/local/lib/python3.10/dist-packages (from jedi>=0.16->ipython>=4.0.0->ipywidgets->dadk==2023.12.10->-r requirements_unix.txt (line 11)) (0.8.4)\n",
            "Requirement already satisfied: jinja2 in /usr/local/lib/python3.10/dist-packages (from notebook>=4.4.1->widgetsnbextension~=3.6.0->ipywidgets->dadk==2023.12.10->-r requirements_unix.txt (line 11)) (3.1.4)\n",
            "Requirement already satisfied: pyzmq<25,>=17 in /usr/local/lib/python3.10/dist-packages (from notebook>=4.4.1->widgetsnbextension~=3.6.0->ipywidgets->dadk==2023.12.10->-r requirements_unix.txt (line 11)) (24.0.1)\n",
            "Requirement already satisfied: argon2-cffi in /usr/local/lib/python3.10/dist-packages (from notebook>=4.4.1->widgetsnbextension~=3.6.0->ipywidgets->dadk==2023.12.10->-r requirements_unix.txt (line 11)) (23.1.0)\n",
            "Requirement already satisfied: jupyter-core>=4.6.1 in /usr/local/lib/python3.10/dist-packages (from notebook>=4.4.1->widgetsnbextension~=3.6.0->ipywidgets->dadk==2023.12.10->-r requirements_unix.txt (line 11)) (5.7.2)\n",
            "Requirement already satisfied: nbformat in /usr/local/lib/python3.10/dist-packages (from notebook>=4.4.1->widgetsnbextension~=3.6.0->ipywidgets->dadk==2023.12.10->-r requirements_unix.txt (line 11)) (5.10.4)\n",
            "Requirement already satisfied: nbconvert>=5 in /usr/local/lib/python3.10/dist-packages (from notebook>=4.4.1->widgetsnbextension~=3.6.0->ipywidgets->dadk==2023.12.10->-r requirements_unix.txt (line 11)) (6.5.4)\n",
            "Requirement already satisfied: nest-asyncio>=1.5 in /usr/local/lib/python3.10/dist-packages (from notebook>=4.4.1->widgetsnbextension~=3.6.0->ipywidgets->dadk==2023.12.10->-r requirements_unix.txt (line 11)) (1.6.0)\n",
            "Requirement already satisfied: Send2Trash>=1.8.0 in /usr/local/lib/python3.10/dist-packages (from notebook>=4.4.1->widgetsnbextension~=3.6.0->ipywidgets->dadk==2023.12.10->-r requirements_unix.txt (line 11)) (1.8.3)\n",
            "Requirement already satisfied: terminado>=0.8.3 in /usr/local/lib/python3.10/dist-packages (from notebook>=4.4.1->widgetsnbextension~=3.6.0->ipywidgets->dadk==2023.12.10->-r requirements_unix.txt (line 11)) (0.18.1)\n",
            "Requirement already satisfied: prometheus-client in /usr/local/lib/python3.10/dist-packages (from notebook>=4.4.1->widgetsnbextension~=3.6.0->ipywidgets->dadk==2023.12.10->-r requirements_unix.txt (line 11)) (0.20.0)\n",
            "Requirement already satisfied: nbclassic>=0.4.7 in /usr/local/lib/python3.10/dist-packages (from notebook>=4.4.1->widgetsnbextension~=3.6.0->ipywidgets->dadk==2023.12.10->-r requirements_unix.txt (line 11)) (1.1.0)\n",
            "Requirement already satisfied: ptyprocess>=0.5 in /usr/local/lib/python3.10/dist-packages (from pexpect>4.3->ipython>=4.0.0->ipywidgets->dadk==2023.12.10->-r requirements_unix.txt (line 11)) (0.7.0)\n",
            "Requirement already satisfied: wcwidth in /usr/local/lib/python3.10/dist-packages (from prompt-toolkit!=3.0.0,!=3.0.1,<3.1.0,>=2.0.0->ipython>=4.0.0->ipywidgets->dadk==2023.12.10->-r requirements_unix.txt (line 11)) (0.2.13)\n",
            "Requirement already satisfied: platformdirs>=2.5 in /usr/local/lib/python3.10/dist-packages (from jupyter-core>=4.6.1->notebook>=4.4.1->widgetsnbextension~=3.6.0->ipywidgets->dadk==2023.12.10->-r requirements_unix.txt (line 11)) (4.2.2)\n",
            "Requirement already satisfied: notebook-shim>=0.2.3 in /usr/local/lib/python3.10/dist-packages (from nbclassic>=0.4.7->notebook>=4.4.1->widgetsnbextension~=3.6.0->ipywidgets->dadk==2023.12.10->-r requirements_unix.txt (line 11)) (0.2.4)\n",
            "Requirement already satisfied: lxml in /usr/local/lib/python3.10/dist-packages (from nbconvert>=5->notebook>=4.4.1->widgetsnbextension~=3.6.0->ipywidgets->dadk==2023.12.10->-r requirements_unix.txt (line 11)) (4.9.4)\n",
            "Requirement already satisfied: beautifulsoup4 in /usr/local/lib/python3.10/dist-packages (from nbconvert>=5->notebook>=4.4.1->widgetsnbextension~=3.6.0->ipywidgets->dadk==2023.12.10->-r requirements_unix.txt (line 11)) (4.12.3)\n",
            "Requirement already satisfied: bleach in /usr/local/lib/python3.10/dist-packages (from nbconvert>=5->notebook>=4.4.1->widgetsnbextension~=3.6.0->ipywidgets->dadk==2023.12.10->-r requirements_unix.txt (line 11)) (6.1.0)\n",
            "Requirement already satisfied: defusedxml in /usr/local/lib/python3.10/dist-packages (from nbconvert>=5->notebook>=4.4.1->widgetsnbextension~=3.6.0->ipywidgets->dadk==2023.12.10->-r requirements_unix.txt (line 11)) (0.7.1)\n",
            "Requirement already satisfied: entrypoints>=0.2.2 in /usr/local/lib/python3.10/dist-packages (from nbconvert>=5->notebook>=4.4.1->widgetsnbextension~=3.6.0->ipywidgets->dadk==2023.12.10->-r requirements_unix.txt (line 11)) (0.4)\n",
            "Requirement already satisfied: jupyterlab-pygments in /usr/local/lib/python3.10/dist-packages (from nbconvert>=5->notebook>=4.4.1->widgetsnbextension~=3.6.0->ipywidgets->dadk==2023.12.10->-r requirements_unix.txt (line 11)) (0.3.0)\n",
            "Requirement already satisfied: mistune<2,>=0.8.1 in /usr/local/lib/python3.10/dist-packages (from nbconvert>=5->notebook>=4.4.1->widgetsnbextension~=3.6.0->ipywidgets->dadk==2023.12.10->-r requirements_unix.txt (line 11)) (0.8.4)\n",
            "Requirement already satisfied: nbclient>=0.5.0 in /usr/local/lib/python3.10/dist-packages (from nbconvert>=5->notebook>=4.4.1->widgetsnbextension~=3.6.0->ipywidgets->dadk==2023.12.10->-r requirements_unix.txt (line 11)) (0.10.0)\n",
            "Requirement already satisfied: pandocfilters>=1.4.1 in /usr/local/lib/python3.10/dist-packages (from nbconvert>=5->notebook>=4.4.1->widgetsnbextension~=3.6.0->ipywidgets->dadk==2023.12.10->-r requirements_unix.txt (line 11)) (1.5.1)\n",
            "Requirement already satisfied: tinycss2 in /usr/local/lib/python3.10/dist-packages (from nbconvert>=5->notebook>=4.4.1->widgetsnbextension~=3.6.0->ipywidgets->dadk==2023.12.10->-r requirements_unix.txt (line 11)) (1.3.0)\n",
            "Requirement already satisfied: fastjsonschema>=2.15 in /usr/local/lib/python3.10/dist-packages (from nbformat->notebook>=4.4.1->widgetsnbextension~=3.6.0->ipywidgets->dadk==2023.12.10->-r requirements_unix.txt (line 11)) (2.20.0)\n",
            "Requirement already satisfied: jsonschema>=2.6 in /usr/local/lib/python3.10/dist-packages (from nbformat->notebook>=4.4.1->widgetsnbextension~=3.6.0->ipywidgets->dadk==2023.12.10->-r requirements_unix.txt (line 11)) (4.19.2)\n",
            "Requirement already satisfied: argon2-cffi-bindings in /usr/local/lib/python3.10/dist-packages (from argon2-cffi->notebook>=4.4.1->widgetsnbextension~=3.6.0->ipywidgets->dadk==2023.12.10->-r requirements_unix.txt (line 11)) (21.2.0)\n",
            "Requirement already satisfied: jsonschema-specifications>=2023.03.6 in /usr/local/lib/python3.10/dist-packages (from jsonschema>=2.6->nbformat->notebook>=4.4.1->widgetsnbextension~=3.6.0->ipywidgets->dadk==2023.12.10->-r requirements_unix.txt (line 11)) (2023.12.1)\n",
            "Requirement already satisfied: referencing>=0.28.4 in /usr/local/lib/python3.10/dist-packages (from jsonschema>=2.6->nbformat->notebook>=4.4.1->widgetsnbextension~=3.6.0->ipywidgets->dadk==2023.12.10->-r requirements_unix.txt (line 11)) (0.35.1)\n",
            "Requirement already satisfied: rpds-py>=0.7.1 in /usr/local/lib/python3.10/dist-packages (from jsonschema>=2.6->nbformat->notebook>=4.4.1->widgetsnbextension~=3.6.0->ipywidgets->dadk==2023.12.10->-r requirements_unix.txt (line 11)) (0.18.1)\n",
            "Requirement already satisfied: jupyter-server<3,>=1.8 in /usr/local/lib/python3.10/dist-packages (from notebook-shim>=0.2.3->nbclassic>=0.4.7->notebook>=4.4.1->widgetsnbextension~=3.6.0->ipywidgets->dadk==2023.12.10->-r requirements_unix.txt (line 11)) (1.24.0)\n",
            "Requirement already satisfied: soupsieve>1.2 in /usr/local/lib/python3.10/dist-packages (from beautifulsoup4->nbconvert>=5->notebook>=4.4.1->widgetsnbextension~=3.6.0->ipywidgets->dadk==2023.12.10->-r requirements_unix.txt (line 11)) (2.5)\n",
            "Requirement already satisfied: webencodings in /usr/local/lib/python3.10/dist-packages (from bleach->nbconvert>=5->notebook>=4.4.1->widgetsnbextension~=3.6.0->ipywidgets->dadk==2023.12.10->-r requirements_unix.txt (line 11)) (0.5.1)\n",
            "Requirement already satisfied: anyio<4,>=3.1.0 in /usr/local/lib/python3.10/dist-packages (from jupyter-server<3,>=1.8->notebook-shim>=0.2.3->nbclassic>=0.4.7->notebook>=4.4.1->widgetsnbextension~=3.6.0->ipywidgets->dadk==2023.12.10->-r requirements_unix.txt (line 11)) (3.7.1)\n",
            "Requirement already satisfied: websocket-client in /usr/local/lib/python3.10/dist-packages (from jupyter-server<3,>=1.8->notebook-shim>=0.2.3->nbclassic>=0.4.7->notebook>=4.4.1->widgetsnbextension~=3.6.0->ipywidgets->dadk==2023.12.10->-r requirements_unix.txt (line 11)) (1.8.0)\n",
            "Requirement already satisfied: sniffio>=1.1 in /usr/local/lib/python3.10/dist-packages (from anyio<4,>=3.1.0->jupyter-server<3,>=1.8->notebook-shim>=0.2.3->nbclassic>=0.4.7->notebook>=4.4.1->widgetsnbextension~=3.6.0->ipywidgets->dadk==2023.12.10->-r requirements_unix.txt (line 11)) (1.3.1)\n",
            "Requirement already satisfied: exceptiongroup in /usr/local/lib/python3.10/dist-packages (from anyio<4,>=3.1.0->jupyter-server<3,>=1.8->notebook-shim>=0.2.3->nbclassic>=0.4.7->notebook>=4.4.1->widgetsnbextension~=3.6.0->ipywidgets->dadk==2023.12.10->-r requirements_unix.txt (line 11)) (1.2.1)\n",
            "Building wheels for collected packages: dadk\n",
            "  Building wheel for dadk (setup.py) ... \u001b[?25l\u001b[?25hdone\n",
            "  Created wheel for dadk: filename=dadk-2023.12.10-py3-none-any.whl size=4995459 sha256=42685e546be31b7a12dc5357e9016df2d08bd296cff778b1ac6b9dd6599f12d3\n",
            "  Stored in directory: /tmp/pip-ephem-wheel-cache-lgt3171i/wheels/78/36/68/08dcbec0b48f137a33fc3ac474d3838f74984d2dda7e3178dd\n",
            "Successfully built dadk\n",
            "Installing collected packages: dadk\n",
            "  Attempting uninstall: dadk\n",
            "    Found existing installation: dadk 2023.12.10\n",
            "    Uninstalling dadk-2023.12.10:\n",
            "      Successfully uninstalled dadk-2023.12.10\n",
            "Successfully installed dadk-2023.12.10\n"
          ]
        }
      ]
    },
    {
      "cell_type": "code",
      "source": [
        "!pip install dadk\n"
      ],
      "metadata": {
        "colab": {
          "base_uri": "https://localhost:8080/"
        },
        "id": "hVzlLpVCku8g",
        "outputId": "f2b8f9bd-c092-403e-a9d9-3dcb4262cb0c"
      },
      "id": "hVzlLpVCku8g",
      "execution_count": 4,
      "outputs": [
        {
          "output_type": "stream",
          "name": "stdout",
          "text": [
            "Requirement already satisfied: dadk in /usr/local/lib/python3.10/dist-packages (2023.12.10)\n",
            "Requirement already satisfied: MarkupSafe in /usr/local/lib/python3.10/dist-packages (from dadk) (2.1.5)\n",
            "Requirement already satisfied: Pillow in /usr/local/lib/python3.10/dist-packages (from dadk) (9.4.0)\n",
            "Requirement already satisfied: XlsxWriter in /usr/local/lib/python3.10/dist-packages (from dadk) (3.2.0)\n",
            "Requirement already satisfied: auth0-python in /usr/local/lib/python3.10/dist-packages (from dadk) (4.7.1)\n",
            "Requirement already satisfied: azure-storage-blob in /usr/local/lib/python3.10/dist-packages (from dadk) (12.20.0)\n",
            "Requirement already satisfied: bqplot in /usr/local/lib/python3.10/dist-packages (from dadk) (0.12.43)\n",
            "Requirement already satisfied: colorama in /usr/local/lib/python3.10/dist-packages (from dadk) (0.4.6)\n",
            "Requirement already satisfied: future in /usr/local/lib/python3.10/dist-packages (from dadk) (0.18.3)\n",
            "Requirement already satisfied: h5py in /usr/local/lib/python3.10/dist-packages (from dadk) (3.9.0)\n",
            "Requirement already satisfied: htmlentities in /usr/local/lib/python3.10/dist-packages (from dadk) (0.3.0)\n",
            "Requirement already satisfied: imageio in /usr/local/lib/python3.10/dist-packages (from dadk) (2.31.6)\n",
            "Requirement already satisfied: ipyevents in /usr/local/lib/python3.10/dist-packages (from dadk) (2.0.2)\n",
            "Requirement already satisfied: ipympl in /usr/local/lib/python3.10/dist-packages (from dadk) (0.9.4)\n",
            "Requirement already satisfied: ipytree in /usr/local/lib/python3.10/dist-packages (from dadk) (0.2.2)\n",
            "Requirement already satisfied: ipywidgets in /usr/local/lib/python3.10/dist-packages (from dadk) (7.7.1)\n",
            "Requirement already satisfied: JSON-minify in /usr/local/lib/python3.10/dist-packages (from dadk) (0.3.0)\n",
            "Requirement already satisfied: k3d in /usr/local/lib/python3.10/dist-packages (from dadk) (2.16.1)\n",
            "Requirement already satisfied: keyboard in /usr/local/lib/python3.10/dist-packages (from dadk) (0.13.5)\n",
            "Requirement already satisfied: lark-parser in /usr/local/lib/python3.10/dist-packages (from dadk) (0.12.0)\n",
            "Requirement already satisfied: matplotlib in /usr/local/lib/python3.10/dist-packages (from dadk) (3.8.2)\n",
            "Requirement already satisfied: multiprocess in /usr/local/lib/python3.10/dist-packages (from dadk) (0.70.16)\n",
            "Requirement already satisfied: networkx in /usr/local/lib/python3.10/dist-packages (from dadk) (3.2.1)\n",
            "Requirement already satisfied: numba in /usr/local/lib/python3.10/dist-packages (from dadk) (0.58.1)\n",
            "Requirement already satisfied: numpy in /usr/local/lib/python3.10/dist-packages (from dadk) (1.25.2)\n",
            "Requirement already satisfied: optuna in /usr/local/lib/python3.10/dist-packages (from dadk) (3.6.1)\n",
            "Requirement already satisfied: openpyxl in /usr/local/lib/python3.10/dist-packages (from dadk) (3.1.2)\n",
            "Requirement already satisfied: pandas in /usr/local/lib/python3.10/dist-packages (from dadk) (2.1.4)\n",
            "Requirement already satisfied: plotly in /usr/local/lib/python3.10/dist-packages (from dadk) (5.18.0)\n",
            "Requirement already satisfied: pyjwt in /usr/local/lib/python3.10/dist-packages (from dadk) (2.8.0)\n",
            "Requirement already satisfied: pyyaml in /usr/local/lib/python3.10/dist-packages (from dadk) (6.0.1)\n",
            "Requirement already satisfied: requests in /usr/local/lib/python3.10/dist-packages (from dadk) (2.31.0)\n",
            "Requirement already satisfied: scikit-learn in /usr/local/lib/python3.10/dist-packages (from dadk) (1.3.2)\n",
            "Requirement already satisfied: scipy in /usr/local/lib/python3.10/dist-packages (from dadk) (1.11.4)\n",
            "Requirement already satisfied: seaborn in /usr/local/lib/python3.10/dist-packages (from dadk) (0.13.0)\n",
            "Requirement already satisfied: tabulate in /usr/local/lib/python3.10/dist-packages (from dadk) (0.9.0)\n",
            "Requirement already satisfied: termcolor in /usr/local/lib/python3.10/dist-packages (from dadk) (2.4.0)\n",
            "Requirement already satisfied: aiohttp<4.0.0,>=3.8.5 in /usr/local/lib/python3.10/dist-packages (from auth0-python->dadk) (3.9.5)\n",
            "Requirement already satisfied: cryptography<43.0.0,>=42.0.4 in /usr/local/lib/python3.10/dist-packages (from auth0-python->dadk) (42.0.8)\n",
            "Requirement already satisfied: urllib3<3.0.0,>=2.0.7 in /usr/local/lib/python3.10/dist-packages (from auth0-python->dadk) (2.0.7)\n",
            "Requirement already satisfied: charset-normalizer<4,>=2 in /usr/local/lib/python3.10/dist-packages (from requests->dadk) (3.3.2)\n",
            "Requirement already satisfied: idna<4,>=2.5 in /usr/local/lib/python3.10/dist-packages (from requests->dadk) (3.7)\n",
            "Requirement already satisfied: certifi>=2017.4.17 in /usr/local/lib/python3.10/dist-packages (from requests->dadk) (2024.6.2)\n",
            "Requirement already satisfied: azure-core>=1.28.0 in /usr/local/lib/python3.10/dist-packages (from azure-storage-blob->dadk) (1.30.2)\n",
            "Requirement already satisfied: typing-extensions>=4.6.0 in /usr/local/lib/python3.10/dist-packages (from azure-storage-blob->dadk) (4.12.2)\n",
            "Requirement already satisfied: isodate>=0.6.1 in /usr/local/lib/python3.10/dist-packages (from azure-storage-blob->dadk) (0.6.1)\n",
            "Requirement already satisfied: traitlets>=4.3.0 in /usr/local/lib/python3.10/dist-packages (from bqplot->dadk) (5.7.1)\n",
            "Requirement already satisfied: traittypes>=0.0.6 in /usr/local/lib/python3.10/dist-packages (from bqplot->dadk) (0.2.1)\n",
            "Requirement already satisfied: ipykernel>=4.5.1 in /usr/local/lib/python3.10/dist-packages (from ipywidgets->dadk) (5.5.6)\n",
            "Requirement already satisfied: ipython-genutils~=0.2.0 in /usr/local/lib/python3.10/dist-packages (from ipywidgets->dadk) (0.2.0)\n",
            "Requirement already satisfied: widgetsnbextension~=3.6.0 in /usr/local/lib/python3.10/dist-packages (from ipywidgets->dadk) (3.6.6)\n",
            "Requirement already satisfied: ipython>=4.0.0 in /usr/local/lib/python3.10/dist-packages (from ipywidgets->dadk) (7.34.0)\n",
            "Requirement already satisfied: jupyterlab-widgets>=1.0.0 in /usr/local/lib/python3.10/dist-packages (from ipywidgets->dadk) (3.0.11)\n",
            "Requirement already satisfied: python-dateutil>=2.8.2 in /usr/local/lib/python3.10/dist-packages (from pandas->dadk) (2.8.2)\n",
            "Requirement already satisfied: pytz>=2020.1 in /usr/local/lib/python3.10/dist-packages (from pandas->dadk) (2023.4)\n",
            "Requirement already satisfied: tzdata>=2022.1 in /usr/local/lib/python3.10/dist-packages (from pandas->dadk) (2024.1)\n",
            "Requirement already satisfied: contourpy>=1.0.1 in /usr/local/lib/python3.10/dist-packages (from matplotlib->dadk) (1.2.1)\n",
            "Requirement already satisfied: cycler>=0.10 in /usr/local/lib/python3.10/dist-packages (from matplotlib->dadk) (0.12.1)\n",
            "Requirement already satisfied: fonttools>=4.22.0 in /usr/local/lib/python3.10/dist-packages (from matplotlib->dadk) (4.53.0)\n",
            "Requirement already satisfied: kiwisolver>=1.3.1 in /usr/local/lib/python3.10/dist-packages (from matplotlib->dadk) (1.4.5)\n",
            "Requirement already satisfied: packaging>=20.0 in /usr/local/lib/python3.10/dist-packages (from matplotlib->dadk) (24.1)\n",
            "Requirement already satisfied: pyparsing>=2.3.1 in /usr/local/lib/python3.10/dist-packages (from matplotlib->dadk) (3.1.2)\n",
            "Requirement already satisfied: msgpack in /usr/local/lib/python3.10/dist-packages (from k3d->dadk) (1.0.8)\n",
            "Requirement already satisfied: dill>=0.3.8 in /usr/local/lib/python3.10/dist-packages (from multiprocess->dadk) (0.3.8)\n",
            "Requirement already satisfied: llvmlite<0.42,>=0.41.0dev0 in /usr/local/lib/python3.10/dist-packages (from numba->dadk) (0.41.1)\n",
            "Requirement already satisfied: et-xmlfile in /usr/local/lib/python3.10/dist-packages (from openpyxl->dadk) (1.1.0)\n",
            "Requirement already satisfied: alembic>=1.5.0 in /usr/local/lib/python3.10/dist-packages (from optuna->dadk) (1.13.1)\n",
            "Requirement already satisfied: colorlog in /usr/local/lib/python3.10/dist-packages (from optuna->dadk) (6.8.2)\n",
            "Requirement already satisfied: sqlalchemy>=1.3.0 in /usr/local/lib/python3.10/dist-packages (from optuna->dadk) (2.0.30)\n",
            "Requirement already satisfied: tqdm in /usr/local/lib/python3.10/dist-packages (from optuna->dadk) (4.66.4)\n",
            "Requirement already satisfied: tenacity>=6.2.0 in /usr/local/lib/python3.10/dist-packages (from plotly->dadk) (8.4.1)\n",
            "Requirement already satisfied: joblib>=1.1.1 in /usr/local/lib/python3.10/dist-packages (from scikit-learn->dadk) (1.4.2)\n",
            "Requirement already satisfied: threadpoolctl>=2.0.0 in /usr/local/lib/python3.10/dist-packages (from scikit-learn->dadk) (3.5.0)\n",
            "Requirement already satisfied: aiosignal>=1.1.2 in /usr/local/lib/python3.10/dist-packages (from aiohttp<4.0.0,>=3.8.5->auth0-python->dadk) (1.3.1)\n",
            "Requirement already satisfied: attrs>=17.3.0 in /usr/local/lib/python3.10/dist-packages (from aiohttp<4.0.0,>=3.8.5->auth0-python->dadk) (23.2.0)\n",
            "Requirement already satisfied: frozenlist>=1.1.1 in /usr/local/lib/python3.10/dist-packages (from aiohttp<4.0.0,>=3.8.5->auth0-python->dadk) (1.4.1)\n",
            "Requirement already satisfied: multidict<7.0,>=4.5 in /usr/local/lib/python3.10/dist-packages (from aiohttp<4.0.0,>=3.8.5->auth0-python->dadk) (6.0.5)\n",
            "Requirement already satisfied: yarl<2.0,>=1.0 in /usr/local/lib/python3.10/dist-packages (from aiohttp<4.0.0,>=3.8.5->auth0-python->dadk) (1.9.4)\n",
            "Requirement already satisfied: async-timeout<5.0,>=4.0 in /usr/local/lib/python3.10/dist-packages (from aiohttp<4.0.0,>=3.8.5->auth0-python->dadk) (4.0.3)\n",
            "Requirement already satisfied: Mako in /usr/local/lib/python3.10/dist-packages (from alembic>=1.5.0->optuna->dadk) (1.3.5)\n",
            "Requirement already satisfied: six>=1.11.0 in /usr/local/lib/python3.10/dist-packages (from azure-core>=1.28.0->azure-storage-blob->dadk) (1.16.0)\n",
            "Requirement already satisfied: cffi>=1.12 in /usr/local/lib/python3.10/dist-packages (from cryptography<43.0.0,>=42.0.4->auth0-python->dadk) (1.16.0)\n",
            "Requirement already satisfied: jupyter-client in /usr/local/lib/python3.10/dist-packages (from ipykernel>=4.5.1->ipywidgets->dadk) (6.1.12)\n",
            "Requirement already satisfied: tornado>=4.2 in /usr/local/lib/python3.10/dist-packages (from ipykernel>=4.5.1->ipywidgets->dadk) (6.3.3)\n",
            "Requirement already satisfied: setuptools>=18.5 in /usr/local/lib/python3.10/dist-packages (from ipython>=4.0.0->ipywidgets->dadk) (67.7.2)\n",
            "Requirement already satisfied: jedi>=0.16 in /usr/local/lib/python3.10/dist-packages (from ipython>=4.0.0->ipywidgets->dadk) (0.19.1)\n",
            "Requirement already satisfied: decorator in /usr/local/lib/python3.10/dist-packages (from ipython>=4.0.0->ipywidgets->dadk) (4.4.2)\n",
            "Requirement already satisfied: pickleshare in /usr/local/lib/python3.10/dist-packages (from ipython>=4.0.0->ipywidgets->dadk) (0.7.5)\n",
            "Requirement already satisfied: prompt-toolkit!=3.0.0,!=3.0.1,<3.1.0,>=2.0.0 in /usr/local/lib/python3.10/dist-packages (from ipython>=4.0.0->ipywidgets->dadk) (3.0.47)\n",
            "Requirement already satisfied: pygments in /usr/local/lib/python3.10/dist-packages (from ipython>=4.0.0->ipywidgets->dadk) (2.16.1)\n",
            "Requirement already satisfied: backcall in /usr/local/lib/python3.10/dist-packages (from ipython>=4.0.0->ipywidgets->dadk) (0.2.0)\n",
            "Requirement already satisfied: matplotlib-inline in /usr/local/lib/python3.10/dist-packages (from ipython>=4.0.0->ipywidgets->dadk) (0.1.7)\n",
            "Requirement already satisfied: pexpect>4.3 in /usr/local/lib/python3.10/dist-packages (from ipython>=4.0.0->ipywidgets->dadk) (4.9.0)\n",
            "Requirement already satisfied: greenlet!=0.4.17 in /usr/local/lib/python3.10/dist-packages (from sqlalchemy>=1.3.0->optuna->dadk) (3.0.3)\n",
            "Requirement already satisfied: notebook>=4.4.1 in /usr/local/lib/python3.10/dist-packages (from widgetsnbextension~=3.6.0->ipywidgets->dadk) (6.5.5)\n",
            "Requirement already satisfied: pycparser in /usr/local/lib/python3.10/dist-packages (from cffi>=1.12->cryptography<43.0.0,>=42.0.4->auth0-python->dadk) (2.22)\n",
            "Requirement already satisfied: parso<0.9.0,>=0.8.3 in /usr/local/lib/python3.10/dist-packages (from jedi>=0.16->ipython>=4.0.0->ipywidgets->dadk) (0.8.4)\n",
            "Requirement already satisfied: jinja2 in /usr/local/lib/python3.10/dist-packages (from notebook>=4.4.1->widgetsnbextension~=3.6.0->ipywidgets->dadk) (3.1.4)\n",
            "Requirement already satisfied: pyzmq<25,>=17 in /usr/local/lib/python3.10/dist-packages (from notebook>=4.4.1->widgetsnbextension~=3.6.0->ipywidgets->dadk) (24.0.1)\n",
            "Requirement already satisfied: argon2-cffi in /usr/local/lib/python3.10/dist-packages (from notebook>=4.4.1->widgetsnbextension~=3.6.0->ipywidgets->dadk) (23.1.0)\n",
            "Requirement already satisfied: jupyter-core>=4.6.1 in /usr/local/lib/python3.10/dist-packages (from notebook>=4.4.1->widgetsnbextension~=3.6.0->ipywidgets->dadk) (5.7.2)\n",
            "Requirement already satisfied: nbformat in /usr/local/lib/python3.10/dist-packages (from notebook>=4.4.1->widgetsnbextension~=3.6.0->ipywidgets->dadk) (5.10.4)\n",
            "Requirement already satisfied: nbconvert>=5 in /usr/local/lib/python3.10/dist-packages (from notebook>=4.4.1->widgetsnbextension~=3.6.0->ipywidgets->dadk) (6.5.4)\n",
            "Requirement already satisfied: nest-asyncio>=1.5 in /usr/local/lib/python3.10/dist-packages (from notebook>=4.4.1->widgetsnbextension~=3.6.0->ipywidgets->dadk) (1.6.0)\n",
            "Requirement already satisfied: Send2Trash>=1.8.0 in /usr/local/lib/python3.10/dist-packages (from notebook>=4.4.1->widgetsnbextension~=3.6.0->ipywidgets->dadk) (1.8.3)\n",
            "Requirement already satisfied: terminado>=0.8.3 in /usr/local/lib/python3.10/dist-packages (from notebook>=4.4.1->widgetsnbextension~=3.6.0->ipywidgets->dadk) (0.18.1)\n",
            "Requirement already satisfied: prometheus-client in /usr/local/lib/python3.10/dist-packages (from notebook>=4.4.1->widgetsnbextension~=3.6.0->ipywidgets->dadk) (0.20.0)\n",
            "Requirement already satisfied: nbclassic>=0.4.7 in /usr/local/lib/python3.10/dist-packages (from notebook>=4.4.1->widgetsnbextension~=3.6.0->ipywidgets->dadk) (1.1.0)\n",
            "Requirement already satisfied: ptyprocess>=0.5 in /usr/local/lib/python3.10/dist-packages (from pexpect>4.3->ipython>=4.0.0->ipywidgets->dadk) (0.7.0)\n",
            "Requirement already satisfied: wcwidth in /usr/local/lib/python3.10/dist-packages (from prompt-toolkit!=3.0.0,!=3.0.1,<3.1.0,>=2.0.0->ipython>=4.0.0->ipywidgets->dadk) (0.2.13)\n",
            "Requirement already satisfied: platformdirs>=2.5 in /usr/local/lib/python3.10/dist-packages (from jupyter-core>=4.6.1->notebook>=4.4.1->widgetsnbextension~=3.6.0->ipywidgets->dadk) (4.2.2)\n",
            "Requirement already satisfied: notebook-shim>=0.2.3 in /usr/local/lib/python3.10/dist-packages (from nbclassic>=0.4.7->notebook>=4.4.1->widgetsnbextension~=3.6.0->ipywidgets->dadk) (0.2.4)\n",
            "Requirement already satisfied: lxml in /usr/local/lib/python3.10/dist-packages (from nbconvert>=5->notebook>=4.4.1->widgetsnbextension~=3.6.0->ipywidgets->dadk) (4.9.4)\n",
            "Requirement already satisfied: beautifulsoup4 in /usr/local/lib/python3.10/dist-packages (from nbconvert>=5->notebook>=4.4.1->widgetsnbextension~=3.6.0->ipywidgets->dadk) (4.12.3)\n",
            "Requirement already satisfied: bleach in /usr/local/lib/python3.10/dist-packages (from nbconvert>=5->notebook>=4.4.1->widgetsnbextension~=3.6.0->ipywidgets->dadk) (6.1.0)\n",
            "Requirement already satisfied: defusedxml in /usr/local/lib/python3.10/dist-packages (from nbconvert>=5->notebook>=4.4.1->widgetsnbextension~=3.6.0->ipywidgets->dadk) (0.7.1)\n",
            "Requirement already satisfied: entrypoints>=0.2.2 in /usr/local/lib/python3.10/dist-packages (from nbconvert>=5->notebook>=4.4.1->widgetsnbextension~=3.6.0->ipywidgets->dadk) (0.4)\n",
            "Requirement already satisfied: jupyterlab-pygments in /usr/local/lib/python3.10/dist-packages (from nbconvert>=5->notebook>=4.4.1->widgetsnbextension~=3.6.0->ipywidgets->dadk) (0.3.0)\n",
            "Requirement already satisfied: mistune<2,>=0.8.1 in /usr/local/lib/python3.10/dist-packages (from nbconvert>=5->notebook>=4.4.1->widgetsnbextension~=3.6.0->ipywidgets->dadk) (0.8.4)\n",
            "Requirement already satisfied: nbclient>=0.5.0 in /usr/local/lib/python3.10/dist-packages (from nbconvert>=5->notebook>=4.4.1->widgetsnbextension~=3.6.0->ipywidgets->dadk) (0.10.0)\n",
            "Requirement already satisfied: pandocfilters>=1.4.1 in /usr/local/lib/python3.10/dist-packages (from nbconvert>=5->notebook>=4.4.1->widgetsnbextension~=3.6.0->ipywidgets->dadk) (1.5.1)\n",
            "Requirement already satisfied: tinycss2 in /usr/local/lib/python3.10/dist-packages (from nbconvert>=5->notebook>=4.4.1->widgetsnbextension~=3.6.0->ipywidgets->dadk) (1.3.0)\n",
            "Requirement already satisfied: fastjsonschema>=2.15 in /usr/local/lib/python3.10/dist-packages (from nbformat->notebook>=4.4.1->widgetsnbextension~=3.6.0->ipywidgets->dadk) (2.20.0)\n",
            "Requirement already satisfied: jsonschema>=2.6 in /usr/local/lib/python3.10/dist-packages (from nbformat->notebook>=4.4.1->widgetsnbextension~=3.6.0->ipywidgets->dadk) (4.19.2)\n",
            "Requirement already satisfied: argon2-cffi-bindings in /usr/local/lib/python3.10/dist-packages (from argon2-cffi->notebook>=4.4.1->widgetsnbextension~=3.6.0->ipywidgets->dadk) (21.2.0)\n",
            "Requirement already satisfied: jsonschema-specifications>=2023.03.6 in /usr/local/lib/python3.10/dist-packages (from jsonschema>=2.6->nbformat->notebook>=4.4.1->widgetsnbextension~=3.6.0->ipywidgets->dadk) (2023.12.1)\n",
            "Requirement already satisfied: referencing>=0.28.4 in /usr/local/lib/python3.10/dist-packages (from jsonschema>=2.6->nbformat->notebook>=4.4.1->widgetsnbextension~=3.6.0->ipywidgets->dadk) (0.35.1)\n",
            "Requirement already satisfied: rpds-py>=0.7.1 in /usr/local/lib/python3.10/dist-packages (from jsonschema>=2.6->nbformat->notebook>=4.4.1->widgetsnbextension~=3.6.0->ipywidgets->dadk) (0.18.1)\n",
            "Requirement already satisfied: jupyter-server<3,>=1.8 in /usr/local/lib/python3.10/dist-packages (from notebook-shim>=0.2.3->nbclassic>=0.4.7->notebook>=4.4.1->widgetsnbextension~=3.6.0->ipywidgets->dadk) (1.24.0)\n",
            "Requirement already satisfied: soupsieve>1.2 in /usr/local/lib/python3.10/dist-packages (from beautifulsoup4->nbconvert>=5->notebook>=4.4.1->widgetsnbextension~=3.6.0->ipywidgets->dadk) (2.5)\n",
            "Requirement already satisfied: webencodings in /usr/local/lib/python3.10/dist-packages (from bleach->nbconvert>=5->notebook>=4.4.1->widgetsnbextension~=3.6.0->ipywidgets->dadk) (0.5.1)\n",
            "Requirement already satisfied: anyio<4,>=3.1.0 in /usr/local/lib/python3.10/dist-packages (from jupyter-server<3,>=1.8->notebook-shim>=0.2.3->nbclassic>=0.4.7->notebook>=4.4.1->widgetsnbextension~=3.6.0->ipywidgets->dadk) (3.7.1)\n",
            "Requirement already satisfied: websocket-client in /usr/local/lib/python3.10/dist-packages (from jupyter-server<3,>=1.8->notebook-shim>=0.2.3->nbclassic>=0.4.7->notebook>=4.4.1->widgetsnbextension~=3.6.0->ipywidgets->dadk) (1.8.0)\n",
            "Requirement already satisfied: sniffio>=1.1 in /usr/local/lib/python3.10/dist-packages (from anyio<4,>=3.1.0->jupyter-server<3,>=1.8->notebook-shim>=0.2.3->nbclassic>=0.4.7->notebook>=4.4.1->widgetsnbextension~=3.6.0->ipywidgets->dadk) (1.3.1)\n",
            "Requirement already satisfied: exceptiongroup in /usr/local/lib/python3.10/dist-packages (from anyio<4,>=3.1.0->jupyter-server<3,>=1.8->notebook-shim>=0.2.3->nbclassic>=0.4.7->notebook>=4.4.1->widgetsnbextension~=3.6.0->ipywidgets->dadk) (1.2.1)\n"
          ]
        }
      ]
    },
    {
      "cell_type": "code",
      "execution_count": 5,
      "id": "5d434c7a-2bb7-441d-91c7-8e5440a78704",
      "metadata": {
        "colab": {
          "base_uri": "https://localhost:8080/",
          "height": 17
        },
        "id": "5d434c7a-2bb7-441d-91c7-8e5440a78704",
        "outputId": "f5ecbcf6-ec13-4c63-9976-29cc88c925c5"
      },
      "outputs": [
        {
          "output_type": "display_data",
          "data": {
            "text/plain": [
              "<IPython.core.display.HTML object>"
            ],
            "text/html": [
              "<style>.container{width:100% !important;}</style>"
            ]
          },
          "metadata": {}
        }
      ],
      "source": [
        "%matplotlib widget\n",
        "from IPython.display import display, HTML\n",
        "display(HTML(\"<style>.container{width:100% !important;}</style>\"))"
      ]
    },
    {
      "cell_type": "markdown",
      "source": [],
      "metadata": {
        "id": "EGgxl5-7LY_k"
      },
      "id": "EGgxl5-7LY_k"
    },
    {
      "cell_type": "markdown",
      "id": "96806c12-8a19-4333-93b6-2d418ff26c3d",
      "metadata": {
        "id": "96806c12-8a19-4333-93b6-2d418ff26c3d"
      },
      "source": [
        "Lets start step by step.\n",
        "Your first task is the following.\n",
        "Choose five cities and store them as strings in a list `cities`. Also define a dictionary `distances` with distances between the cities. The distances do not have to be realistic."
      ]
    },
    {
      "cell_type": "markdown",
      "id": "8f0cb7e5-36a0-4770-812a-1184347b0cd5",
      "metadata": {
        "id": "8f0cb7e5-36a0-4770-812a-1184347b0cd5"
      },
      "source": [
        "## Generate the Dataset"
      ]
    },
    {
      "cell_type": "code",
      "execution_count": 33,
      "id": "1a977a08-2db8-4c23-a57f-f7048b17a5c9",
      "metadata": {
        "colab": {
          "base_uri": "https://localhost:8080/"
        },
        "id": "1a977a08-2db8-4c23-a57f-f7048b17a5c9",
        "outputId": "7689757e-d6b8-40f7-add1-b3bee2cdf823"
      },
      "outputs": [
        {
          "output_type": "stream",
          "name": "stdout",
          "text": [
            "{('Munich', 'Hamburg'): 6, ('Hamburg', 'Munich'): 6, ('Munich', 'Stuttgart'): 1, ('Stuttgart', 'Munich'): 1, ('Munich', 'Berlin'): 1, ('Berlin', 'Munich'): 1, ('Munich', 'Frankfurt'): 6, ('Frankfurt', 'Munich'): 6, ('Munich', 'Paris'): 3, ('Paris', 'Munich'): 3, ('Munich', 'Madrid'): 2, ('Madrid', 'Munich'): 2, ('Munich', 'Barcelona'): 2, ('Barcelona', 'Munich'): 2, ('Munich', 'Tenerife'): 2, ('Tenerife', 'Munich'): 2, ('Munich', 'Malaga'): 6, ('Malaga', 'Munich'): 6, ('Munich', 'Valencia'): 1, ('Valencia', 'Munich'): 1, ('Munich', 'Sevilla'): 6, ('Sevilla', 'Munich'): 6, ('Munich', 'Lisboa'): 6, ('Lisboa', 'Munich'): 6, ('Munich', 'Roma'): 5, ('Roma', 'Munich'): 5, ('Munich', 'London'): 1, ('London', 'Munich'): 1, ('Munich', 'Brussels'): 5, ('Brussels', 'Munich'): 5, ('Munich', 'Amsterdam'): 4, ('Amsterdam', 'Munich'): 4, ('Munich', 'Zurich'): 1, ('Zurich', 'Munich'): 1, ('Munich', 'Vienna'): 1, ('Vienna', 'Munich'): 1, ('Munich', 'Prague'): 1, ('Prague', 'Munich'): 1, ('Munich', 'Warsaw'): 2, ('Warsaw', 'Munich'): 2, ('Munich', 'Budapest'): 2, ('Budapest', 'Munich'): 2, ('Munich', 'Athens'): 5, ('Athens', 'Munich'): 5, ('Munich', 'Dublin'): 5, ('Dublin', 'Munich'): 5, ('Munich', 'Copenhagen'): 1, ('Copenhagen', 'Munich'): 1, ('Munich', 'Oslo'): 5, ('Oslo', 'Munich'): 5, ('Munich', 'Stockholm'): 2, ('Stockholm', 'Munich'): 2, ('Munich', 'Helsinki'): 6, ('Helsinki', 'Munich'): 6, ('Munich', 'Reykjavik'): 6, ('Reykjavik', 'Munich'): 6, ('Hamburg', 'Stuttgart'): 6, ('Stuttgart', 'Hamburg'): 6, ('Hamburg', 'Berlin'): 5, ('Berlin', 'Hamburg'): 5, ('Hamburg', 'Frankfurt'): 4, ('Frankfurt', 'Hamburg'): 4, ('Hamburg', 'Paris'): 2, ('Paris', 'Hamburg'): 2, ('Hamburg', 'Madrid'): 4, ('Madrid', 'Hamburg'): 4, ('Hamburg', 'Barcelona'): 5, ('Barcelona', 'Hamburg'): 5, ('Hamburg', 'Tenerife'): 3, ('Tenerife', 'Hamburg'): 3, ('Hamburg', 'Malaga'): 1, ('Malaga', 'Hamburg'): 1, ('Hamburg', 'Valencia'): 2, ('Valencia', 'Hamburg'): 2, ('Hamburg', 'Sevilla'): 6, ('Sevilla', 'Hamburg'): 6, ('Hamburg', 'Lisboa'): 4, ('Lisboa', 'Hamburg'): 4, ('Hamburg', 'Roma'): 3, ('Roma', 'Hamburg'): 3, ('Hamburg', 'London'): 3, ('London', 'Hamburg'): 3, ('Hamburg', 'Brussels'): 2, ('Brussels', 'Hamburg'): 2, ('Hamburg', 'Amsterdam'): 2, ('Amsterdam', 'Hamburg'): 2, ('Hamburg', 'Zurich'): 3, ('Zurich', 'Hamburg'): 3, ('Hamburg', 'Vienna'): 1, ('Vienna', 'Hamburg'): 1, ('Hamburg', 'Prague'): 1, ('Prague', 'Hamburg'): 1, ('Hamburg', 'Warsaw'): 4, ('Warsaw', 'Hamburg'): 4, ('Hamburg', 'Budapest'): 1, ('Budapest', 'Hamburg'): 1, ('Hamburg', 'Athens'): 3, ('Athens', 'Hamburg'): 3, ('Hamburg', 'Dublin'): 3, ('Dublin', 'Hamburg'): 3, ('Hamburg', 'Copenhagen'): 5, ('Copenhagen', 'Hamburg'): 5, ('Hamburg', 'Oslo'): 3, ('Oslo', 'Hamburg'): 3, ('Hamburg', 'Stockholm'): 1, ('Stockholm', 'Hamburg'): 1, ('Hamburg', 'Helsinki'): 6, ('Helsinki', 'Hamburg'): 6, ('Hamburg', 'Reykjavik'): 4, ('Reykjavik', 'Hamburg'): 4, ('Stuttgart', 'Berlin'): 5, ('Berlin', 'Stuttgart'): 5, ('Stuttgart', 'Frankfurt'): 1, ('Frankfurt', 'Stuttgart'): 1, ('Stuttgart', 'Paris'): 4, ('Paris', 'Stuttgart'): 4, ('Stuttgart', 'Madrid'): 1, ('Madrid', 'Stuttgart'): 1, ('Stuttgart', 'Barcelona'): 5, ('Barcelona', 'Stuttgart'): 5, ('Stuttgart', 'Tenerife'): 3, ('Tenerife', 'Stuttgart'): 3, ('Stuttgart', 'Malaga'): 6, ('Malaga', 'Stuttgart'): 6, ('Stuttgart', 'Valencia'): 5, ('Valencia', 'Stuttgart'): 5, ('Stuttgart', 'Sevilla'): 3, ('Sevilla', 'Stuttgart'): 3, ('Stuttgart', 'Lisboa'): 5, ('Lisboa', 'Stuttgart'): 5, ('Stuttgart', 'Roma'): 2, ('Roma', 'Stuttgart'): 2, ('Stuttgart', 'London'): 6, ('London', 'Stuttgart'): 6, ('Stuttgart', 'Brussels'): 1, ('Brussels', 'Stuttgart'): 1, ('Stuttgart', 'Amsterdam'): 1, ('Amsterdam', 'Stuttgart'): 1, ('Stuttgart', 'Zurich'): 6, ('Zurich', 'Stuttgart'): 6, ('Stuttgart', 'Vienna'): 2, ('Vienna', 'Stuttgart'): 2, ('Stuttgart', 'Prague'): 3, ('Prague', 'Stuttgart'): 3, ('Stuttgart', 'Warsaw'): 1, ('Warsaw', 'Stuttgart'): 1, ('Stuttgart', 'Budapest'): 2, ('Budapest', 'Stuttgart'): 2, ('Stuttgart', 'Athens'): 1, ('Athens', 'Stuttgart'): 1, ('Stuttgart', 'Dublin'): 4, ('Dublin', 'Stuttgart'): 4, ('Stuttgart', 'Copenhagen'): 3, ('Copenhagen', 'Stuttgart'): 3, ('Stuttgart', 'Oslo'): 4, ('Oslo', 'Stuttgart'): 4, ('Stuttgart', 'Stockholm'): 6, ('Stockholm', 'Stuttgart'): 6, ('Stuttgart', 'Helsinki'): 3, ('Helsinki', 'Stuttgart'): 3, ('Stuttgart', 'Reykjavik'): 2, ('Reykjavik', 'Stuttgart'): 2, ('Berlin', 'Frankfurt'): 3, ('Frankfurt', 'Berlin'): 3, ('Berlin', 'Paris'): 3, ('Paris', 'Berlin'): 3, ('Berlin', 'Madrid'): 2, ('Madrid', 'Berlin'): 2, ('Berlin', 'Barcelona'): 6, ('Barcelona', 'Berlin'): 6, ('Berlin', 'Tenerife'): 3, ('Tenerife', 'Berlin'): 3, ('Berlin', 'Malaga'): 6, ('Malaga', 'Berlin'): 6, ('Berlin', 'Valencia'): 6, ('Valencia', 'Berlin'): 6, ('Berlin', 'Sevilla'): 6, ('Sevilla', 'Berlin'): 6, ('Berlin', 'Lisboa'): 1, ('Lisboa', 'Berlin'): 1, ('Berlin', 'Roma'): 5, ('Roma', 'Berlin'): 5, ('Berlin', 'London'): 6, ('London', 'Berlin'): 6, ('Berlin', 'Brussels'): 2, ('Brussels', 'Berlin'): 2, ('Berlin', 'Amsterdam'): 5, ('Amsterdam', 'Berlin'): 5, ('Berlin', 'Zurich'): 6, ('Zurich', 'Berlin'): 6, ('Berlin', 'Vienna'): 2, ('Vienna', 'Berlin'): 2, ('Berlin', 'Prague'): 2, ('Prague', 'Berlin'): 2, ('Berlin', 'Warsaw'): 4, ('Warsaw', 'Berlin'): 4, ('Berlin', 'Budapest'): 4, ('Budapest', 'Berlin'): 4, ('Berlin', 'Athens'): 3, ('Athens', 'Berlin'): 3, ('Berlin', 'Dublin'): 6, ('Dublin', 'Berlin'): 6, ('Berlin', 'Copenhagen'): 6, ('Copenhagen', 'Berlin'): 6, ('Berlin', 'Oslo'): 5, ('Oslo', 'Berlin'): 5, ('Berlin', 'Stockholm'): 2, ('Stockholm', 'Berlin'): 2, ('Berlin', 'Helsinki'): 6, ('Helsinki', 'Berlin'): 6, ('Berlin', 'Reykjavik'): 3, ('Reykjavik', 'Berlin'): 3, ('Frankfurt', 'Paris'): 1, ('Paris', 'Frankfurt'): 1, ('Frankfurt', 'Madrid'): 2, ('Madrid', 'Frankfurt'): 2, ('Frankfurt', 'Barcelona'): 1, ('Barcelona', 'Frankfurt'): 1, ('Frankfurt', 'Tenerife'): 3, ('Tenerife', 'Frankfurt'): 3, ('Frankfurt', 'Malaga'): 4, ('Malaga', 'Frankfurt'): 4, ('Frankfurt', 'Valencia'): 3, ('Valencia', 'Frankfurt'): 3, ('Frankfurt', 'Sevilla'): 1, ('Sevilla', 'Frankfurt'): 1, ('Frankfurt', 'Lisboa'): 2, ('Lisboa', 'Frankfurt'): 2, ('Frankfurt', 'Roma'): 5, ('Roma', 'Frankfurt'): 5, ('Frankfurt', 'London'): 6, ('London', 'Frankfurt'): 6, ('Frankfurt', 'Brussels'): 3, ('Brussels', 'Frankfurt'): 3, ('Frankfurt', 'Amsterdam'): 2, ('Amsterdam', 'Frankfurt'): 2, ('Frankfurt', 'Zurich'): 6, ('Zurich', 'Frankfurt'): 6, ('Frankfurt', 'Vienna'): 4, ('Vienna', 'Frankfurt'): 4, ('Frankfurt', 'Prague'): 4, ('Prague', 'Frankfurt'): 4, ('Frankfurt', 'Warsaw'): 6, ('Warsaw', 'Frankfurt'): 6, ('Frankfurt', 'Budapest'): 4, ('Budapest', 'Frankfurt'): 4, ('Frankfurt', 'Athens'): 2, ('Athens', 'Frankfurt'): 2, ('Frankfurt', 'Dublin'): 3, ('Dublin', 'Frankfurt'): 3, ('Frankfurt', 'Copenhagen'): 2, ('Copenhagen', 'Frankfurt'): 2, ('Frankfurt', 'Oslo'): 2, ('Oslo', 'Frankfurt'): 2, ('Frankfurt', 'Stockholm'): 6, ('Stockholm', 'Frankfurt'): 6, ('Frankfurt', 'Helsinki'): 5, ('Helsinki', 'Frankfurt'): 5, ('Frankfurt', 'Reykjavik'): 5, ('Reykjavik', 'Frankfurt'): 5, ('Paris', 'Madrid'): 3, ('Madrid', 'Paris'): 3, ('Paris', 'Barcelona'): 6, ('Barcelona', 'Paris'): 6, ('Paris', 'Tenerife'): 5, ('Tenerife', 'Paris'): 5, ('Paris', 'Malaga'): 4, ('Malaga', 'Paris'): 4, ('Paris', 'Valencia'): 5, ('Valencia', 'Paris'): 5, ('Paris', 'Sevilla'): 4, ('Sevilla', 'Paris'): 4, ('Paris', 'Lisboa'): 3, ('Lisboa', 'Paris'): 3, ('Paris', 'Roma'): 2, ('Roma', 'Paris'): 2, ('Paris', 'London'): 2, ('London', 'Paris'): 2, ('Paris', 'Brussels'): 5, ('Brussels', 'Paris'): 5, ('Paris', 'Amsterdam'): 4, ('Amsterdam', 'Paris'): 4, ('Paris', 'Zurich'): 1, ('Zurich', 'Paris'): 1, ('Paris', 'Vienna'): 1, ('Vienna', 'Paris'): 1, ('Paris', 'Prague'): 1, ('Prague', 'Paris'): 1, ('Paris', 'Warsaw'): 2, ('Warsaw', 'Paris'): 2, ('Paris', 'Budapest'): 6, ('Budapest', 'Paris'): 6, ('Paris', 'Athens'): 2, ('Athens', 'Paris'): 2, ('Paris', 'Dublin'): 6, ('Dublin', 'Paris'): 6, ('Paris', 'Copenhagen'): 4, ('Copenhagen', 'Paris'): 4, ('Paris', 'Oslo'): 5, ('Oslo', 'Paris'): 5, ('Paris', 'Stockholm'): 1, ('Stockholm', 'Paris'): 1, ('Paris', 'Helsinki'): 4, ('Helsinki', 'Paris'): 4, ('Paris', 'Reykjavik'): 4, ('Reykjavik', 'Paris'): 4, ('Madrid', 'Barcelona'): 5, ('Barcelona', 'Madrid'): 5, ('Madrid', 'Tenerife'): 4, ('Tenerife', 'Madrid'): 4, ('Madrid', 'Malaga'): 5, ('Malaga', 'Madrid'): 5, ('Madrid', 'Valencia'): 3, ('Valencia', 'Madrid'): 3, ('Madrid', 'Sevilla'): 5, ('Sevilla', 'Madrid'): 5, ('Madrid', 'Lisboa'): 1, ('Lisboa', 'Madrid'): 1, ('Madrid', 'Roma'): 6, ('Roma', 'Madrid'): 6, ('Madrid', 'London'): 6, ('London', 'Madrid'): 6, ('Madrid', 'Brussels'): 1, ('Brussels', 'Madrid'): 1, ('Madrid', 'Amsterdam'): 6, ('Amsterdam', 'Madrid'): 6, ('Madrid', 'Zurich'): 5, ('Zurich', 'Madrid'): 5, ('Madrid', 'Vienna'): 3, ('Vienna', 'Madrid'): 3, ('Madrid', 'Prague'): 6, ('Prague', 'Madrid'): 6, ('Madrid', 'Warsaw'): 3, ('Warsaw', 'Madrid'): 3, ('Madrid', 'Budapest'): 1, ('Budapest', 'Madrid'): 1, ('Madrid', 'Athens'): 3, ('Athens', 'Madrid'): 3, ('Madrid', 'Dublin'): 4, ('Dublin', 'Madrid'): 4, ('Madrid', 'Copenhagen'): 2, ('Copenhagen', 'Madrid'): 2, ('Madrid', 'Oslo'): 4, ('Oslo', 'Madrid'): 4, ('Madrid', 'Stockholm'): 1, ('Stockholm', 'Madrid'): 1, ('Madrid', 'Helsinki'): 6, ('Helsinki', 'Madrid'): 6, ('Madrid', 'Reykjavik'): 6, ('Reykjavik', 'Madrid'): 6, ('Barcelona', 'Tenerife'): 3, ('Tenerife', 'Barcelona'): 3, ('Barcelona', 'Malaga'): 5, ('Malaga', 'Barcelona'): 5, ('Barcelona', 'Valencia'): 2, ('Valencia', 'Barcelona'): 2, ('Barcelona', 'Sevilla'): 5, ('Sevilla', 'Barcelona'): 5, ('Barcelona', 'Lisboa'): 1, ('Lisboa', 'Barcelona'): 1, ('Barcelona', 'Roma'): 6, ('Roma', 'Barcelona'): 6, ('Barcelona', 'London'): 3, ('London', 'Barcelona'): 3, ('Barcelona', 'Brussels'): 6, ('Brussels', 'Barcelona'): 6, ('Barcelona', 'Amsterdam'): 5, ('Amsterdam', 'Barcelona'): 5, ('Barcelona', 'Zurich'): 5, ('Zurich', 'Barcelona'): 5, ('Barcelona', 'Vienna'): 2, ('Vienna', 'Barcelona'): 2, ('Barcelona', 'Prague'): 2, ('Prague', 'Barcelona'): 2, ('Barcelona', 'Warsaw'): 3, ('Warsaw', 'Barcelona'): 3, ('Barcelona', 'Budapest'): 2, ('Budapest', 'Barcelona'): 2, ('Barcelona', 'Athens'): 5, ('Athens', 'Barcelona'): 5, ('Barcelona', 'Dublin'): 5, ('Dublin', 'Barcelona'): 5, ('Barcelona', 'Copenhagen'): 1, ('Copenhagen', 'Barcelona'): 1, ('Barcelona', 'Oslo'): 5, ('Oslo', 'Barcelona'): 5, ('Barcelona', 'Stockholm'): 3, ('Stockholm', 'Barcelona'): 3, ('Barcelona', 'Helsinki'): 4, ('Helsinki', 'Barcelona'): 4, ('Barcelona', 'Reykjavik'): 1, ('Reykjavik', 'Barcelona'): 1, ('Tenerife', 'Malaga'): 1, ('Malaga', 'Tenerife'): 1, ('Tenerife', 'Valencia'): 3, ('Valencia', 'Tenerife'): 3, ('Tenerife', 'Sevilla'): 3, ('Sevilla', 'Tenerife'): 3, ('Tenerife', 'Lisboa'): 2, ('Lisboa', 'Tenerife'): 2, ('Tenerife', 'Roma'): 1, ('Roma', 'Tenerife'): 1, ('Tenerife', 'London'): 2, ('London', 'Tenerife'): 2, ('Tenerife', 'Brussels'): 5, ('Brussels', 'Tenerife'): 5, ('Tenerife', 'Amsterdam'): 1, ('Amsterdam', 'Tenerife'): 1, ('Tenerife', 'Zurich'): 1, ('Zurich', 'Tenerife'): 1, ('Tenerife', 'Vienna'): 6, ('Vienna', 'Tenerife'): 6, ('Tenerife', 'Prague'): 4, ('Prague', 'Tenerife'): 4, ('Tenerife', 'Warsaw'): 1, ('Warsaw', 'Tenerife'): 1, ('Tenerife', 'Budapest'): 5, ('Budapest', 'Tenerife'): 5, ('Tenerife', 'Athens'): 2, ('Athens', 'Tenerife'): 2, ('Tenerife', 'Dublin'): 2, ('Dublin', 'Tenerife'): 2, ('Tenerife', 'Copenhagen'): 6, ('Copenhagen', 'Tenerife'): 6, ('Tenerife', 'Oslo'): 4, ('Oslo', 'Tenerife'): 4, ('Tenerife', 'Stockholm'): 5, ('Stockholm', 'Tenerife'): 5, ('Tenerife', 'Helsinki'): 2, ('Helsinki', 'Tenerife'): 2, ('Tenerife', 'Reykjavik'): 3, ('Reykjavik', 'Tenerife'): 3, ('Malaga', 'Valencia'): 5, ('Valencia', 'Malaga'): 5, ('Malaga', 'Sevilla'): 5, ('Sevilla', 'Malaga'): 5, ('Malaga', 'Lisboa'): 4, ('Lisboa', 'Malaga'): 4, ('Malaga', 'Roma'): 2, ('Roma', 'Malaga'): 2, ('Malaga', 'London'): 5, ('London', 'Malaga'): 5, ('Malaga', 'Brussels'): 6, ('Brussels', 'Malaga'): 6, ('Malaga', 'Amsterdam'): 6, ('Amsterdam', 'Malaga'): 6, ('Malaga', 'Zurich'): 2, ('Zurich', 'Malaga'): 2, ('Malaga', 'Vienna'): 6, ('Vienna', 'Malaga'): 6, ('Malaga', 'Prague'): 3, ('Prague', 'Malaga'): 3, ('Malaga', 'Warsaw'): 4, ('Warsaw', 'Malaga'): 4, ('Malaga', 'Budapest'): 6, ('Budapest', 'Malaga'): 6, ('Malaga', 'Athens'): 6, ('Athens', 'Malaga'): 6, ('Malaga', 'Dublin'): 3, ('Dublin', 'Malaga'): 3, ('Malaga', 'Copenhagen'): 4, ('Copenhagen', 'Malaga'): 4, ('Malaga', 'Oslo'): 5, ('Oslo', 'Malaga'): 5, ('Malaga', 'Stockholm'): 4, ('Stockholm', 'Malaga'): 4, ('Malaga', 'Helsinki'): 1, ('Helsinki', 'Malaga'): 1, ('Malaga', 'Reykjavik'): 2, ('Reykjavik', 'Malaga'): 2, ('Valencia', 'Sevilla'): 2, ('Sevilla', 'Valencia'): 2, ('Valencia', 'Lisboa'): 1, ('Lisboa', 'Valencia'): 1, ('Valencia', 'Roma'): 3, ('Roma', 'Valencia'): 3, ('Valencia', 'London'): 1, ('London', 'Valencia'): 1, ('Valencia', 'Brussels'): 5, ('Brussels', 'Valencia'): 5, ('Valencia', 'Amsterdam'): 5, ('Amsterdam', 'Valencia'): 5, ('Valencia', 'Zurich'): 2, ('Zurich', 'Valencia'): 2, ('Valencia', 'Vienna'): 5, ('Vienna', 'Valencia'): 5, ('Valencia', 'Prague'): 2, ('Prague', 'Valencia'): 2, ('Valencia', 'Warsaw'): 1, ('Warsaw', 'Valencia'): 1, ('Valencia', 'Budapest'): 1, ('Budapest', 'Valencia'): 1, ('Valencia', 'Athens'): 6, ('Athens', 'Valencia'): 6, ('Valencia', 'Dublin'): 6, ('Dublin', 'Valencia'): 6, ('Valencia', 'Copenhagen'): 1, ('Copenhagen', 'Valencia'): 1, ('Valencia', 'Oslo'): 2, ('Oslo', 'Valencia'): 2, ('Valencia', 'Stockholm'): 1, ('Stockholm', 'Valencia'): 1, ('Valencia', 'Helsinki'): 1, ('Helsinki', 'Valencia'): 1, ('Valencia', 'Reykjavik'): 3, ('Reykjavik', 'Valencia'): 3, ('Sevilla', 'Lisboa'): 1, ('Lisboa', 'Sevilla'): 1, ('Sevilla', 'Roma'): 5, ('Roma', 'Sevilla'): 5, ('Sevilla', 'London'): 2, ('London', 'Sevilla'): 2, ('Sevilla', 'Brussels'): 3, ('Brussels', 'Sevilla'): 3, ('Sevilla', 'Amsterdam'): 6, ('Amsterdam', 'Sevilla'): 6, ('Sevilla', 'Zurich'): 4, ('Zurich', 'Sevilla'): 4, ('Sevilla', 'Vienna'): 2, ('Vienna', 'Sevilla'): 2, ('Sevilla', 'Prague'): 5, ('Prague', 'Sevilla'): 5, ('Sevilla', 'Warsaw'): 2, ('Warsaw', 'Sevilla'): 2, ('Sevilla', 'Budapest'): 6, ('Budapest', 'Sevilla'): 6, ('Sevilla', 'Athens'): 5, ('Athens', 'Sevilla'): 5, ('Sevilla', 'Dublin'): 5, ('Dublin', 'Sevilla'): 5, ('Sevilla', 'Copenhagen'): 4, ('Copenhagen', 'Sevilla'): 4, ('Sevilla', 'Oslo'): 2, ('Oslo', 'Sevilla'): 2, ('Sevilla', 'Stockholm'): 4, ('Stockholm', 'Sevilla'): 4, ('Sevilla', 'Helsinki'): 4, ('Helsinki', 'Sevilla'): 4, ('Sevilla', 'Reykjavik'): 2, ('Reykjavik', 'Sevilla'): 2, ('Lisboa', 'Roma'): 1, ('Roma', 'Lisboa'): 1, ('Lisboa', 'London'): 1, ('London', 'Lisboa'): 1, ('Lisboa', 'Brussels'): 6, ('Brussels', 'Lisboa'): 6, ('Lisboa', 'Amsterdam'): 4, ('Amsterdam', 'Lisboa'): 4, ('Lisboa', 'Zurich'): 3, ('Zurich', 'Lisboa'): 3, ('Lisboa', 'Vienna'): 4, ('Vienna', 'Lisboa'): 4, ('Lisboa', 'Prague'): 4, ('Prague', 'Lisboa'): 4, ('Lisboa', 'Warsaw'): 4, ('Warsaw', 'Lisboa'): 4, ('Lisboa', 'Budapest'): 6, ('Budapest', 'Lisboa'): 6, ('Lisboa', 'Athens'): 1, ('Athens', 'Lisboa'): 1, ('Lisboa', 'Dublin'): 6, ('Dublin', 'Lisboa'): 6, ('Lisboa', 'Copenhagen'): 6, ('Copenhagen', 'Lisboa'): 6, ('Lisboa', 'Oslo'): 6, ('Oslo', 'Lisboa'): 6, ('Lisboa', 'Stockholm'): 1, ('Stockholm', 'Lisboa'): 1, ('Lisboa', 'Helsinki'): 1, ('Helsinki', 'Lisboa'): 1, ('Lisboa', 'Reykjavik'): 4, ('Reykjavik', 'Lisboa'): 4, ('Roma', 'London'): 6, ('London', 'Roma'): 6, ('Roma', 'Brussels'): 3, ('Brussels', 'Roma'): 3, ('Roma', 'Amsterdam'): 1, ('Amsterdam', 'Roma'): 1, ('Roma', 'Zurich'): 2, ('Zurich', 'Roma'): 2, ('Roma', 'Vienna'): 2, ('Vienna', 'Roma'): 2, ('Roma', 'Prague'): 2, ('Prague', 'Roma'): 2, ('Roma', 'Warsaw'): 5, ('Warsaw', 'Roma'): 5, ('Roma', 'Budapest'): 4, ('Budapest', 'Roma'): 4, ('Roma', 'Athens'): 2, ('Athens', 'Roma'): 2, ('Roma', 'Dublin'): 4, ('Dublin', 'Roma'): 4, ('Roma', 'Copenhagen'): 2, ('Copenhagen', 'Roma'): 2, ('Roma', 'Oslo'): 3, ('Oslo', 'Roma'): 3, ('Roma', 'Stockholm'): 4, ('Stockholm', 'Roma'): 4, ('Roma', 'Helsinki'): 2, ('Helsinki', 'Roma'): 2, ('Roma', 'Reykjavik'): 1, ('Reykjavik', 'Roma'): 1, ('London', 'Brussels'): 4, ('Brussels', 'London'): 4, ('London', 'Amsterdam'): 5, ('Amsterdam', 'London'): 5, ('London', 'Zurich'): 1, ('Zurich', 'London'): 1, ('London', 'Vienna'): 1, ('Vienna', 'London'): 1, ('London', 'Prague'): 6, ('Prague', 'London'): 6, ('London', 'Warsaw'): 5, ('Warsaw', 'London'): 5, ('London', 'Budapest'): 1, ('Budapest', 'London'): 1, ('London', 'Athens'): 1, ('Athens', 'London'): 1, ('London', 'Dublin'): 2, ('Dublin', 'London'): 2, ('London', 'Copenhagen'): 2, ('Copenhagen', 'London'): 2, ('London', 'Oslo'): 4, ('Oslo', 'London'): 4, ('London', 'Stockholm'): 4, ('Stockholm', 'London'): 4, ('London', 'Helsinki'): 4, ('Helsinki', 'London'): 4, ('London', 'Reykjavik'): 2, ('Reykjavik', 'London'): 2, ('Brussels', 'Amsterdam'): 4, ('Amsterdam', 'Brussels'): 4, ('Brussels', 'Zurich'): 1, ('Zurich', 'Brussels'): 1, ('Brussels', 'Vienna'): 2, ('Vienna', 'Brussels'): 2, ('Brussels', 'Prague'): 4, ('Prague', 'Brussels'): 4, ('Brussels', 'Warsaw'): 1, ('Warsaw', 'Brussels'): 1, ('Brussels', 'Budapest'): 4, ('Budapest', 'Brussels'): 4, ('Brussels', 'Athens'): 3, ('Athens', 'Brussels'): 3, ('Brussels', 'Dublin'): 4, ('Dublin', 'Brussels'): 4, ('Brussels', 'Copenhagen'): 3, ('Copenhagen', 'Brussels'): 3, ('Brussels', 'Oslo'): 4, ('Oslo', 'Brussels'): 4, ('Brussels', 'Stockholm'): 6, ('Stockholm', 'Brussels'): 6, ('Brussels', 'Helsinki'): 6, ('Helsinki', 'Brussels'): 6, ('Brussels', 'Reykjavik'): 5, ('Reykjavik', 'Brussels'): 5, ('Amsterdam', 'Zurich'): 6, ('Zurich', 'Amsterdam'): 6, ('Amsterdam', 'Vienna'): 6, ('Vienna', 'Amsterdam'): 6, ('Amsterdam', 'Prague'): 4, ('Prague', 'Amsterdam'): 4, ('Amsterdam', 'Warsaw'): 2, ('Warsaw', 'Amsterdam'): 2, ('Amsterdam', 'Budapest'): 2, ('Budapest', 'Amsterdam'): 2, ('Amsterdam', 'Athens'): 3, ('Athens', 'Amsterdam'): 3, ('Amsterdam', 'Dublin'): 2, ('Dublin', 'Amsterdam'): 2, ('Amsterdam', 'Copenhagen'): 1, ('Copenhagen', 'Amsterdam'): 1, ('Amsterdam', 'Oslo'): 5, ('Oslo', 'Amsterdam'): 5, ('Amsterdam', 'Stockholm'): 6, ('Stockholm', 'Amsterdam'): 6, ('Amsterdam', 'Helsinki'): 5, ('Helsinki', 'Amsterdam'): 5, ('Amsterdam', 'Reykjavik'): 1, ('Reykjavik', 'Amsterdam'): 1, ('Zurich', 'Vienna'): 6, ('Vienna', 'Zurich'): 6, ('Zurich', 'Prague'): 3, ('Prague', 'Zurich'): 3, ('Zurich', 'Warsaw'): 1, ('Warsaw', 'Zurich'): 1, ('Zurich', 'Budapest'): 1, ('Budapest', 'Zurich'): 1, ('Zurich', 'Athens'): 5, ('Athens', 'Zurich'): 5, ('Zurich', 'Dublin'): 4, ('Dublin', 'Zurich'): 4, ('Zurich', 'Copenhagen'): 5, ('Copenhagen', 'Zurich'): 5, ('Zurich', 'Oslo'): 5, ('Oslo', 'Zurich'): 5, ('Zurich', 'Stockholm'): 2, ('Stockholm', 'Zurich'): 2, ('Zurich', 'Helsinki'): 1, ('Helsinki', 'Zurich'): 1, ('Zurich', 'Reykjavik'): 5, ('Reykjavik', 'Zurich'): 5, ('Vienna', 'Prague'): 1, ('Prague', 'Vienna'): 1, ('Vienna', 'Warsaw'): 2, ('Warsaw', 'Vienna'): 2, ('Vienna', 'Budapest'): 1, ('Budapest', 'Vienna'): 1, ('Vienna', 'Athens'): 5, ('Athens', 'Vienna'): 5, ('Vienna', 'Dublin'): 1, ('Dublin', 'Vienna'): 1, ('Vienna', 'Copenhagen'): 6, ('Copenhagen', 'Vienna'): 6, ('Vienna', 'Oslo'): 2, ('Oslo', 'Vienna'): 2, ('Vienna', 'Stockholm'): 4, ('Stockholm', 'Vienna'): 4, ('Vienna', 'Helsinki'): 1, ('Helsinki', 'Vienna'): 1, ('Vienna', 'Reykjavik'): 5, ('Reykjavik', 'Vienna'): 5, ('Prague', 'Warsaw'): 2, ('Warsaw', 'Prague'): 2, ('Prague', 'Budapest'): 5, ('Budapest', 'Prague'): 5, ('Prague', 'Athens'): 5, ('Athens', 'Prague'): 5, ('Prague', 'Dublin'): 1, ('Dublin', 'Prague'): 1, ('Prague', 'Copenhagen'): 5, ('Copenhagen', 'Prague'): 5, ('Prague', 'Oslo'): 1, ('Oslo', 'Prague'): 1, ('Prague', 'Stockholm'): 4, ('Stockholm', 'Prague'): 4, ('Prague', 'Helsinki'): 6, ('Helsinki', 'Prague'): 6, ('Prague', 'Reykjavik'): 5, ('Reykjavik', 'Prague'): 5, ('Warsaw', 'Budapest'): 5, ('Budapest', 'Warsaw'): 5, ('Warsaw', 'Athens'): 5, ('Athens', 'Warsaw'): 5, ('Warsaw', 'Dublin'): 3, ('Dublin', 'Warsaw'): 3, ('Warsaw', 'Copenhagen'): 3, ('Copenhagen', 'Warsaw'): 3, ('Warsaw', 'Oslo'): 2, ('Oslo', 'Warsaw'): 2, ('Warsaw', 'Stockholm'): 6, ('Stockholm', 'Warsaw'): 6, ('Warsaw', 'Helsinki'): 6, ('Helsinki', 'Warsaw'): 6, ('Warsaw', 'Reykjavik'): 3, ('Reykjavik', 'Warsaw'): 3, ('Budapest', 'Athens'): 2, ('Athens', 'Budapest'): 2, ('Budapest', 'Dublin'): 3, ('Dublin', 'Budapest'): 3, ('Budapest', 'Copenhagen'): 4, ('Copenhagen', 'Budapest'): 4, ('Budapest', 'Oslo'): 2, ('Oslo', 'Budapest'): 2, ('Budapest', 'Stockholm'): 6, ('Stockholm', 'Budapest'): 6, ('Budapest', 'Helsinki'): 6, ('Helsinki', 'Budapest'): 6, ('Budapest', 'Reykjavik'): 3, ('Reykjavik', 'Budapest'): 3, ('Athens', 'Dublin'): 4, ('Dublin', 'Athens'): 4, ('Athens', 'Copenhagen'): 3, ('Copenhagen', 'Athens'): 3, ('Athens', 'Oslo'): 1, ('Oslo', 'Athens'): 1, ('Athens', 'Stockholm'): 1, ('Stockholm', 'Athens'): 1, ('Athens', 'Helsinki'): 4, ('Helsinki', 'Athens'): 4, ('Athens', 'Reykjavik'): 5, ('Reykjavik', 'Athens'): 5, ('Dublin', 'Copenhagen'): 5, ('Copenhagen', 'Dublin'): 5, ('Dublin', 'Oslo'): 1, ('Oslo', 'Dublin'): 1, ('Dublin', 'Stockholm'): 1, ('Stockholm', 'Dublin'): 1, ('Dublin', 'Helsinki'): 5, ('Helsinki', 'Dublin'): 5, ('Dublin', 'Reykjavik'): 2, ('Reykjavik', 'Dublin'): 2, ('Copenhagen', 'Oslo'): 5, ('Oslo', 'Copenhagen'): 5, ('Copenhagen', 'Stockholm'): 3, ('Stockholm', 'Copenhagen'): 3, ('Copenhagen', 'Helsinki'): 2, ('Helsinki', 'Copenhagen'): 2, ('Copenhagen', 'Reykjavik'): 3, ('Reykjavik', 'Copenhagen'): 3, ('Oslo', 'Stockholm'): 1, ('Stockholm', 'Oslo'): 1, ('Oslo', 'Helsinki'): 2, ('Helsinki', 'Oslo'): 2, ('Oslo', 'Reykjavik'): 3, ('Reykjavik', 'Oslo'): 3, ('Stockholm', 'Helsinki'): 3, ('Helsinki', 'Stockholm'): 3, ('Stockholm', 'Reykjavik'): 2, ('Reykjavik', 'Stockholm'): 2, ('Helsinki', 'Reykjavik'): 4, ('Reykjavik', 'Helsinki'): 4}\n",
            "Distance Matrix:\n",
            "[[0 6 1 1 6 3 2 2 2 6 1 6 6 5 1 5 4 1 1 1 2 2 5 5 1 5 2 6 6]\n",
            " [6 0 6 5 4 2 4 5 3 1 2 6 4 3 3 2 2 3 1 1 4 1 3 3 5 3 1 6 4]\n",
            " [1 6 0 5 1 4 1 5 3 6 5 3 5 2 6 1 1 6 2 3 1 2 1 4 3 4 6 3 2]\n",
            " [1 5 5 0 3 3 2 6 3 6 6 6 1 5 6 2 5 6 2 2 4 4 3 6 6 5 2 6 3]\n",
            " [6 4 1 3 0 1 2 1 3 4 3 1 2 5 6 3 2 6 4 4 6 4 2 3 2 2 6 5 5]\n",
            " [3 2 4 3 1 0 3 6 5 4 5 4 3 2 2 5 4 1 1 1 2 6 2 6 4 5 1 4 4]\n",
            " [2 4 1 2 2 3 0 5 4 5 3 5 1 6 6 1 6 5 3 6 3 1 3 4 2 4 1 6 6]\n",
            " [2 5 5 6 1 6 5 0 3 5 2 5 1 6 3 6 5 5 2 2 3 2 5 5 1 5 3 4 1]\n",
            " [2 3 3 3 3 5 4 3 0 1 3 3 2 1 2 5 1 1 6 4 1 5 2 2 6 4 5 2 3]\n",
            " [6 1 6 6 4 4 5 5 1 0 5 5 4 2 5 6 6 2 6 3 4 6 6 3 4 5 4 1 2]\n",
            " [1 2 5 6 3 5 3 2 3 5 0 2 1 3 1 5 5 2 5 2 1 1 6 6 1 2 1 1 3]\n",
            " [6 6 3 6 1 4 5 5 3 5 2 0 1 5 2 3 6 4 2 5 2 6 5 5 4 2 4 4 2]\n",
            " [6 4 5 1 2 3 1 1 2 4 1 1 0 1 1 6 4 3 4 4 4 6 1 6 6 6 1 1 4]\n",
            " [5 3 2 5 5 2 6 6 1 2 3 5 1 0 6 3 1 2 2 2 5 4 2 4 2 3 4 2 1]\n",
            " [1 3 6 6 6 2 6 3 2 5 1 2 1 6 0 4 5 1 1 6 5 1 1 2 2 4 4 4 2]\n",
            " [5 2 1 2 3 5 1 6 5 6 5 3 6 3 4 0 4 1 2 4 1 4 3 4 3 4 6 6 5]\n",
            " [4 2 1 5 2 4 6 5 1 6 5 6 4 1 5 4 0 6 6 4 2 2 3 2 1 5 6 5 1]\n",
            " [1 3 6 6 6 1 5 5 1 2 2 4 3 2 1 1 6 0 6 3 1 1 5 4 5 5 2 1 5]\n",
            " [1 1 2 2 4 1 3 2 6 6 5 2 4 2 1 2 6 6 0 1 2 1 5 1 6 2 4 1 5]\n",
            " [1 1 3 2 4 1 6 2 4 3 2 5 4 2 6 4 4 3 1 0 2 5 5 1 5 1 4 6 5]\n",
            " [2 4 1 4 6 2 3 3 1 4 1 2 4 5 5 1 2 1 2 2 0 5 5 3 3 2 6 6 3]\n",
            " [2 1 2 4 4 6 1 2 5 6 1 6 6 4 1 4 2 1 1 5 5 0 2 3 4 2 6 6 3]\n",
            " [5 3 1 3 2 2 3 5 2 6 6 5 1 2 1 3 3 5 5 5 5 2 0 4 3 1 1 4 5]\n",
            " [5 3 4 6 3 6 4 5 2 3 6 5 6 4 2 4 2 4 1 1 3 3 4 0 5 1 1 5 2]\n",
            " [1 5 3 6 2 4 2 1 6 4 1 4 6 2 2 3 1 5 6 5 3 4 3 5 0 5 3 2 3]\n",
            " [5 3 4 5 2 5 4 5 4 5 2 2 6 3 4 4 5 5 2 1 2 2 1 1 5 0 1 2 3]\n",
            " [2 1 6 2 6 1 1 3 5 4 1 4 1 4 4 6 6 2 4 4 6 6 1 1 3 1 0 3 2]\n",
            " [6 6 3 6 5 4 6 4 2 1 1 4 1 2 4 6 5 1 1 6 6 6 4 5 2 2 3 0 4]\n",
            " [6 4 2 3 5 4 6 1 3 2 3 2 4 1 2 5 1 5 5 5 3 3 5 2 3 3 2 4 0]]\n"
          ]
        }
      ],
      "source": [
        "\n",
        "from IPython.display import display, HTML\n",
        "from dadk.Solution_SolutionList import *\n",
        "from dadk.BinPol import *\n",
        "import random\n",
        "import numpy as np\n",
        "import itertools\n",
        "import time\n",
        "\n",
        "\n",
        "\n",
        "random.seed(42)\n",
        "cities = [\n",
        "    \"Munich\", \"Hamburg\", \"Stuttgart\", \"Berlin\", \"Frankfurt\",\n",
        "    \"Paris\", \"Madrid\", \"Barcelona\", \"Tenerife\", \"Malaga\",\n",
        "    \"Valencia\", \"Sevilla\", \"Lisboa\", \"Roma\",\n",
        "    \"London\", \"Brussels\", \"Amsterdam\", \"Zurich\", \"Vienna\",\n",
        "    \"Prague\", \"Warsaw\", \"Budapest\", \"Athens\", \"Dublin\",\n",
        "    \"Copenhagen\", \"Oslo\", \"Stockholm\", \"Helsinki\", \"Reykjavik\"\n",
        "]\n",
        "\n",
        "n = len(cities)\n",
        "\n",
        "distances = {}\n",
        "for cindex1 in range(len(cities)-1):\n",
        "    c1 = cities[cindex1]\n",
        "    for cindex2 in range(cindex1+1,len(cities)):\n",
        "        c2 = cities[cindex2]\n",
        "        distances[c1,c2] = random.randint(1,6)\n",
        "        distances[c2,c1] = distances[c1,c2]\n",
        "\n",
        "#distances2 = {}\n",
        "#distances2 = np.zeros((n, n), dtype=int)\n",
        "#for i in range(n):\n",
        " #   for j in range(i + 1, n):\n",
        "#        distances2[i, j] = distances2[j, i] = random.randint(1, 6)\n",
        "\n",
        "#print(\"Distance Matrix:\")\n",
        "#print(distances2)\n",
        "\n",
        "print(distances)\n",
        "\n",
        "distance_matrix = np.zeros((n, n), dtype=int)\n",
        "for (c1, c2), dist in distances.items():\n",
        "    i, j = cities.index(c1), cities.index(c2)\n",
        "    distance_matrix[i, j] = distance_matrix[j, i] = dist\n",
        "\n",
        "print(\"Distance Matrix:\")\n",
        "print(distance_matrix)\n"
      ]
    },
    {
      "cell_type": "markdown",
      "id": "6adc10c0-be45-4819-aa60-9fccd022bf63",
      "metadata": {
        "id": "6adc10c0-be45-4819-aa60-9fccd022bf63"
      },
      "source": [
        "**texto en negrita**### Create the VarShapeSet"
      ]
    },
    {
      "cell_type": "code",
      "execution_count": 34,
      "id": "09d37a71-032f-481e-b7bc-6915916c7a15",
      "metadata": {
        "id": "09d37a71-032f-481e-b7bc-6915916c7a15",
        "colab": {
          "base_uri": "https://localhost:8080/"
        },
        "outputId": "def7b51a-945c-4017-a549-18690aba9940"
      },
      "outputs": [
        {
          "output_type": "stream",
          "name": "stdout",
          "text": [
            "\"tsp_array\" (29, 29)  ['time', 'city']\n",
            "\"tsp_array\" (29, 29)  ['time', 'city']\n"
          ]
        }
      ],
      "source": [
        "from dadk.QUBOSolverCPU import *\n",
        "N = len(cities)\n",
        "T = N\n",
        "my_constant_bits = np.full((N,N), -1, np.int8)\n",
        "\n",
        "\n",
        "## Start coding here: create an array called tsp_array with a (5,5) shape and axis_names=['time','city']\n",
        "my_bit_shape_array = BitArrayShape(name='tsp_array', shape=(N,N), axis_names=['time','city'], constant_bits=my_constant_bits)\n",
        "#\n",
        "\n",
        "my_varshapeset2 = VarShapeSet(my_bit_shape_array)\n",
        "\n",
        "my_varshapeset = VarShapeSet(*[my_bit_shape_array])\n",
        "print(my_varshapeset2)\n",
        "print(my_varshapeset)"
      ]
    },
    {
      "cell_type": "markdown",
      "id": "f599e553-ce16-4d85-b6cf-aa33ee803dd2",
      "metadata": {
        "id": "f599e553-ce16-4d85-b6cf-aa33ee803dd2"
      },
      "source": [
        "\n",
        "\n",
        "```\n",
        "# Tiene formato de código\n",
        "```\n",
        "\n",
        "### Creates the QUBO model"
      ]
    },
    {
      "cell_type": "code",
      "execution_count": 35,
      "id": "71bc3082-aab8-4f83-a209-c41f4a3c52f3",
      "metadata": {
        "id": "71bc3082-aab8-4f83-a209-c41f4a3c52f3"
      },
      "outputs": [],
      "source": [
        "A, B, C, D = 1, 10, 10, 10\n",
        "# H: Termino de la distancia\n",
        "H = BinPol(my_varshapeset)\n",
        "for t in range(T):\n",
        "    for c1_index, c1 in enumerate(cities):\n",
        "        for c2_index, c2 in enumerate(cities):\n",
        "            if c1 != c2:\n",
        "                dist = distances[(c1, c2)]\n",
        "                H.add_term(dist, ('tsp_array', t, c1_index), ('tsp_array', (t + 1) % T, c2_index))\n",
        "\n",
        "# H1: Restricción de cada ciudad se visita exactamente una vez\n",
        "H1 = BinPol(my_varshapeset)\n",
        "for c in range(N):\n",
        "    H1_c = BinPol(my_varshapeset)\n",
        "    for t in range(T):\n",
        "        H1_c.add_term(1, ('tsp_array', t, c))\n",
        "    H1_c.add_term(-1, ())\n",
        "    H1_c.power(2)\n",
        "    H1 += H1_c\n",
        "\n",
        "# H2: Restricción de que cada ciudad se visita exactamente en un tiempo\n",
        "H2 = BinPol(my_varshapeset)\n",
        "for t in range(T):\n",
        "    H2_t = BinPol(my_varshapeset)\n",
        "    for c in range(N):\n",
        "        H2_t.add_term(1, ('tsp_array', t, c))\n",
        "    H2_t.add_term(-1, ())\n",
        "    H2_t.power(2)\n",
        "    H2 += H2_t\n",
        "\n",
        "# H3: Restricciones MTZ para eliminar subciclos\n",
        "H3 = BinPol(my_varshapeset)\n",
        "u = {i: i + 1 for i in range(1, N)}\n",
        "\n",
        "for i in range(1, N):\n",
        "    for j in range(1, N):\n",
        "        if i != j:\n",
        "            H3.add_term(D * (N - 1), ('tsp_array', 0, i), ('tsp_array', 1, j))\n",
        "            H3.add_term(D * (N - 1), ('tsp_array', 1, i), ('tsp_array', 0, j))\n",
        "            H3.add_term(-2 * D, ('tsp_array', 0, i), ('tsp_array', 1, j))\n",
        "            H3.add_term(-2 * D, ('tsp_array', 1, i), ('tsp_array', 0, j))\n",
        "\n",
        "# Combine the terms to form the QUBO\n",
        "my_qubo = A * H + B * H1 + C * H2 + D * H3"
      ]
    },
    {
      "cell_type": "code",
      "source": [],
      "metadata": {
        "id": "aCR7PZ5Vdvkl"
      },
      "id": "aCR7PZ5Vdvkl",
      "execution_count": null,
      "outputs": []
    },
    {
      "cell_type": "markdown",
      "id": "f0c596a2-2591-4055-96f8-883a2a40e41a",
      "metadata": {
        "id": "f0c596a2-2591-4055-96f8-883a2a40e41a"
      },
      "source": [
        "[texto del enlace](https://)### Find the minima using QUBO Solver CPU\n",
        "\n",
        "> Bloque con sangría\n",
        "\n"
      ]
    },
    {
      "cell_type": "code",
      "execution_count": 36,
      "id": "056f2d4d-febd-48e6-89fe-cd768e9c66d3",
      "metadata": {
        "colab": {
          "base_uri": "https://localhost:8080/"
        },
        "id": "056f2d4d-febd-48e6-89fe-cd768e9c66d3",
        "outputId": "627bdbc1-4d35-4ea9-d3df-11b0ac85e6c4"
      },
      "outputs": [
        {
          "output_type": "stream",
          "name": "stdout",
          "text": [
            "\n",
            "********************************************************************************\n",
            "Scaling qubo, temperature_start, temperature_end and offset_increase_rate\n",
            "  factor:                       412460.00000\n",
            "********************************************************************************\n",
            "\n",
            "\n",
            "********************************************************************************\n",
            "Effective values (including scaling factor)\n",
            "  temperature_start:            15280000.000\n",
            "  temperature_end:               3230000.000\n",
            "  offset_increase_rate:          7963000.000\n",
            "  duration:                            0.358 sec\n",
            "********************************************************************************\n",
            "\n",
            "Execution Time: 76.81 seconds\n",
            "Uso de memoria inicial: 249.1171875 MB\n",
            "Uso de memoria final: 257.94140625 MB\n",
            "Incremento de uso de memoria: 8.82421875 MB\n",
            "[0, 0, 0, 0, 0, 0, 0, 0, 0, 0, 0, 0, 0, 0, 0, 0, 0, 0, 0, 0, 0, 0, 0, 0, 0, 1, 0, 0, 0, 1, 0, 0, 0, 0, 0, 0, 0, 0, 0, 0, 0, 0, 0, 0, 0, 0, 0, 0, 0, 0, 0, 0, 0, 0, 0, 0, 0, 0, 0, 0, 0, 0, 0, 0, 0, 0, 0, 0, 0, 0, 0, 0, 0, 0, 0, 0, 0, 1, 0, 0, 0, 0, 0, 0, 0, 0, 0, 0, 0, 0, 0, 0, 0, 0, 0, 0, 0, 0, 0, 0, 0, 0, 0, 0, 0, 1, 0, 0, 0, 0, 0, 0, 0, 0, 0, 0, 0, 0, 0, 0, 0, 0, 0, 0, 0, 0, 0, 0, 0, 0, 0, 0, 0, 0, 0, 0, 0, 0, 0, 0, 0, 0, 0, 1, 0, 0, 0, 1, 0, 0, 0, 0, 0, 0, 0, 0, 0, 0, 0, 0, 0, 0, 0, 0, 0, 0, 0, 0, 0, 0, 0, 0, 0, 0, 0, 0, 0, 0, 1, 0, 0, 0, 0, 0, 0, 0, 0, 0, 0, 0, 0, 0, 0, 0, 0, 0, 0, 0, 0, 0, 0, 0, 0, 0, 0, 0, 0, 0, 0, 0, 0, 0, 0, 0, 0, 0, 0, 0, 0, 0, 0, 0, 0, 0, 0, 0, 0, 0, 0, 0, 0, 0, 0, 0, 0, 0, 0, 1, 0, 0, 0, 0, 1, 0, 0, 0, 0, 0, 0, 0, 0, 0, 0, 0, 0, 0, 0, 0, 0, 0, 0, 0, 1, 0, 0, 0, 0, 0, 0, 0, 0, 0, 0, 0, 0, 0, 0, 0, 0, 0, 0, 0, 0, 0, 0, 0, 0, 0, 0, 0, 0, 0, 0, 0, 0, 0, 0, 0, 0, 0, 0, 0, 0, 0, 0, 0, 1, 0, 0, 0, 0, 0, 0, 0, 0, 0, 0, 0, 0, 0, 0, 0, 0, 0, 0, 0, 0, 0, 0, 0, 0, 0, 0, 0, 0, 0, 0, 0, 0, 0, 0, 0, 0, 0, 0, 0, 0, 0, 0, 0, 0, 0, 0, 0, 0, 0, 0, 0, 0, 0, 0, 0, 0, 0, 0, 0, 0, 0, 0, 0, 0, 0, 0, 0, 1, 0, 0, 0, 0, 0, 0, 0, 0, 0, 0, 1, 0, 0, 0, 0, 0, 0, 0, 0, 0, 0, 0, 0, 0, 0, 0, 0, 0, 0, 0, 0, 0, 0, 1, 0, 0, 0, 0, 0, 0, 0, 0, 0, 0, 0, 0, 0, 0, 0, 0, 0, 0, 0, 0, 1, 0, 0, 0, 0, 0, 0, 0, 0, 0, 0, 0, 0, 0, 0, 0, 0, 1, 0, 0, 0, 0, 0, 0, 0, 0, 0, 0, 0, 0, 0, 0, 0, 0, 0, 0, 0, 0, 0, 0, 0, 0, 0, 0, 0, 0, 0, 0, 0, 0, 0, 0, 0, 0, 0, 1, 0, 0, 0, 0, 0, 0, 0, 0, 0, 0, 0, 0, 0, 0, 0, 0, 0, 0, 0, 0, 0, 0, 0, 0, 0, 0, 1, 0, 0, 0, 0, 0, 0, 0, 0, 0, 0, 0, 0, 0, 0, 0, 0, 1, 0, 0, 0, 0, 0, 0, 0, 0, 0, 0, 0, 0, 0, 0, 0, 0, 0, 0, 0, 0, 0, 0, 0, 0, 0, 0, 0, 0, 0, 0, 0, 0, 0, 0, 0, 1, 0, 0, 0, 0, 0, 0, 0, 0, 0, 0, 0, 0, 0, 0, 0, 0, 0, 0, 0, 0, 0, 0, 0, 0, 0, 0, 0, 0, 0, 0, 0, 0, 1, 0, 0, 0, 0, 0, 0, 0, 0, 0, 0, 0, 0, 0, 0, 0, 0, 0, 0, 0, 0, 0, 0, 0, 0, 0, 0, 1, 0, 0, 0, 0, 0, 0, 0, 0, 0, 0, 0, 0, 0, 0, 0, 0, 0, 0, 0, 0, 0, 0, 0, 0, 0, 0, 0, 0, 0, 0, 0, 0, 0, 0, 0, 0, 0, 0, 0, 0, 0, 0, 0, 0, 0, 0, 0, 0, 0, 1, 0, 0, 0, 0, 0, 0, 0, 0, 0, 0, 0, 0, 0, 0, 0, 0, 0, 0, 0, 0, 0, 0, 0, 0, 0, 0, 0, 0, 0, 0, 0, 0, 0, 1, 0, 0, 0, 0, 0, 0, 0, 0, 0, 0, 0, 0, 0, 0, 0, 0, 0, 0, 0, 0, 0, 0, 0, 0, 0, 1, 0, 0, 0, 0, 0, 0, 0, 0, 0, 0, 0, 0, 0, 0, 0, 0, 0, 0, 0, 0, 0, 0, 0, 0, 0, 0, 0, 0, 0, 0, 0, 0, 0, 0, 0, 0, 0, 0, 0, 0, 0, 1, 0, 0, 0, 0, 0, 0, 0, 0, 0, 0, 0, 0, 0, 0, 0, 0, 0, 0, 0, 0, 0, 0, 0, 0, 0, 0, 0, 1, 0, 0, 0, 0, 0, 0, 0, 0, 0, 0, 0, 0, 0, 0, 0, 0, 0, 0, 0, 0, 0, 1, 0, 0, 0, 0, 0, 0, 0, 0, 0, 0, 0, 0, 0, 0]\n",
            "CPU Solver Formatted Result:\n",
            "[0, 0, 0, 0, 0, 0, 0, 0, 0, 0, 0, 0, 0, 0, 0, 0, 0, 0, 0, 0, 0, 0, 0, 0, 0, 'Oslo', 0, 0, 0]\n",
            "['Munich', 0, 0, 0, 0, 0, 0, 0, 0, 0, 0, 0, 0, 0, 0, 0, 0, 0, 0, 0, 0, 0, 0, 0, 0, 0, 0, 0, 0]\n",
            "[0, 0, 0, 0, 0, 0, 0, 0, 0, 0, 0, 0, 0, 0, 0, 0, 0, 0, 0, 'Prague', 0, 0, 0, 0, 0, 0, 0, 0, 0]\n",
            "[0, 0, 0, 0, 0, 0, 0, 0, 0, 0, 0, 0, 0, 0, 0, 0, 0, 0, 'Vienna', 0, 0, 0, 0, 0, 0, 0, 0, 0, 0]\n",
            "[0, 0, 0, 0, 0, 0, 0, 0, 0, 0, 0, 0, 0, 0, 0, 0, 0, 0, 0, 0, 0, 0, 0, 0, 0, 0, 0, 'Helsinki', 0]\n",
            "[0, 0, 'Stuttgart', 0, 0, 0, 0, 0, 0, 0, 0, 0, 0, 0, 0, 0, 0, 0, 0, 0, 0, 0, 0, 0, 0, 0, 0, 0, 0]\n",
            "[0, 0, 0, 0, 'Frankfurt', 0, 0, 0, 0, 0, 0, 0, 0, 0, 0, 0, 0, 0, 0, 0, 0, 0, 0, 0, 0, 0, 0, 0, 0]\n",
            "[0, 0, 0, 0, 0, 0, 0, 0, 0, 0, 0, 0, 0, 0, 0, 0, 0, 0, 0, 0, 0, 0, 0, 0, 0, 0, 0, 0, 0]\n",
            "[0, 0, 0, 0, 0, 'Paris', 0, 0, 0, 0, 'Valencia', 0, 0, 0, 0, 0, 0, 0, 0, 0, 0, 0, 0, 0, 0, 0, 0, 0, 0]\n",
            "[0, 'Hamburg', 0, 0, 0, 0, 0, 0, 0, 0, 0, 0, 0, 0, 0, 0, 0, 0, 0, 0, 0, 0, 0, 0, 0, 0, 0, 0, 0]\n",
            "[0, 0, 0, 0, 0, 0, 0, 0, 0, 0, 0, 0, 0, 0, 0, 0, 'Amsterdam', 0, 0, 0, 0, 0, 0, 0, 0, 0, 0, 0, 0]\n",
            "[0, 0, 0, 0, 0, 0, 0, 0, 0, 0, 0, 0, 0, 0, 0, 0, 0, 0, 0, 0, 0, 0, 0, 0, 0, 0, 0, 0, 0]\n",
            "[0, 0, 0, 0, 0, 0, 0, 0, 0, 0, 0, 0, 0, 0, 0, 0, 0, 0, 0, 0, 0, 0, 0, 0, 0, 0, 'Stockholm', 0, 0]\n",
            "[0, 0, 0, 0, 0, 0, 0, 0, 'Tenerife', 0, 0, 0, 0, 0, 0, 0, 0, 0, 0, 0, 0, 0, 0, 0, 0, 0, 0, 0, 0]\n",
            "[0, 0, 'Stuttgart', 0, 0, 0, 0, 0, 0, 0, 0, 0, 0, 0, 0, 0, 0, 0, 0, 0, 0, 0, 0, 'Dublin', 0, 0, 0, 0, 0]\n",
            "[0, 0, 0, 0, 0, 0, 0, 0, 0, 0, 0, 'Sevilla', 0, 0, 0, 0, 0, 0, 0, 0, 0, 0, 0, 0, 0, 0, 0, 0, 0]\n",
            "[0, 0, 0, 0, 0, 0, 0, 0, 0, 0, 0, 0, 0, 0, 0, 0, 0, 0, 0, 0, 'Warsaw', 0, 0, 0, 0, 0, 0, 0, 0]\n",
            "[0, 0, 0, 0, 0, 0, 0, 0, 0, 0, 0, 0, 0, 0, 0, 0, 0, 0, 'Vienna', 0, 0, 0, 0, 0, 0, 0, 0, 0, 0]\n",
            "[0, 0, 0, 0, 0, 0, 'Madrid', 0, 0, 0, 0, 0, 0, 0, 0, 0, 0, 0, 0, 0, 0, 0, 0, 0, 0, 0, 0, 0, 0]\n",
            "[0, 0, 0, 0, 0, 0, 0, 0, 0, 0, 0, 0, 0, 'Roma', 0, 0, 0, 0, 0, 0, 0, 0, 0, 0, 0, 0, 0, 0, 0]\n",
            "[0, 0, 0, 0, 0, 0, 0, 0, 0, 0, 0, 0, 0, 0, 0, 0, 0, 'Zurich', 0, 0, 0, 0, 0, 0, 0, 0, 0, 0, 0]\n",
            "[0, 0, 0, 0, 0, 0, 0, 0, 0, 0, 0, 0, 0, 0, 0, 'Brussels', 0, 0, 0, 0, 0, 0, 0, 0, 0, 0, 0, 0, 0]\n",
            "[0, 0, 0, 0, 0, 0, 0, 0, 0, 0, 0, 0, 0, 0, 0, 0, 0, 0, 0, 0, 0, 0, 0, 0, 0, 0, 0, 0, 0]\n",
            "[0, 0, 0, 0, 0, 0, 0, 'Barcelona', 0, 0, 0, 0, 0, 0, 0, 0, 0, 0, 0, 0, 0, 0, 0, 0, 0, 0, 0, 0, 0]\n",
            "[0, 0, 0, 0, 0, 0, 0, 0, 0, 0, 0, 0, 'Lisboa', 0, 0, 0, 0, 0, 0, 0, 0, 0, 0, 0, 0, 0, 0, 0, 0]\n",
            "[0, 0, 0, 0, 0, 0, 0, 0, 0, 'Malaga', 0, 0, 0, 0, 0, 0, 0, 0, 0, 0, 0, 0, 0, 0, 0, 0, 0, 0, 0]\n",
            "[0, 0, 0, 0, 0, 0, 0, 0, 0, 0, 0, 0, 0, 0, 0, 0, 0, 0, 0, 0, 0, 0, 'Athens', 0, 0, 0, 0, 0, 0]\n",
            "[0, 0, 0, 0, 0, 0, 0, 0, 0, 0, 0, 0, 0, 0, 0, 0, 0, 0, 0, 0, 0, 'Budapest', 0, 0, 0, 0, 0, 0, 0]\n",
            "[0, 0, 0, 0, 0, 0, 0, 0, 0, 0, 0, 0, 0, 0, 'London', 0, 0, 0, 0, 0, 0, 0, 0, 0, 0, 0, 0, 0, 0]\n",
            "Route in Order:\n",
            "Oslo -> Munich -> Prague -> Vienna -> Helsinki -> Stuttgart -> Frankfurt -> Paris -> Hamburg -> Amsterdam -> Stockholm -> Tenerife -> Stuttgart -> Sevilla -> Warsaw -> Vienna -> Madrid -> Roma -> Zurich -> Brussels -> Barcelona -> Lisboa -> Malaga -> Athens -> Budapest -> London\n",
            "Total Distance: 74\n",
            "x86_64\n",
            "Intel(R) Xeon(R) CPU @ 2.20GHz\n"
          ]
        }
      ],
      "source": [
        "from dadk.QUBOSolverCPU import *\n",
        "from dadk.QUBOSolverBase import *\n",
        "import time\n",
        "import psutil\n",
        "import platform\n",
        "import cpuinfo\n",
        "\n",
        "def get_memory_usage():\n",
        "    process = psutil.Process()\n",
        "    return process.memory_info().rss / 1024 / 1024  # Convertir a MB\n",
        "\n",
        "initial_memory = get_memory_usage()\n",
        "\n",
        "start_time = time.time()\n",
        "solver = QUBOSolverCPU(\n",
        "number_iterations=200000,\n",
        "number_runs=10,\n",
        "scaling_bit_precision=32,\n",
        "auto_tuning=AutoTuning.AUTO_SCALING_AND_SAMPLING)\n",
        "#cities = [\"Munich\", \"Hamburg\", \"Stuttgart\", \"Berlin\", \"Frankfurt\", \"Paris\", \"Madrid\", \"Barcelona\"]\n",
        "\n",
        "solution_list = solver.minimize(my_qubo)\n",
        "solution = solution_list.min_solution\n",
        "\n",
        "end_time = time.time()\n",
        "final_memory = get_memory_usage()\n",
        "execution_time = end_time - start_time\n",
        "print(f\"Execution Time: {execution_time:.2f} seconds\")\n",
        "print(\"Uso de memoria inicial:\", initial_memory, \"MB\")\n",
        "print(\"Uso de memoria final:\", final_memory, \"MB\")\n",
        "print(\"Incremento de uso de memoria:\", final_memory - initial_memory, \"MB\")\n",
        "print(solution.configuration)\n",
        "\n",
        "result = []\n",
        "\n",
        "\n",
        "# Process the configuration to extract the city names\n",
        "config = solution.configuration\n",
        "\n",
        "for t in range(T):\n",
        "    row = []\n",
        "    for c in range(N):\n",
        "        idx = t * N + c\n",
        "        if config[idx] == 1:\n",
        "            row.append(cities[c])\n",
        "        else:\n",
        "            row.append(0)\n",
        "    result.append(row)\n",
        "\n",
        "print(\"CPU Solver Formatted Result:\")\n",
        "\n",
        "for row in result:\n",
        "    print(row)\n",
        "\n",
        "\n",
        "# Extract the route in order\n",
        "route = []\n",
        "for t in range(T):\n",
        "    for c in range(N):\n",
        "        idx = t * N + c\n",
        "        if config[idx] == 1:\n",
        "            route.append(cities[c])\n",
        "            break  # Once we find the city for this time step, we can break the inner loop\n",
        "\n",
        "# Print the route\n",
        "print(\"Route in Order:\")\n",
        "print(\" -> \".join(route))\n",
        "# Calcular la distancia total\n",
        "\n",
        "total_distance = 0\n",
        "for i in range(len(route) - 1):\n",
        "    city_from = cities.index(route[i])\n",
        "    city_to = cities.index(route[i + 1])\n",
        "    total_distance += distance_matrix[city_from][city_to]\n",
        "\n",
        "# Para hacer que sea un viaje de ida y vuelta, agrega la distancia de la última ciudad de vuelta a la primera ciudad\n",
        "city_from = cities.index(route[-1])\n",
        "city_to = cities.index(route[0])\n",
        "total_distance += distance_matrix[city_from][city_to]\n",
        "\n",
        "# Imprimir la distancia total\n",
        "print(\"Total Distance:\", total_distance)\n",
        "print(platform.processor())\n",
        "cpu_info = cpuinfo.get_cpu_info()\n",
        "print(cpu_info['brand_raw'])\n"
      ]
    },
    {
      "cell_type": "markdown",
      "id": "81a5888f-4e59-487e-b650-3a9dd24f2a60",
      "metadata": {
        "id": "81a5888f-4e59-487e-b650-3a9dd24f2a60"
      },
      "source": [
        "### Draw Solution"
      ]
    },
    {
      "cell_type": "code",
      "execution_count": null,
      "id": "788964cf-e5de-466c-8c23-301dff0c9c7c",
      "metadata": {
        "colab": {
          "base_uri": "https://localhost:8080/",
          "height": 53,
          "referenced_widgets": [
            "a45a8825af7e41799b8d56f775169e80"
          ]
        },
        "id": "788964cf-e5de-466c-8c23-301dff0c9c7c",
        "outputId": "9302cce5-0a14-464e-df89-73ecb2272c63"
      },
      "outputs": [
        {
          "output_type": "stream",
          "name": "stdout",
          "text": [
            "Value of constraint one city at each time: 0\n",
            "Value of constraint one time for each city: 0\n"
          ]
        },
        {
          "output_type": "display_data",
          "data": {
            "text/plain": [
              "Canvas(toolbar=Toolbar(toolitems=[('Home', 'Reset original view', 'home', 'home'), ('Back', 'Back to previous …"
            ],
            "image/png": "[encoded data removed]",
            "text/html": [
              "\n",
              "            <div style=\"display: inline-block;\">\n",
              "                <div class=\"jupyter-widgets widget-label\" style=\"text-align: center;\">\n",
              "                    Figure\n",
              "                </div>\n",
              "                <img src='data:image/png;base64,iVBORw0KGgoAAAANSUhEUgAAA4QAAAGQCAYAAAD2lq6fAAAAOXRFWHRTb2Z0d2FyZQBNYXRwbG90bGliIHZlcnNpb24zLjguMiwgaHR0cHM6Ly9tYXRwbG90bGliLm9yZy8g+/7EAAAACXBIWXMAAA9hAAAPYQGoP6dpAABOjUlEQVR4nO3dd3xUVf7/8feUEMAUitIkiAVBRBCCCmIBAQXLihUXpbnqqhRZXEX8WlDXBXUtINiVanfFLqgooCs1AUSaDQQViKgk1JDMzO+P8xsISElm7pm5w309H495SEI493NyJ/G+7ynXF4lEIgIAAAAAeI4/2QUAAAAAAJKDQAgAAAAAHkUgBAAAAACPIhACAAAAgEcRCAEAAADAowiEAAAAAOBRBEIAAAAA8CgCIQAAAAB4FIEQAAAAADyKQAgAAAAAHkUgBAAAAACPIhACAAAAgEcRCAEAAADAowiEAAAAAOBRBEIAAAAA8CgCIQAAAAB4FIEQAAAAADyKQAgAAAAAHkUgBAAAAACPIhACAAAAgEcRCAEAAADAowiEAAAAAOBRBEIAAAAA8CgCIQAAAAB4FIEQAAAAADyKQAgAAAAAHkUgBAAAAACPIhACAAAAgEcRCAEAAADAowiEAAAAAOBRBEIAAAAA8CgCIQAAAAB4FIEQAAAAADyKQAgAAAAAHkUgBAAAAACPIhACAAAAgEcRCAEAAADAowiEAAAAAOBRBEIAAAAA8CgCIQAAAAB4FIEQAAAAADyKQAgAAAAAHkUgBAAAAACPIhACAAAAgEcRCAEAAADAowiEAAAAAOBRwWQXAADxCofD+uWXX5SZmSmfz5fscgAgZpFIRJs2bVK9evXk93PfHoB9BEIAKe+XX35RTk5OsssAAMesWbNG9evXT3YZADyAQAgg5WVmZkoyF1BZWVlJrgYAYldUVKScnJydv9cAwDYCIYCUF50mmpWVRSAEcFBg+juARGFyOgAAAAB4FIEQAAAAADyKQAgAAAAAHkUgBAAAAACPIhACAAAAgEcRCAEAAADAowiEAAAAAOBRBEIAAAAA8CgCIQAAAAB4FIEQAAAAADyKQAgAAAAAHkUgBAAAAACPIhACAAAAgEcRCAEAAADAo4LJLgAAUlEkIq1eLW3YYP5co4bUsKHkP9hvsxUXS99+K23dKqWlmU5Xr57sqqwrKJB+/lkqLZUyMqRjjjHdP6iFQtL330tFReaNXaeOVLeu5PMluzKrioqklSvNW71yZXOuq1ZNdlUAYA+BEADKaft26fXXpUmTpDlzpMLC3f/+kEOk3FypRw/pyitNcDgorFolPfOM9O670vLlJhWVlZMjtW8vXXutdNppB0VgCIeljz6SXnhB+vxzad263f8+LU064QTpoouka64xWemg8Pvv0rhx0htvSAsWmDd9WTVrSqeeKvXpI/3lL1Lw4LiMyMszb/FPPjFhMBLZ9Xd+v9SokdSli3T99VKTJsmrEwBs8EUiZX/tAUDqKSoqUnZ2tgoLC5WVleV4++GwNHq0dPfd0saN5gIxHN7710azUJUq0pAh0tChKTyS9Msv0oAB0uTJptOh0L6/Nhg0QbFpU+mpp6TTT09cnQ57913T7R9/lAKB/Xfb7zfnvFcv6eGHU3iwdMsW6c47pTFjpJKS3RPRnqLflNq1pYcekq66KmVvAixcKF13nTRv3q638L5E/75jR/MWP+YYOzXZ/n0GAHs62Cc3AUBcfvzRZJubbjJhUNp3GJTMdXQkYmZUDhsmtWolLVmSiEod9sorZijknXdMh/aXiqRdV9IrVkhnnikNGiTt2GG9TCdt2iT17GkGvtasMZ87ULfDYfM1EyZIjRtLU6bYr9Nxs2dLxx8vjRxpztmB7hNHvykFBSYJX3CB9Ouv9ut0UDgs3Xuv1Lq1lJ9vPre/MFj272fMkJo1M9mZW+oADgaMEAJIebbuqEezzW+/HfhicV8CAbP+6JNPpJNPdqw0ux55RLr5ZjPqE+v/Ivx+qXNn6a23zEIsl9u40ZS7YMGBQ+C+RNePTphgpgynhKlTTQIOhWLveDAoHXGENHOmVK+es/VZEAqZGa+TJsXf1i23SA884OwAKSOEABKNEUIA2Iv166UOHeILg5K5+Ny61YSNb791rj5rxo0zYVCKb/gjHJY+/tgsqHT5fceSEum88+ILg5LpcjhsRhk/+MC5+qyZO9eEwZKS+DpeWmqG0s86S9q82bn6LLnpJunFF51p66GHpBEjnGkLAJKFQAgAe4hEzLqigoL4wmBUNBT27Bnfdbd1K1dKN9zgXHvhsFl/OG6cc21a8OCD0qxZzp6bXr3MzQTX2rZN+utfTaedCOylpeaOx5Ah8bdl0YcfOj/V8447zKY0AJCqCIQAsIfXXzdL55wMCKWlZmfSMWOca9NxV1/tTALe04ABf96m0yWWLTNrPZ0MCJGImYI6aJBzbTpu2DCze6yTb/JwWHriCbMtqwtt3iz17ev8o2F8PrOvjqtv9gDAfhAIAaCMSET617/sbZo4fLidzBW3efOk6dPtFLdtm9mW0YUefdROu6GQmZYY3ZzGVYqKpFGj9r87UqwCAdfOoXzxRTPq73S3QyHzNJYPP3S2XQBIFAIhAFcZMWKEfD6fBiVpeGXuXGnxYnvL3tatk957z07bcXniCXvPlIuOHJWU2Gk/Rhs3ShMn2gvofr95tp3rTJxonrpuQyhkktGqVXbaj1EkYjKwLYGAeTQNAKQiAiEA15g3b56efvppNW/ePGk1vP223WdtB4PmGK4SiZi1fjaHLn/9VZo/3177MZg27c/PXXdSKGSe7+46kyfbbd/nc91djx9/lJYutXejJxQyeyht22anfQCwiUAIwBU2b96sK6+8Us8++6yqJ/Hp3vPm2V0LVFpqHvvmKj/+KBUW2j2Gz+e6nTfy8uyGf0n65huzoZBrRCLmTW5z51e/35Xn2rZwWFq0yP5xAMBpBEIArtCvXz+dd9556tSpU1LrWLDA/lMSvvnGZbMnFy+2f4xgUPrqK/vHqYBFi+xvBBIOm5Ep11i71qwhtKm01HWB8Kuv7Id/n49ACCA1Wf71CAAH9sorryg/P1/z5s0r19cXFxeruMwaqCIHL3C3bHGsqX0Kh83UsrQ0+8cqF9sBQTLJa9Mm+8epgD/+SMwjEl3V7USc60Qep5yKiuxtFBXl97vsXANAOTFCCCCp1qxZo5tuukkvvviiKleuXK5/M3z4cGVnZ+985eTkOFaP01vS70sgkJjjlEsiivH5XNZp+yNGUa7qdqKKcVWnPdttACgXAiGApMrLy1NBQYFatWqlYDCoYDCoGTNmaNSoUQoGgwrtZU7f0KFDVVhYuPO1xsG9/evUcaypfcrIkKpWtX+ccqtXz/4x/H6pbl37x6mAnJzEXMAn4ttbbol4g0tS/fqJOU451atnf3pwKOSycw0A5cSUUQBJ1bFjRy3eYw1b37591aRJEw0ZMkSBvVyxp6enKz093Uo9bdqYPVZsXjy2amV/+lqFnHii/WOUlEi5ufaPUwG5udIrr9g9RkaGdPTRdo9RIZmZ0pFHSitX2jtGWpp08sn22o9Bbq6dxy7u7TgAkGoIhACSKjMzU82aNdvtc4cccohq1qz5p88nQps2dkNCMCi1a2ev/ZhkZUmNG0srVtg9zimn2G2/gtq0sRsS/H7TZVeFf0k6/XRpzRp7jxkpKTHfXBdp1cr87Nl8skq1ai4L/wBQTkwZBYAyrrjC7jrC0lKpd2977cfs2mvtdTwQMCHkyCPttB+jtm3NBbytwBYOS9dcY6ftuPTtaz8ZnXeevfZjkJkpXXqpvXWjgYD0t7+5MPwDQDkQCAG4zvTp0/XYY48l5diHHSZ1727nwjEQkNq3N4NxrtO3r72r5VBI6t/fTttx8PmkAQPstV+jhnTxxfbaj9mZZ0rHHmvnBkAgIF13nVTODaISqV8/ezk4FJKuv95O2wBgG4EQAPZw3312slEkIj38sPPtOqJGDemuu5wf4ggGzfTBSy5xtl2HXHedGbi0sbnMww9LlSo5327cfD7pscecny/r95vRwVtvdbZdh7RrJ114ofPn2u+XbrxROuYYZ9sFgEQhEALAHo480vng5vNJ//d/Zi2Taw0ZIjVv7lwa9vnM1fL48a7dj79KFWniRGezUTAodeni0qnBUV27mlFhJ89LOCw9/7xUs6ZzbTrI55OeftpMH3VqcDQQkA4/XHrgAWfaA4BkIBACwF5cf725oHdiwMzvNwHhzjvjb8uqYFCaPFmqXj3+oBD9xk2aZKYnutipp0ojRzrTVjAoNWwoTZiQAuvJRo0ydyicCoVDh5ohOBerXVt6803T5XhDYSBgbii8847ZTRYAUhWBEAD2wu83gx19+5qP47m4P+88cxGaluZMbVYdeaT0xRfmeXWxBoVAwLxeekm67DJn67NkwAATCn2+2Lvt95tpgzNnmrWorpeRIX30kXlERKxv8Giquv126f77navNog4dpPffl9LTYx8MDwbN5ryffZaYp7YAgE0EQgDYh0BAeu45M9qTkVGxoBAMmn01Ro2S3nrLlXts7Nuxx0qLF0s9epiPy9txn8+8jjtOmj/fbNmaQgYOlGbMMM9Ur8joUTBouj1woJSXJ9Wta69Gx1WrZjp9993mPFckIQUC0qGHSu+9Z8Kg64dEd+nc2bzFo09CKe/5jv4onHOOtGSJ1Lq1nfoAIJEIhACwHz6f1LOneUTfP/5hRgWkXSGgrOgIYJUqZrOSJUvMyJPNx1hYU726ScIff2yunqNhb8/AEB0NlKRGjaTRo6X8fKlFi8TX7IDTT5eWLpWGDzfBUNr79MLoufb7zSzJL7+UHn1Uqlo1sfU6Ii3NBMIFC8xNgGjn9hzSLnv+DzvMLIpdvtx1j5gor6OPNqO548dLJ5xgPuf3//n+R9mf9bZtzWj/u++mWPAHgP3wRSKRSLKLAIB4FBUVKTs7W4WFhcqKJjZLtm2TpkyR5s0zg2Dr15vdQw89VMrNNSMGXbvuCo4HjR9+MOEwL09atEjassUEhkaNTKfbtTOL8VJolOhAQiFp+nRp9mxzvn/80Ty2ICvLTBPMzTUjRYcfnuxKHfbbb9IHH5hznZ8v/fHHrt1TTjrJTDHt3DlF5kCXX36+GSydP9/k3OJic3OnWTNzrs86S2ra1H4difx9BgASgRDAQYALKAAHC36fAUi0VJzIBAAAAABwAIEQAAAAADyKQAgAAAAAHkUgBAAAAACPIhACAAAAgEcRCAEAAADAowiEAAAAAOBRBEIAAAAA8CgCIQAAAAB4FIEQAAAAADyKQAgAAAAAHkUgBAAAAACPIhACAAAAgEcRCAEAAADAowiEAAAAAOBRBEIAAAAA8CgCIQAAAAB4FIEQAAAAADyKQAgAAAAAHkUgBAAAAACPIhACAAAAgEcRCAEAAADAowiEAAAAAOBRBEIAAAAA8CgCIQAAAAB4FIEQAAAAADyKQAgAAAAAHkUgBAAAAACPIhACAAAAgEcRCAEAAADAowiEAAAAAOBRBEIAAAAA8CgCIQAAAAB4FIEQAAAAADwqmOwCACDVrF4tzZsn5edLGzZIkYhUo4Z04olS69bS0UdLPl+yq3RWSYm0cKGUlyctXSpt3SqlpUkNG0q5uabf1aoluUgLNmww5zovT/r5Z6m0VMrIkJo1M/0+4QQpEEh2lc6KRKRly6T586WvvpKKiiS/X6pTR2rVSjrpJKlu3WRX6bzNm815zsuTvv9eKi6WKleWGjc257pVK/MxABxsCIQAUA4lJdIbb0iPPy7NmmU+l5ZmLp4lEwBLSsyfTzhBuukmqUcPqUqV5NTrlJ9+kp5+WnrySem330w/g0HTb59PCoelUMh8rnt3qX9/qU2bZFcdn0hEmjZNGj1aevdd08dAwISiaL+j5/rww6V+/aRrrpEOOyy5dcerqEgaN04aNcoEImnXe9znM/8tLTWf79RJGjBAOv98831JZV99JY0ZI02YIG3fbvoTCOzqd2mp+XNmpjnPN94oHXNMsqsGAOf4IpHo5QwApKaioiJlZ2ersLBQWVlZjre/cKF01VXSkiXmQjEU2v/X+/0mRDRsKE2cKJ12muMlWRcOm0B0663mgvhAfZZMKCwtlXr2lEaOlKpXt1+n0375Rbr2WumDD3b150D8fumQQ0youOqq1Bwdfu896eqrzYiotOtGx75Efw7atZPGjzej4qlm61bp9ttNAA4Eyneuo6PBd95p/m1amvN12f59BgB7SvH7egBg1xNPmOmQy5ebj8sTjMJh8981a6QzzpDuuefAF9huUlgodexoRjmLi8vXZ2nXBfVLL0lNmpgptalk2jRT90cfmY/LExAkc743b5Z69ZIuu8yMMqWKUMiMeF1wgRkBjkTK916NvifmzDHTZ19/3W6dTvvuO1P344/vPvJ5IKGQed1zj5k6u26d3ToBIBEIhACwD489ZqYDRi8CKyoUMhebw4ZJt93mdHV2bNoknXWW9PnnsbcRCplwccYZqRMKP/5Y6tJF2rKl/OGgrGiImjxZuvBCaccOZ+uzIRyW+vSRnnpq18cVVVpqbhp07y69/LKj5Vnz3XdS27bmhk0sfZbM+V6yxIyQrl/vbH0AkGgEQgDYiylTpH/8w7n2HnzQrM9ys0jEjHItWhRbAC4rFDIjZeecY8Khm61caUJcOBx7QIgKh6VPPnH2vWPLiBHSpEnxj15HRxV79nT/DYBt20zw37gxtuBfVmmp2WCqW7f4f14AIJkIhACwh40bzciJ05tlDBhgdqp0q1dekd56y7mL21BI+uMP02+3Coel3r3NJjHxhsGybT7xhDR9ujPt2bB4sXT33c63e9VV7h4dvfNOcwMg3jAYVVoqzZ5t1swCQKoiEALAHv71L7O5hlMBIWr7drNJixtt3252CHV6Q5RQyEwlnDHD2Xad8tprZnqsUwEhyu+XrrvOvWtH+/Vzvs1QyKy1HTPG+badsHy59Mgjzv9cS9LQodKvvzrfLgAkAoEQAMrYulV69lk7U8BKS00AceOao9dek37/3U6ACQbNjqVuNHKknccmhMPSt99Kn37qfNvx+vprOyFYMu+fkSPthK54PfmkvWdGlpZKY8faaRsAbCMQAki6J598Us2bN1dWVpaysrLUtm1bffjhh0mp5b//Nc9jsyUcdudawieesPc8udJSs9lKQYGd9mO1dKmZ7mcrvASDuzZscZNnnzW12fLjj9Jnn9lrPxbFxdLzz9sJwZJ5D7l1ZBQADoRACCDp6tevrxEjRigvL0/z58/XWWedpQsvvFBLlixJeC0zZ9q9WI5EzDHcpLhYysuzO6oTCplHFLjJzJl2nxlYWurOdYSffmovGEnm5yeeXWpt+Oors4OsTatXm+dYAkCqIRACSLoLLrhA5557rho1aqRjjz1W999/vzIyMjR79uyE1zJ7tt2L5UhEmjvXXvuxWLzYbp8lExLy8uweo6Ly8uxNIYzasMFdIWH79l3P1LQlFJLmzbN7jIrKy7Mb/sseBwBSjcX74ABQcaFQSK+//rq2bNmitm3b7vVriouLVVxcvPPjIgfneK5a5VhT+7Rhg9n+vkoV+8cqjx9+sH+MSCQxx6mIb7+1H4Ql0+969ewfpzx+/tl+nyMR8711kx9+MDclSkrsHcPvd997HADKgxFCAK6wePFiZWRkKD09Xddff70mT56spk2b7vVrhw8fruzs7J2vnJwcx+pIRECQ3LU1v82L5KhIxF19lhJXj5v6nYhzLZlpyG6SiH77fO461wBQXgRCAK7QuHFjLVy4UHPmzNENN9yg3r17a+nSpXv92qFDh6qwsHDna82aNY7VkZ7uWFP7VblyYo5THokYqfT73TMiGnXIIYk5jpv6nahaqlZNzHHKKxH9Dofdda4BoLwIhABcoVKlSjrmmGOUm5ur4cOHq0WLFhq5j6c9p6en79yRNPpyynHHOdbUPuXkJC54lkeTJvaPEYkk5ntbEU2bSmlp9o+TiO9vedWvb/9mRCAgNW9u9xgV1aSJ/VFCN77HAaA8CIQAXCkcDu+2TjBRTjnFbkgIBKR9LI1MmsaN7YeEUEjKzbV7jIpq3dp+SGjQQKpe3e4xKiIQkE480f5x3HiuE6FVq8QcBwCcRCAEkHRDhw7VzJkztWrVKi1evFhDhw7V9OnTdeWVVya8ls6d7YaEUEjq1Mle+7EIBKSOHe0+bqNKFRO23aRDB7s7TwaDUteu9tqPVZcu9p45KbnzPd64sVSnjr32/X4TtN0U/gGgvAiEAJKuoKBAvXr1UuPGjdWxY0fNmzdPU6dOVefOnRNeS5cu0uGH22v/kEOkHj3stR+rfv3sbagTDEp9+0oZGXbaj1X9+tIFF9gLwqWl0g032Gk7HtdcY69tv9+MxrltpCwQMO9xW0E4HJYGDrTTNgDY5otEIpFkFwEA8SgqKlJ2drYKCwsdWU/4yCPSP/9p1gQ5ye+XBg+WHnrI2XadEA6bdVY//GBGeJzk90tff+3O9VUzZkjt2zvfbjAonXqqad+N/vpX6fXXnT/XkvTyy9IVVzjfbrzWrZOOOso88sVJfr8ZGVy92pnNdJz+fQYAB8IIIQDsYcAAsymGkyNHfr8Zebz7bufadJLfL40bZ4Khk3w+6fbb3RkGJenMM83opdMPqPf7pWefdbZNJz36qBmxdXLKbDBoRti7d3euTSfVqSP95z/OtxsOS889576dVQGgvAiEALCHtDRp0iQTEpycYjZxovumTZZ16qnSrbc6FxKCQalZM+nOO51pz5ZHHpHq1nU2FD70kHTssc6157Q6dUxgdWoUPBAw7+3nnrO7LjNe119v1ss6da79fqlnT6lbN2faA4BkIBACwF40aya98078odDnM6+JE81olNv9+9/SlVfGf1EfCJgdNj/6SKpUyZnabKlWTfr0U6lGDWdGhW+5xYwyu91ll5kwHK9AwGwa9PHHdtffOsHvl958U2rRIv5Q6PebcOnmkWAAKA8CIQDsw9lnm4vcmjVju3gMBqXMTGnyZHduJLM3fr80frxZQ+nzxX7R3KaNNGuW3Z0dndSokTR7tllHGUsYDgTM64EHzMvNo2Rl/eMf0vPPm+dixhKG/X7zXM0vvkjcox3ilZUlTZ++awfYip6r6A2iXr2kd9911zNFASAWBEIA2I8zz5RWrNgV6Mpz0Rz9mi5dpOXLpQsvtFefDX6/9OCDZkOUBg3M5w4UDKMjoVWqSKNGSTNnSrVq2a/VSUcdJeXlmXWewWD5Roaj57ppU/NvnZxymyhXX202/WnTxnxcnvd4IGD6OXCgtGSJGXFLJZmZZgbAxIkmIPp8Bz7f0b8/9FATBMeOJQwCODgQCAHgAKpXlyZMMOGuf38zxXBfMjLMJiULFpiLxrp1E1am404/XfrmG+mtt8xOnPsLCo0amY1KfvnFTJe0+Zw7mypVMoHwp5+k++7bFYj3Ji3NjDJ99JG0cGHqhaKyjjnGhPj//U+6/HIT7Peldm3pttukVavMOU/VzVR8Pumqq6Sff5aeflo64YR9h3m/3zxH88UXzW6i55+f2FoBwCYeOwEg5SV6m/ZIxFwU5udLGzaYj6tXl1q2NKNMqRqGDqS4WFq8WFq6VNq61QSihg3NM+cO5gdyFxSYc/3zz+bZghkZZo1p06bme3AwCoXMyPiiRVJRkRkRrF1bys2V6tVLdnX2bNpkbuZ89520Y4dUubJ5qH2LFokLvjx2AkCiEQgBpDwuoAAcLPh9BiDRDtL72AAAAACAAyEQAgAAAIBHEQgBAAAAwKMIhAAAAADgUQRCAAAAAPAoAiEAAAAAeBSBEAAAAAA8ikAIAAAAAB5FIAQAAAAAjyIQAgAAAIBHEQgBAAAAwKMIhAAAAADgUQRCAAAAAPAoAiEAAAAAeBSBEAAAAAA8ikAIAAAAAB5FIAQAAAAAjyIQAgAAAIBHEQgBAAAAwKMIhAAAAADgUQRCAAAAAPAoAiEAAAAAeBSBEAAAAAA8ikAIAAAAAB5FIAQAAAAAjyIQAgAAAIBHEQgBAAAAwKMIhAAAAADgUQRCAAAAAPAoAiEAAAAAeBSBEAAAAAA8ikAIAAAAAB5FIAQAAAAAjyIQAkAcIhEpHE52FYkXCpm+e4lXz3U47M1zHQoluwoASAwCIYCYff/997rjjjv017/+VQUFBZKkDz/8UEuWLElyZfYsXSrdcYfUqZNUrZrk90uBgJSVJZ1xhnTLLdL8+cmu0lklJdJ//ytde610wglSpUpSMGheOTnS5ZdLo0ZJv/2W7Eqd9csv0oMPSt26SXXqmPMcCEiVK0u5udKNN0offnhwhcRIRJoxQxo0SGrbVqpa1fTZ75cOO0w67zzpvvuklSuTXamzNm2SnnlGuvJK6aijdr2/g0GpSROpTx9p4kRp+/ZkVwoAzvNFIl677wfACTNmzFDXrl3Vrl07zZw5U8uWLdNRRx2lESNGaP78+XrjjTcSVktRUZGys7NVWFiorKwsK8f4/HPp//7P/DcY3PcIWTAolZZKrVqZC+dzz7VSTkLs2CE9+qj0yCNSQcGuvu0pEDDfi2BQ6tFD+ve/pbp1E1+vU777Tho6VJo8edc53lvoi34/GjSQbrtN+vvfTXBKRZGI9PLL0r33SitW7Ptc+3ymj+Gw1KWLNHy41KJF4ut1yh9/SHffLT33nAl7fv/eRwaj34/sbKlfP/O7oGpVOzUl4vcZAJRFIAQQk7Zt2+qyyy7T4MGDlZmZqUWLFumoo47S3LlzdfHFF+unn35KWC02L6C2bjXh4PHH932xuDfRi+aePaWRI6Xq1R0ty7pFi8xoydKlFZsuGAxKVapIY8aYvqeScNic5yFDzHneWyDan1NPlSZMkI4+2k59tqxdK11zjfTBBybwlfd8BwLmv3feKd1+u5SWZq9GG957T7r6aun33ys2PdTvNyPjEydKp5/ufF0EQgCJlqL3MgEk2+LFi3XRRRf96fO1atXShg0bklCR8zZulDp0kEaPrviaouiI0ksvSW3amOmHqWLqVOmUU6Tlyyu+dqy0VNq8WerVy4yapcotx1BI6tvXTJUsLq54GJSkuXPNyPDcuY6XZ82KFabmqVPNxxU5X6GQed1zj3ThhdK2bXZqtOHRR6ULLjDTnCu6VjAcln76SWrfXnrxRSvlAUBCEQgBxKRatWpau3btnz6/YMECHX744UmoyFnbtknnnCPl5cW3RiwUkn74wVw8/v67Y+VZM3OmuVAuKYl9U41oqHjgAWnYMMdKsyYSMdM9J06Mr53SUmnLFrO+9OuvnanNptWrpTPPlDZsiG8DlUjEBMrLLkuNjVieekoaPNj8Odaf7VBo1wyAyZOdqw0AkoFACCAmV1xxhYYMGaJ169bJ5/MpHA7rf//7n/75z3+qV69eyS4vbnfcYTaHceICt7TUhML+/eNvy6aNG80GMdGLXSfce6/02WfOtGXLK69Izz/vzGhmKGSmGV92mVmD6VbhsHTVVWaELJbR0L219/77Znq0my1eLA0Y4GybPXuaEUMASFUEQgAx+fe//60mTZooJydHmzdvVtOmTXXGGWfo1FNP1R133JHs8uLy5ZdmSpmTu0eGQmbTjrfecq5Npw0ebEaLnOx3IGCmj27Z4lybTlq/XrrhBrN2zimhkJmK+a9/Odem0556ymyQ5EQYLGvoUOmbb5xt0ymlpc6va41EzBTja65JnenRALAnNpUBEJfVq1fr66+/1ubNm9WyZUs1atQo4TU4vQlD585mVMvp6W8+n3TccWY6oZMBxAkrV5rNUGz8H8HnM+swb7zR+bbjdccd0ogRdqY6Vq4srVtndqZ0k5ISqV49E/6dFgya0PXCC863Ha/Jk6WLL7bX/uzZZu1tvNhUBkCiMUIIIC4NGjTQueeeq8svvzwpYdBp330nffKJnYAQiZhdO7/80vm24/XUU3YfmTBypPtGUIqLpSeftLfurbhYGj/eTtvxmDzZThiUzCjciy+6c73sqFG7dkZ1WjBodtYFgFREIAQQk0gkotdff1033nijLr30Ul188cW7vSpi+PDhOumkk5SZmalatWqpW7duWrFihaXK9+/VV+1dNErmwvHll+21H6uJE+0Fo0jETCNcvNhO+7H67DP7wSXejWpseOklu+/xHTukt9+2134sCgqk6dPtvcdLS6XXXnN+Ci4AJAKBEEBMBg0apJ49e2rlypXKyMhQdnb2bq+KmDFjhvr166fZs2fr448/VklJic4++2xtScLCs3nz7I5klZaaqWVuUlBgnkVn2/z59o9REfPn2w1GkYj01VdmiqabzJ5tdzfQtDT3neu8PPvHKC42MwAAINUEk10AgNQ0ceJEvfnmmzr33HPjbmvKlCm7fTxu3DjVqlVLeXl5OuOMM+JuvyLmznV2U5W9+eorc0FuM4xUxIIF9o+RlpaY41REXp79aaw7dpjnOZ5wgt3jlNeGDWYjHZtKSsyNFTfJzzc/b7Yfi5GfLzVvbvcYAOA0AiGAmGRnZ+uoo46y0nZhYaEkqUaNGnv9++LiYhUXF+/8uKioyLFjb9zoWFP7VFJiHk2QmWn/WOWRiPVe4bB5xIGbOL2j6r64qd+JWtv366+JOU55/f67WSNrMxAGAu461wBQXkwZBRCTYcOG6Z577tG2bdscbTccDmvQoEFq166dmjVrttevGT58+G7TU3NychytAQAAwCsYIQQQk8svv1wvv/yyatWqpYYNGyotLW23v8/Pz4+p3X79+unrr7/WF198sc+vGTp0qAYPHrzz46KiIsdCYbVqksMZ90/S0qSqVe0eoyL2MRDrKL9fqlnT/nEq4tBDTV22Rwnd1O9EnGtJOuywxBynvGrUsH+eQyF3nWsAKC8CIYCY9O7dW3l5ebrqqqtUu3Zt+Rx4sF7//v313nvvaebMmapfv/4+vy49PV3p6elxH29vTj5ZevdduxePzZu7Z/2gJLVsaf8YJSWJOU5F5Oaac21TpUpSkyZ2j1ERhx4q1a5tdx1hWpp00kn22o9Fq1b21w9GjwMAqYZACCAm77//vqZOnarTTjst7rYikYgGDBigyZMna/r06TryyCMdqDA2J50kvfeevfaDQalNG3vtx6JWLaluXfs7jbZubbf9imrd2m5I8PlM+N9j8Dzp2rQx73FbfS8pcd+5zs21f4z0dKlpU/vHAQCnsYYQQExycnKUlZXlSFv9+vXTpEmT9NJLLykzM1Pr1q3TunXrHF+fWB7du9sNCaWl0l//aq/9WPXsaW/U0ueTGjd2z06bUR062J9C2bOn3fZj0aOH3fd4pUrShRfaaz8WtWpJ7dvbfTD95Zeb/wJAqiEQAojJww8/rFtvvVWrVq2Ku60nn3xShYWFat++verWrbvz9eqrr8ZfaAUdc4zUqZOdC0efTzr+eOnUU51vO17XX293muzAgab/bpKeLt1wg72QkJ4u9e5tp+14XHSRmTpqQzAoXXll4tYqVsTAgXYfTN+vn522AcA2XyRi+ylMAA5G1atX19atW1VaWqqqVav+aVOZ3xO1v73MpjLZ2dkqLCx0ZNRy1iypXTs7z6h76y33jZ5EXX21NGGCsxfNgYBUr560bJl0yCHOteuU9evN6GVRkbPn2+eT7rhDuvde59p00hNP2AkwlSpJixdLxx7rfNvxKi01U1mXLDF/dkowKHXsKH34oTM3PZz+fQYAB0IgBBCT8ePH7/fveydwaMTGBdTNN0uPPebcqFkgYKaUvfSSM+3ZsHGj2QDl11+dHS387DMzXc+tXn7ZTKN0SiBgAtHChSYguVE4bM7JrFnOhqOHH5bKbADsOosXm41fnOqzz2dudCxbJu1nH6wKIRACSDQCIYCUZ+MCats2s8Zs/vz4R8yCQenII6XZs905la6szz83ox2hkDOh8K67pHvuib8dmyIR6dprpRdeiH+UMBAwjxT58ktpH4/RdI3Vq82uuhs2xP8e9/ulrl2lt9921w66e/PUU2aqsBN8Pum//zXTcJ1CIASQaKwhBFBuRUVFu/15f69UV6WKNGWK2Z3QH8dvykBAOuooafp094dBSTr9dPMohrS02C/so9PmhgyRhg1zrDRrfD7p6afj3wAmGJQyMqRp09wfBiWpQQNpxgzzzMB4QpzPJ51zjvT66+4Pg5JZL/vII+bPsf5sBwLm306a5GwYBIBkIBACKLfq1auroKBAklStWjVVr179T6/o5w8G1aqZ6Y4DBpiL3opc7EYvNK+80owM1qtnpUQrzjlHmjNHOu64iq+JCgSkzExp4kRpxAj3bSSzL4GANHasNHKk2Qwmlt0iTzlFystz3zP49qdxYyk/X+rSxXxckfMVCJjXsGFmZLBKFSslWvGPf5hHb9SsWfEQ6/dLOTkmTDs51RgAkoUpowDKbcaMGWrXrp2CwaDGjx+vnJwcBfa4mgqHw1q9enXKryHc0+efm01CZs40YSEU2vv0wmDQrE/KzTUbipx7rpVyEqKkxIykPPKIVFCwq297CgTM9NK0NBOA77/fPNcwVX33nXT77dKbb+46x3ubPhv9fjRoIN12m/T3v8c3mpxMkYhZS3nvvdKKFfs+1z6f6WM4bELk8OFSixaJr9cpf/xhAu1zz5lp4n7/3qfPRr8f2dlS//7m/VG1qp2amDIKINEIhABiEggEtHbtWtWqVWu3z//222+qVauWQjYfdLaHRF5ALV1qNoaZM8esL9y40Xw+M1Nq2dKMEnXvnpgHYSdKSYn0zjvS1Kmm38uWmc/5/dLhh0tt25pdWa+6KjWmxZbX2rVmpHPWLDPKu369CU6VK5vHh5xyinT++WZENVWD4J4iEXPz4803pblzpUWLpK1bTRCsWdOsOWzTxpzrI49MdrXO2bRJeuUVM+o3a5a0apUJvcGgeRRNmzZmbe2ll5rzbxOBEECiEQgBxMTv92v9+vU67LDDdvv8jz/+qKZNm2rLli0JqyWZF1CRiHkdLIGgvMJhExJSZUqoEzjXya4kscLh5JxrAiGARIthlQQALxv8//eU9/l8uvPOO1W1zLypUCikOXPm6MQTT0xSdYnnxQtlyXuhSOJce41X+w3AewiEACpkwYIFkqRIJKLFixerUpkHrVWqVEktWrTQP//5z2SVBwAAgAogEAKokM8++0yS1LdvX40cOZIpTQAAACmMQAggJmPHjk12CQAAAIgTM+QBAAAAwKMIhAAAAADgUQRCAAAAAPAoAiEAAAAAeBSBEAAAAAA8ikAIAAAAAB5FIAQAAAAAjyIQAgAAAIBHEQgBAAAAwKMIhAAAAADgUQRCAAAAAPAoAiEAAAAAeBSBEAAAAAA8ikAIAAAAAB5FIAQAAAAAjyIQAgAAAIBHEQgBAAAAwKMIhAAAAADgUQRCAAAAAPAoAiEAAAAAeBSBEAAAAAA8ikAIAAAAAB5FIAQAAAAAjyIQAgAAAIBHEQgBAAAAwKMIhAAAAADgUQRCAAAAAPAoAiEAAAAAeBSBEAAAAAA8ikAIAAAAAB4VTHYBAJByIhHpxx+l/HxpwwbzcY0a0oknSkcfLfkPznttxcXSV19JS5dKW7dKaWlSw4ZSq1am+wetggIpL0/6+WeptFTKyJCaNZOOP958Ew5CoZC0fLk530VF5i1dp4451/XqST5fsiu0pKhIWrBA+v5784avXFlq3Nj8bFetmuzqAMAKAiEAlNeKFdKTT0rjx0sbN+79azIypO7dpf79zUVkiistld57T3r8cWnGDBMUJBMIIpFdX3fssdINN0i9e0vVqyenVketXy8995z0zDPS6tW7Pl+242lpUpcu5lx36pTyNwIiEenLL6UxY6TJk6Xt2/f+dbVrS3/7m/T3v0sNGiS2Ris2b5Zeesl0/Kuvdn2+7Ln2+6WTTzbn+tJLpfT05NQKABb4IpGy/0sHgNRTVFSk7OxsFRYWKisry/kD/PGHdNNN0sSJUjBoUtL+RL/m/POlp582Qyop6PPPpV69pFWrpEBgVxjcm+iIUeXK0ogR5ro5JfPRjh3Sv/8t3X+/FA6b1/5Ez3WzZub9kaI3Ab77TurTR/rf/8r3Fg8EzLdm4EDzrTrkkISU6axIRJo0SRowwIwMRj+3L36/6XStWtLzz5ufbwus/z4DgD2k4v+uASBxZswwU8Zeesl8fKAr5bJfM2WK1KSJ9Pbb9uqzIByWbrlFOvNMac0a87n9hUHJXEdHItK2bSY7n3GGmWmZUn74wcyJvPdecw4PFAalXed62TKpdWvpgQf2Hypc6IUXTJ6dM8d8XJ63eChkuvn442bm7KJFdmt03KZN0l/+Yu54FBXtegPvT/T9sGGDdMEFUt++ZlopAKQ4AiEA7MtHH0mdO0u//XbgRLQ3paVmOtpFF+0KlC4XDptpnw8/bK6PY+m2JM2eLbVtK61b52x91nz7rdSmjZkWHEugC4XM67bbpCFDUiYUPvqomf5ZXFy+ILincFj66SfptNOk+fOdr8+KoiKpfXvpww/NxxU9V9FgOGGCCYaEQgApjkAIAHvz9ddmBCEUKt9I0b5ERx569jSjjS53++3Siy/Gn2dCIbP07uyzzSxMV9u4UerQQfr999hS0Z4eesgMnbnca69JgwfH304oZEaGO3c24dDVwmHp4ovNkGasdzvKtjVtmnTttc7UBgBJQiAEgD2VlEhXXRV/GNxTz55mxNClvvxSevBB5wa3SktNrr7vPmfas2bwYDOUGW9AKOuWW6RvvnGuPYetWyddd51zu4WGQuatfc01Lh8cfeopE+KcOtfhsFk7+tZbzrQHAElAIASAPT3+uNlt0InRoqhw2Dy24J57nGvTQeGw2VTE6Y1gIhGzR8uyZc6265gZM6SxY50Ng5L5hrp45Ogf/zABzsnwVloqTZ0qvfqqc206at066eabnW/X5zNJeOtW59sGgAQgEAJAWaGQ9MgjdoY5wmHz2IotW5xvO05Tp5pldE7nIsmEzNGjnW/XEY88YrbVdFppqTRzpit3W/n5ZzNd1Na5fvhh59t1xHPP2Zm/HImYdcauTcIAsH8EQgBJN3PmTF1wwQWqV6+efD6f3krm9KspU8wVsy1btrhyg5kxY+zkIslko7FjXThb9qefpHffdXYkuKxg0NwAcJnnnrPXdjhsNpfJz7d3jJiEQuZN7uQU8LL8fmnUKDttA4BlBEIASbdlyxa1aNFCY8aMSXYp0scfmweO2xIISJ98Yq/9GIRCZlmVrVwkmU1Hoo81cI3PPrO74K20dNdOli4yZYq9XCS58i1udo+1ueVtOCwtXGieWQoAKcbS/WAAKL+uXbuqa9euyS7DmDPHbCpjSygkzZplr/0YrFghbd9u9xiBgJSXJ3XsaPc4FTJ/vgn/Ns/36tUmJFSvbu8YFRAKmdxiW16e/WNUSKKeiZGf77I3OQAcGCOEAFBWInY/WbPGVc8uW77c/jF8PhduLLN0qd0wGJWIb3A5/fST/fAfCpk9mVxl+XK7I/+SS9/kAHBgjBACSDnFxcUqLhOoioqKnGzcubb2Z/t2KT09Mcc6gG3b7B8jHE7McSokUZv7uKjjiSrFdRtuJqLjfr+rzjUAlBcjhABSzvDhw5Wdnb3zlZOT41zjtnZW2VOlSok5TjnYHjiRzOCJi7psJKogF3U8Eedacs29jl0S0fFIxFXnGgDKi0AIIOUMHTpUhYWFO19r1qxxrvGGDZ1ra18OPVSqUsX+ccrpqKPsH8PnS8xxKqRRo8TcAHBRx+vXt99ln898a13lqKPs7pokmWFwF51rACgvAiGAlJOenq6srKzdXo5p08buFbPPJ518sr32Y3DCCfZDQmmplJtr9xgVlptr52F8ZR16qFSvnt1jVEB6utSkid1jBALSSSfZPUaF5eba3VG27HEAIMUQCAEk3ebNm7Vw4UIt/P/bH65cuVILFy7U6tWrE1/MGWfYHUnw+cwxXCQ9XWrd2iyBsiUQMFnbVc44w25ICAal9u3ttR+js86yewOgtFQ6/XR77cekeXMpI8PuMRo0cFX4B4DyIhACSLr58+erZcuWatmypSRp8ODBatmype66667EF3PJJZKTI4578vulPn3stR+jG26w92y6YFC66CLpsMPstB+zpk1NSrWVhEtLpeuvt9N2HK691u49jyOOkDp0sNd+TNLTpauvtpeE/X6pXz87bQOAZQRCAEnXvn17RSKRP73GjRuX+GKqVjVXzIGA820Hg9Lll0u1azvfdpwuv1yqUcMMYDqttFTq39/5dh1x0012krDfbxbSnXWW823HqVkzM4JnIxv5fOZbanO0OWY33GBvinAwKPXta6dtALDMjb+yASC57rjDrP1y+qq2cmXpwQedbdMhlStLo0c7P4MyEJD++lfpzDOdbdcxl19upo46nY7CYemZZ+wkbAeMGeN8m4GAWZ/o2oGyJk2kwYPtpNXhw104BA4A5UMgBIA9VasmjRvn/MjR449Lhx/ubJsOuuIKqVs35wZHAwGpenXTbdfy+825TktzLij4/dKNN7py/WDUCSdI99zjXHvR3DtpksufvHDffWYnUKduAASDZtrxTTc50x4AJAGBEAD2pksX6dFHnWvv1ltduXawLJ9PmjBBatEi/lAYCJhRx6lTpZo1nanPmiOPlN5+2wS5eEOh3y916uTse8eS226TevaMfxAz+u8nTpRatYq/LquqVJGmTDE3feINhcGg2UjmrbfsTDEHgAQhEALAvgwaZObWBQKxXfAFAuZqedgwacQIp6uzIjNT+vTT+HaJDARMCJw5MwUCQlTnziYoZGTEFhSiqejii024dPUwmeH3S2PHmqV10Y8rKhg0+7W8+qqZGpwSjj5amjVLysmJ/QaAzycdf7z0v/+5ck0wAFQEgRAA9ufGG6W8POm448zH5QmG0YvMnByTiu6+27VryfYmO1uaNk0aNcqM8pU3C0dz1JVXSsuXp1AYjOrY0RR+zjnm4/IGQ7/fJOmJE6XXXjPftBQRCJh7Hu++a0K8z1e+t2r0PXHKKdLXX0uXXWa3Tscdc4wpfOBA0+HynuvozaFhw6R586Q6dayWCQCJQCAEgANp0ULKz5deftlcAUcFg2btWfS/Uc2aSc8/Ly1dKp12WuLrdYDfLw0YIH37rXT77bumffp8u3c5GgyCQbMGcdYsafx4s3YwJdWta9LRJ59I55+/K9wHAns/14cfLt1/v/Tdd9JVV6VU8C/r/PNNF0aONANoUWW7XDYznXWWGQidOXP3r08pVauaqb2LFkl/+9uuIO/3797x6DnNyjJrBZcvl+66a/f3AQCkMF8kYvOpvABgX1FRkbKzs1VYWKgsm88QjFq9Wpo/34TEDRvM1pzVq0stW0q5ueYKOUWDwb6UlJjr5rw8k3O3bjXXww0bmi63bm1GFg86GzaYc52XJ/38s3mGRkaGCf25uea/B9n6sUhEWrbMdHnRIqmoyHSxdu1d57pu3WRXacHmzeZnOi/PpOMdO0xIbNzYdLxly4SM/ib89xkAzyMQAkh5XEABOFjw+wxAojFlFAAAAAA8ikAIAAAAAB5FIAQAAAAAjyIQAgAAAIBHEQgBAAAAwKMIhAAAAADgUQRCAAAAAPAoAiEAAAAAeBSBEAAAAAA8ikAIAAAAAB5FIAQAAAAAjyIQAgAAAIBHEQgBAAAAwKMIhAAAAADgUQRCAAAAAPAoAiEAAAAAeBSBEAAAAAA8ikAIAAAAAB5FIAQAAAAAjyIQAgAAAIBHEQgBAAAAwKMIhAAAAADgUQRCAAAAAPAoAiEAAAAAeBSBEAAAAAA8ikAIAAAAAB5FIAQAAAAAjyIQAgAAAIBHEQgBAAAAwKMIhAAAAADgUQRCAAAAAPAoAiEAAAAAeBSBEAAAAAA8ikAIAAAAAB4VTHYBAJBKtm2TpkyR5s6V5s+X1q+XIhHpsMOkVq2k1q2lc8+VsrKSXamzfvhB+ugjKS9PWrRI2rJFSkuTGjUyfT7tNOnUUyWfL9mVOicUkqZPl2bNkubNk378USotNef2xBOl3FypSxfp8MOTXamzNmyQPvzQvL/z86WNGyW/X6pf35zrU06ROnc25/9gEYmYvs6YYfq9YoW0fbtUpYrUrJk51x07Sk2bJrtSAHCeLxKJRJJdBADEo6ioSNnZ2SosLFSWpSS2dq308MPSs89KRUVSMGgCQ9nfoGlpUkmJuYjs00f65z+lo46yUk7CfPKJ9J//mDAoSYGACUVRgYD5byhkwuFNN0nXXZfaYWHLFmn0aPP66SfTx0hECod3fU30XPv9Urdu0i23SG3aJK1kRyxeLD30kPTKK6Zv0T5G+Xy7zv9hh0k33CANGiRVr560kuMWDksTJ0qPPmpudPj9pp+h0K6vKfuz3q6dNHiwdNFF9m5+JOL3GQCURSAEkPJsXkBFItKkSVK/ftLWrbtfKO5PMGheDz5o/q0/xSbo//GHCXcTJ5oQUJ5+Ry+Qjz/efM9atLBbow2ffy717CmtWbN7ANyfaGAYOFD697+lqlXt1ui0HTuk4cOl++4z57Bs4N+fQECqWVN64QXpvPPs1mjDd99JvXtLX35pfj7Lc76jX3feeebmUN26ztdFIASQaARCACnP1gVUKGRGu154wVwox/rb8vzzpddflypXdqw0q775RjrrLGnduvIH4LICAfP9mjhRuuIK5+uzZdQoM+Ll98fWb79fOvZYado0qV49x8uzYuNGM8V59uzY3t/RgDR0qHT//akzZfjjj6ULLzQjoOUNwGUFg1Jmphk5b93a2doIhAASLcXuWQNAYoTD0t/+Jo0daz6O59bZBx9IF1+8+/Q7t1q50qwHjDUMSubfhUJSjx7Sa685W58to0aZEdFIJPZ+h8Nm1OmMM6Rff3W2Phs2bzZrAefOjf39HR1VGz5c+r//c642mz791ITg4uLYwqBk/l1RkdShg7RwoaPlAUDCEQgBYC+eekoaPz6+IBgVDpuNaO67L/62bCopMWuj/vgj9lAUFf2+9expRhzd7MsvzcigE0pLzeYzPXs6896xaeBAacGC+M911PDh0ttvO9OWLevXS5dcYn4myzsleF9CIbPJ1F/+YsI1AKQqAiEA7GHlSunmm51tMxIxU+ry851t10kPPih99VXsoyZ7im7E0quXc6HDadu2mfDm5BrP0lJp6lRzQ8GtPvzQjH47eV78fjOq/ttvzrXppEhE+vvfpU2b4g+DUaGQ9PPP0pAhzrQHAMlAIASAPdx5p3OhqCyfz/mg6ZTffpPuvdf5Ua3SUmnOHOm//3W2Xac884y5AWAjsN58s9mwxW0iETM91umNjsJhsybxwQedbdcp//ufGcF0+lyHw9ITT5jpwgCQigiEAFDGr79Kr75qJxBGn2u3YoXzbcdr3Dg7fZbMJjOjR9tpOx6RiFk7aMvvv0tvvmmv/VjNmCF9+61zo2RlhUImZG/f7nzb8RozxmwGY0MgYKaZA0AqIhACcI0xY8aoYcOGqly5sk455RTNnTs34TW88oqdC+WoYNCdUwmffdZev0Mh8ziHlSvttB+rWbOkH36wt9bP75eee85O2/EYO9ZeMJLMKOH779trPxabNklvvGHvpkcoJD3/vPvXjQLA3hAIAbjCq6++qsGDB+vuu+9Wfn6+WrRooXPOOUcFBQUJrWP2bLtb55eWmqlrblJUlJhRyzlz7B+jImbPtvt8yHDY9NltIeHzz+0FI8k80H72bHvtxyI/326fJROEv//e7jEAwAYCIQBXeOSRR3Tttdeqb9++atq0qZ566ilVrVpVL7zwQkLrmD3b/gYo+fnuCgmJ2DY/LU3Ky7N/nIrIy7P/3LzNm90VEjZtsj9SW1JiHmXhJnl5dsN/2eMAQKohEAJIuh07digvL0+dOnXa+Tm/369OnTpp1qxZf/r64uJiFRUV7fZyyrp1jjW1T5s3S1u32j9Oef3yi/1jhMPS2rX2j1MRa9YkZvfTRHx/yysR729J+umnxBynvH75xazzsykQcNe5BoDyIhACSLoNGzYoFAqpdu3au32+du3aWreXK9jhw4crOzt75ysnJ8exWmyuHyzLTY9hSEQt8Tzw3RbbUwij3NTvRNXipj5L3u03AJQHgRBAyhk6dKgKCwt3vtasWeNY24cc4lhT++T3S1Wq2D9OeWVl2T9GICBlZto/TkVUr25/yqjkrn4n4lwn8jjllZVlf5p2OOyucw0A5UUgBJB0hx56qAKBgNavX7/b59evX686der86evT09OVlZW128spLVvaDwnHHmvW1LnFCSfYP0ZpqdS8uf3jVESLFvanEfr9UtOmdo9REXXr2g9rwaCUm2v3GBXVvLn9EeFIxLynACDVEAgBJF2lSpWUm5uradOm7fxcOBzWtGnT1LZt24TWctJJdkNCMCi1aWOv/VgccYSUnW33GJGI+0JCbq79kHDssVLVqnaPURE+n3mP27zpEQ6781zb5vcTCAGkJgIhAFcYPHiwnn32WY0fP17Lli3TDTfcoC1btqhv374JrePCC+2GhNJScww38fmkiy6y+2y6ww6TWre2134sOnaUKle2134gIF16qb32Y3XRRXbbj0Sk88+3e4yKOuIIM1JrKwgHAlLnzu6aCg4A5UUgBOAK3bt313/+8x/dddddOvHEE7Vw4UJNmTLlTxvN2HbyyWZ6ma0Lxzp13HexLEn9+tkLwn6/dOON7pomK0nVqkk9e9oLwuGwdN11dtqOR8+eUnq6nbYDAalrV6lhQzvtx8rnkwYOtNd+KCT172+vfQCwyReJuOlpWABQcUVFRcrOzlZhYaEj6wlfe03q3t2BwvZi5Ei7F6bx6NBB+uIL54NhRob07bcmDLvNsmV21pcFAlKPHtKECc6265QhQ6T//MfOrrozZ0qnn+58u/HavFlq1EgqKHC234GAaffrr52Zbu707zMAOBBGCAFgD5ddJv3lL86uJYyuHezXz7k2nfbCC3ZGy0aNcmcYlKTjjpOGDXN2RNjvN6OPjz7qXJtOGzbMjOI5+R6PjgS7MQxK5sbECy84H4IjEWnSJPsbFAGALQRCANiDzyc984xUq5YzASkQMBuLTJjg7ovGI4+UnnzSufb8funii6U+fZxr04Zbb5XatnX23EyYINWs6Vx7TqtSRXr5ZdNnJ8JwMGhGyR54IP62bOra1dyUcfIGwL/+5b5NdACgIgiEALAXtWtL06ebi/p4QmE0DH78sblgdrs+faSHHzZ/juei2e83m2y8+GJinvUXj7Q06YMPzCNH4gmFfr95TZggnXuuc/XZcvLJ0jvvmP7H0+9g0Iw2fvqpGYVzu5EjpSuvdKatW26RbrvNmbYAIFkIhACwD8ceK82ZYy6cY+HzmSmJs2fH3kYyDB5sRo8yMysehqMjTgMHmrBhcxdPJ2Vnm0DTo4f52F/B/zsGAubmwQcfOBc2EuGcc6QZM6ScnIr3ORr0zzlH+vJLqV495+uzIRCQxo+X7r3X/LmiYTgYNO/rMWPMiKjbb3gAwIEQCAFgP444Qvr8czOqUK2a+dz+Lpx9PvM65BDpnnuk/Hx3PZi8vK64Qlq+3Dwiw+c78EVzNDg2bmwCxqOPSpUq2a/TSZmZZnTvnXdMQJIOHIj9fvO96dVLWrHChKNU06aNtGSJNGiQOWcHCjjR90KtWtLEidK775rHiqQSv1+6804pL2/XdM8Dnevo37dvbzaQufFGwiCAgwO7jAJIeYnalW/7dumNN8xF8Jw5UmHh7n+fkWEuLnv0MK9UmD5XHqtWmTWV778vLV365x05GzQwF8nXXiu1a3dwXCSHw2aa7/PPm51X167d/e8rVZJOOEHq1k265hr3bppTUb//bkbPXn9dWrDAvOfLOvRQs96yb1/pggvsPrsykfLzzXv8k0+kH34wG8VE+f1mtkCXLtLf/y41aWK3FnYZBZBoBEIAKS8ZF1CRiLRmjbRhg/lz9epmHVVFp92lmuJi6bvvpK1bzdqzI44wfT/YFRRIv/xiwnBGhnT00e57rqLTQiETjgoLzahg7dqpMy00Hps2mX7v2GGmhh59tFkHnCgEQgCJRiAEkPK4gAJwsOD3GYBEO8jvZQMAAAAA9oVACAAAAAAeRSAEAAAAAI8iEAIAAACARxEIAQAAAMCjCIQAAAAA4FEEQgAAAADwKAIhAAAAAHgUgRAAAAAAPIpACAAAAAAeRSAEAAAAAI8iEAIAAACARxEIAQAAAMCjCIQAAAAA4FEEQgAAAADwqGCyCwCAeEUiEUlSUVFRkisBgPhEf49Ff68BgG0EQgApb9OmTZKknJycJFcCAM7YtGmTsrOzk10GAA/wRbgFBSDFhcNh/fLLL8rMzJTP50vosYuKipSTk6M1a9YoKysrocdOJi/224t9lrzZ72T2ORKJaNOmTapXr578flb2ALCPEUIAKc/v96t+/fpJrSErK8szF8tlebHfXuyz5M1+J6vPjAwCSCRuPQEAAACARxEIAQAAAMCjCIQAEIf09HTdfffdSk9PT3YpCeXFfnuxz5I3++3FPgPwLjaVAQAAAACPYoQQAAAAADyKQAgAAAAAHkUgBAAAAACPIhACAAAAgEcRCAEgDmPGjFHDhg1VuXJlnXLKKZo7d26yS7Jq5syZuuCCC1SvXj35fD699dZbyS7JuuHDh+ukk05SZmamatWqpW7dumnFihXJLsu6J598Us2bN9/5cPa2bdvqww8/THZZCTVixAj5fD4NGjQo2aUAgDUEQgCI0auvvqrBgwfr7rvvVn5+vlq0aKFzzjlHBQUFyS7Nmi1btqhFixYaM2ZMsktJmBkzZqhfv36aPXu2Pv74Y5WUlOjss8/Wli1bkl2aVfXr19eIESOUl5en+fPn66yzztKFF16oJUuWJLu0hJg3b56efvppNW/ePNmlAIBVPHYCAGJ0yimn6KSTTtLo0aMlSeFwWDk5ORowYIBuu+22JFdnn8/n0+TJk9WtW7dkl5JQv/76q2rVqqUZM2bojDPOSHY5CVWjRg099NBD+tvf/pbsUqzavHmzWrVqpSeeeEL/+te/dOKJJ+qxxx5LdlkAYAUjhAAQgx07digvL0+dOnXa+Tm/369OnTpp1qxZSawMthUWFkoy4cgrQqGQXnnlFW3ZskVt27ZNdjnW9evXT+edd95uP98AcLAKJrsAAEhFGzZsUCgUUu3atXf7fO3atbV8+fIkVQXbwuGwBg0apHbt2qlZs2bJLse6xYsXq23bttq+fbsyMjI0efJkNW3aNNllWfXKK68oPz9f8+bNS3YpAJAQBEIAAMqpX79++vrrr/XFF18ku5SEaNy4sRYuXKjCwkK98cYb6t27t2bMmHHQhsI1a9bopptu0scff6zKlSsnuxwASAgCIQDE4NBDD1UgEND69et3+/z69etVp06dJFUFm/r376/33ntPM2fOVP369ZNdTkJUqlRJxxxzjCQpNzdX8+bN08iRI/X0008nuTI78vLyVFBQoFatWu38XCgU0syZMzV69GgVFxcrEAgksUIAcB5rCAEgBpUqVVJubq6mTZu283PhcFjTpk3zxBorL4lEIurfv78mT56sTz/9VEceeWSyS0qacDis4uLiZJdhTceOHbV48WItXLhw56t169a68sortXDhQsIggIMSI4QAEKPBgwerd+/eat26tU4++WQ99thj2rJli/r27Zvs0qzZvHmzvvvuu50fr1y5UgsXLlSNGjXUoEGDJFZmT79+/fTSSy/p7bffVmZmptatWydJys7OVpUqVZJcnT1Dhw5V165d1aBBA23atEkvvfSSpk+frqlTpya7NGsyMzP/tDb0kEMOUc2aNT2xZhSANxEIASBG3bt316+//qq77rpL69at04knnqgpU6b8aaOZg8n8+fPVoUOHnR8PHjxYktS7d2+NGzcuSVXZ9eSTT0qS2rdvv9vnx44dqz59+iS+oAQpKChQr169tHbtWmVnZ6t58+aaOnWqOnfunOzSAAAO4jmEAAAAAOBRrCEEAAAAAI8iEAIAAACARxEIAQAAAMCjCIQAAAAA4FEEQgAAAADwKAIhAAAAAHgUgRAAAAAAPIpACADAXqxatUo+n08LFy5MdikAAFhDIAQAYC9ycnK0du1aNWvWTJI0ffp0+Xw+bdy4MbmFAQDgoGCyCwAAwI0CgYDq1KmT7DIAALCKEUIAgKeFw2E9+OCDOuaYY5Senq4GDRro/vvv323K6KpVq9ShQwdJUvXq1eXz+dSnTx9NmDBBNWvWVHFx8W5tduvWTT179kxGdwAAqBBGCAEAnjZ06FA9++yzevTRR3Xaaadp7dq1Wr58+W5fk5OTo//+97+65JJLtGLFCmVlZalKlSqqVKmSBg4cqHfeeUeXXXaZJKmgoEDvv/++Pvroo2R0BwCACiEQAgA8a9OmTRo5cqRGjx6t3r17S5KOPvponXbaaVq1atXOrwsEAqpRo4YkqVatWqpWrdrOv+vRo4fGjh27MxBOmjRJDRo0UPv27RPVDQAAYsaUUQCAZy1btkzFxcXq2LFjzG1ce+21+uijj/Tzzz9LksaNG6c+ffrI5/M5VSYAANYwQggA8KwqVarE3UbLli3VokULTZgwQWeffbaWLFmi999/34HqAACwjxFCAIBnNWrUSFWqVNG0adMO+LWVKlWSJIVCoT/93TXXXKNx48Zp7Nix6tSpk3JychyvFQAAGwiEAADPqly5soYMGaJbb71VEyZM0Pfff6/Zs2fr+eef/9PXHnHEEfL5fHrvvff066+/avPmzTv/rkePHvrpp5/07LPP6uqrr05kFwAAiAuBEADgaXfeeaduvvlm3XXXXTruuOPUvXt3FRQU/OnrDj/8cN1zzz267bbbVLt2bfXv33/n32VnZ+uSSy5RRkaGunXrlsDqAQCIjy8SiUSSXQQAAKmuY8eOOv744zVq1KhklwIAQLkRCAEAiMMff/yh6dOn69JLL9XSpUvVuHHjZJcEAEC5scsoAABxaNmypf744w898MADhEEAQMphhBAAAAAAPOr/ARr1YRIczdLxAAAAAElFTkSuQmCC' width=900.0/>\n",
              "            </div>\n",
              "        "
            ],
            "application/vnd.jupyter.widget-view+json": {
              "version_major": 2,
              "version_minor": 0,
              "model_id": "a45a8825af7e41799b8d56f775169e80"
            }
          },
          "metadata": {}
        }
      ],
      "source": [
        "print(f'Value of constraint one city at each time: {H1.compute(solution.configuration)}')\n",
        "print(f'Value of constraint one time for each city: {H2.compute(solution.configuration)}')\n",
        "\n",
        "#- Start coding here -######################################################################################################################\n",
        "my_bit_array = solution.extract_bit_array(\"tsp_array\")\n",
        "my_bit_array.draw(order=[1,0])\n",
        "######################################################################################################################- Stop coding here -#"
      ]
    },
    {
      "cell_type": "code",
      "source": [
        "from google.colab import output\n",
        "output.enable_custom_widget_manager()"
      ],
      "metadata": {
        "id": "vEyYzniopZy5"
      },
      "id": "vEyYzniopZy5",
      "execution_count": null,
      "outputs": []
    },
    {
      "cell_type": "markdown",
      "source": [
        "Support for third party widgets will remain active for the duration of the session. To disable support:"
      ],
      "metadata": {
        "id": "uuAoRLqnpZzB"
      },
      "id": "uuAoRLqnpZzB"
    },
    {
      "cell_type": "code",
      "source": [
        "from google.colab import output\n",
        "output.disable_custom_widget_manager()"
      ],
      "metadata": {
        "id": "UGxIzCRrpZzB"
      },
      "id": "UGxIzCRrpZzB",
      "execution_count": null,
      "outputs": []
    },
    {
      "cell_type": "code",
      "execution_count": null,
      "id": "77e5e01b-e630-4724-9604-81dcb69f63d1",
      "metadata": {
        "id": "77e5e01b-e630-4724-9604-81dcb69f63d1"
      },
      "outputs": [],
      "source": []
    }
  ],
  "metadata": {
    "kernelspec": {
      "display_name": "Python 3 (ipykernel)",
      "language": "python",
      "name": "python3"
    },
    "language_info": {
      "codemirror_mode": {
        "name": "ipython",
        "version": 3
      },
      "file_extension": ".py",
      "mimetype": "text/x-python",
      "name": "python",
      "nbconvert_exporter": "python",
      "pygments_lexer": "ipython3",
      "version": "3.10.13"
    },
    "colab": {
      "provenance": []
    },
    "widgets": {
      "application/vnd.jupyter.widget-state+json": {
        "a45a8825af7e41799b8d56f775169e80": {
          "model_module": "jupyter-matplotlib",
          "model_name": "MPLCanvasModel",
          "model_module_version": "^0.11",
          "state": {
            "_cursor": "pointer",
            "_data_url": "data:image/png;base64,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",
            "_dom_classes": [],
            "_figure_label": "Figure",
            "_image_mode": "full",
            "_message": "",
            "_model_module": "jupyter-matplotlib",
            "_model_module_version": "^0.11",
            "_model_name": "MPLCanvasModel",
            "_rubberband_height": 0,
            "_rubberband_width": 0,
            "_rubberband_x": 0,
            "_rubberband_y": 0,
            "_size": [
              900,
              400
            ],
            "_view_count": null,
            "_view_module": "jupyter-matplotlib",
            "_view_module_version": "^0.11",
            "_view_name": "MPLCanvasView",
            "capture_scroll": false,
            "footer_visible": true,
            "header_visible": true,
            "layout": "IPY_MODEL_911545c1cdf44533b815499389fb9094",
            "pan_zoom_throttle": 33,
            "resizable": true,
            "toolbar": "IPY_MODEL_84027854f8754868983de07ff48561f8",
            "toolbar_position": "left",
            "toolbar_visible": "fade-in-fade-out"
          }
        }
      }
    }
  },
  "nbformat": 4,
  "nbformat_minor": 5
}