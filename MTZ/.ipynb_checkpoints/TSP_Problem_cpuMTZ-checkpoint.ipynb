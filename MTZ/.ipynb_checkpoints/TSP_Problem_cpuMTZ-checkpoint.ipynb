{
 "cells": [
  {
   "cell_type": "markdown",
   "id": "92884eac-2880-426f-992f-43ac4bb8e3e8",
   "metadata": {},
   "source": [
    "## Travelling Salesman problem"
   ]
  },
  {
   "cell_type": "code",
   "execution_count": 3,
   "id": "5d434c7a-2bb7-441d-91c7-8e5440a78704",
   "metadata": {},
   "outputs": [
    {
     "data": {
      "text/html": [
       "<style>.container{width:100% !important;}</style>"
      ],
      "text/plain": [
       "<IPython.core.display.HTML object>"
      ]
     },
     "metadata": {},
     "output_type": "display_data"
    }
   ],
   "source": [
    "%matplotlib widget\n",
    "from IPython.display import display, HTML\n",
    "display(HTML(\"<style>.container{width:100% !important;}</style>\"))"
   ]
  },
  {
   "cell_type": "markdown",
   "id": "d9d60411-2e47-4114-aadc-cb23848c15b1",
   "metadata": {},
   "source": [
    "Given $N$ cities with intermediate distances $dist_{c_1,c_2}>0$ for different cities $c_1,c_2$, one seeks the shortest round trip such that each city is visited exactly once.\n",
    "Here, each bit in the problem denotes a city and the point in time when the city is visited. Instead of a single index as above, this gives rise to a bit vector \n",
    "$$\n",
    "X = (x_{t,c})_{t \\in \\{0,\\ldots,T-1\\}, c \\in cities},\n",
    "$$\n",
    "where $\\{0,\\ldots,T-1\\}$ is the set of times, i.e. the number of cities, and $cities$ is the set of cities.\n",
    "We would have two constraints enforcing that exactly one city is visited at each point in time and that each city is visited exactly once.\n",
    "A third term expresses the actual optimization problem: \n",
    "$$\n",
    "\\min_X A \\sum_{t=0}^{T-1} \\left(1 - \\sum_{c \\in cities} x_{t,c}\\right)^2  + B \\sum_{c \\in cities} \\left(1 - \\sum_{t=0}^{T-1} x_{t,c}\\right)^2 + C \\sum_{t=0}^{T-1} \\sum_{c_1,c_2 \\in cities: c_1\\neq c_2} dist_{c_1,c_2} x_{t,c_1} x_{t+1,c_2}, \\quad A,B,C >0.\n",
    "$$\n"
   ]
  },
  {
   "cell_type": "markdown",
   "id": "96806c12-8a19-4333-93b6-2d418ff26c3d",
   "metadata": {},
   "source": [
    "Lets start step by step.\n",
    "Your first task is the following.\n",
    "Choose five cities and store them as strings in a list `cities`. Also define a dictionary `distances` with distances between the cities. The distances do not have to be realistic. "
   ]
  },
  {
   "cell_type": "markdown",
   "id": "8f0cb7e5-36a0-4770-812a-1184347b0cd5",
   "metadata": {},
   "source": [
    "## Generate the Dataset"
   ]
  },
  {
   "cell_type": "code",
   "execution_count": 83,
   "id": "1a977a08-2db8-4c23-a57f-f7048b17a5c9",
   "metadata": {},
   "outputs": [
    {
     "name": "stdout",
     "output_type": "stream",
     "text": [
      "{('Munich', 'Hamburg'): 6, ('Hamburg', 'Munich'): 6, ('Munich', 'Stuttgart'): 1, ('Stuttgart', 'Munich'): 1, ('Munich', 'Berlin'): 1, ('Berlin', 'Munich'): 1, ('Munich', 'Frankfurt'): 6, ('Frankfurt', 'Munich'): 6, ('Munich', 'Paris'): 3, ('Paris', 'Munich'): 3, ('Munich', 'Madrid'): 2, ('Madrid', 'Munich'): 2, ('Munich', 'Barcelona'): 2, ('Barcelona', 'Munich'): 2, ('Hamburg', 'Stuttgart'): 2, ('Stuttgart', 'Hamburg'): 2, ('Hamburg', 'Berlin'): 6, ('Berlin', 'Hamburg'): 6, ('Hamburg', 'Frankfurt'): 1, ('Frankfurt', 'Hamburg'): 1, ('Hamburg', 'Paris'): 6, ('Paris', 'Hamburg'): 6, ('Hamburg', 'Madrid'): 6, ('Madrid', 'Hamburg'): 6, ('Hamburg', 'Barcelona'): 5, ('Barcelona', 'Hamburg'): 5, ('Stuttgart', 'Berlin'): 1, ('Berlin', 'Stuttgart'): 1, ('Stuttgart', 'Frankfurt'): 5, ('Frankfurt', 'Stuttgart'): 5, ('Stuttgart', 'Paris'): 4, ('Paris', 'Stuttgart'): 4, ('Stuttgart', 'Madrid'): 1, ('Madrid', 'Stuttgart'): 1, ('Stuttgart', 'Barcelona'): 1, ('Barcelona', 'Stuttgart'): 1, ('Berlin', 'Frankfurt'): 1, ('Frankfurt', 'Berlin'): 1, ('Berlin', 'Paris'): 2, ('Paris', 'Berlin'): 2, ('Berlin', 'Madrid'): 2, ('Madrid', 'Berlin'): 2, ('Berlin', 'Barcelona'): 5, ('Barcelona', 'Berlin'): 5, ('Frankfurt', 'Paris'): 5, ('Paris', 'Frankfurt'): 5, ('Frankfurt', 'Madrid'): 1, ('Madrid', 'Frankfurt'): 1, ('Frankfurt', 'Barcelona'): 5, ('Barcelona', 'Frankfurt'): 5, ('Paris', 'Madrid'): 2, ('Madrid', 'Paris'): 2, ('Paris', 'Barcelona'): 6, ('Barcelona', 'Paris'): 6, ('Madrid', 'Barcelona'): 6, ('Barcelona', 'Madrid'): 6}\n",
      "Distance Matrix:\n",
      "[[0 6 1 1 6 3 2 2]\n",
      " [6 0 2 6 1 6 6 5]\n",
      " [1 2 0 1 5 4 1 1]\n",
      " [1 6 1 0 1 2 2 5]\n",
      " [6 1 5 1 0 5 1 5]\n",
      " [3 6 4 2 5 0 2 6]\n",
      " [2 6 1 2 1 2 0 6]\n",
      " [2 5 1 5 5 6 6 0]]\n"
     ]
    }
   ],
   "source": [
    "from dadk.QUBOSolverCPU import *\n",
    "from dadk.QUBOSolverBase import *\n",
    "from IPython.display import display, HTML\n",
    "from dadk.Solution_SolutionList import *\n",
    "from dadk.BinPol import *\n",
    "from dimod import BinaryQuadraticModel\n",
    "import random\n",
    "import numpy as np\n",
    "import itertools\n",
    "import time\n",
    "\n",
    "\n",
    "\n",
    "random.seed(42)\n",
    "cities = [\"Munich\", \"Hamburg\", \"Stuttgart\", \"Berlin\", \"Frankfurt\", \"Paris\", \"Madrid\", \"Barcelona\", \"Tenerife\", \"Malaga\", \"cadiz\", \"Toledo\"]\n",
    "n = len(cities)\n",
    "\n",
    "distances = {}\n",
    "for cindex1 in range(len(cities)-1):\n",
    "    c1 = cities[cindex1]\n",
    "    for cindex2 in range(cindex1+1,len(cities)):\n",
    "        c2 = cities[cindex2]\n",
    "        distances[c1,c2] = random.randint(1,6)\n",
    "        distances[c2,c1] = distances[c1,c2]\n",
    "\n",
    "#distances2 = {}\n",
    "#distances2 = np.zeros((n, n), dtype=int)\n",
    "#for i in range(n):\n",
    " #   for j in range(i + 1, n):\n",
    "#        distances2[i, j] = distances2[j, i] = random.randint(1, 6)\n",
    "\n",
    "#print(\"Distance Matrix:\")\n",
    "#print(distances2)\n",
    "\n",
    "print(distances)\n",
    "\n",
    "distance_matrix = np.zeros((n, n), dtype=int)\n",
    "for (c1, c2), dist in distances.items():\n",
    "    i, j = cities.index(c1), cities.index(c2)\n",
    "    distance_matrix[i, j] = distance_matrix[j, i] = dist\n",
    "\n",
    "print(\"Distance Matrix:\")\n",
    "print(distance_matrix)\n"
   ]
  },
  {
   "cell_type": "markdown",
   "id": "6adc10c0-be45-4819-aa60-9fccd022bf63",
   "metadata": {},
   "source": [
    "### Create the VarShapeSet"
   ]
  },
  {
   "cell_type": "code",
   "execution_count": 84,
   "id": "09d37a71-032f-481e-b7bc-6915916c7a15",
   "metadata": {},
   "outputs": [
    {
     "name": "stdout",
     "output_type": "stream",
     "text": [
      "\"tsp_array\" (8, 8)  ['time', 'city']\n",
      "\"tsp_array\" (8, 8)  ['time', 'city']\n"
     ]
    }
   ],
   "source": [
    "from dadk.QUBOSolverCPU import *\n",
    "N = len(cities)\n",
    "T = N\n",
    "my_constant_bits = np.full((N,N), -1, np.int8)\n",
    "\n",
    "\n",
    "## Start coding here: create an array called tsp_array with a (5,5) shape and axis_names=['time','city']\n",
    "my_bit_shape_array = BitArrayShape(name='tsp_array', shape=(N,N), axis_names=['time','city'], constant_bits=my_constant_bits)\n",
    "#\n",
    "\n",
    "my_varshapeset2 = VarShapeSet(my_bit_shape_array)\n",
    "\n",
    "my_varshapeset = VarShapeSet(*[my_bit_shape_array])\n",
    "print(my_varshapeset2)\n",
    "print(my_varshapeset)"
   ]
  },
  {
   "cell_type": "markdown",
   "id": "f599e553-ce16-4d85-b6cf-aa33ee803dd2",
   "metadata": {},
   "source": [
    "### Creates the QUBO model"
   ]
  },
  {
   "cell_type": "code",
   "execution_count": 80,
   "id": "71bc3082-aab8-4f83-a209-c41f4a3c52f3",
   "metadata": {},
   "outputs": [],
   "source": [
    "A, B, C = 1, 6, 5\n",
    "# H: Termino de la distancia\n",
    "H = BinPol(my_varshapeset)\n",
    "for t in range(T):\n",
    "    for c1_index, c1 in enumerate(cities):\n",
    "        for c2_index, c2 in enumerate(cities):\n",
    "            if c1 != c2:\n",
    "                dist = distances[(c1, c2)]\n",
    "                H.add_term(dist, ('tsp_array', t, c1_index), ('tsp_array', (t + 1) % T, c2_index))\n",
    "\n",
    "# H1: Restricción de cada ciudad se visita exactamente una vez\n",
    "H1 = BinPol(my_varshapeset)\n",
    "for c in range(N):\n",
    "    H1_c = BinPol(my_varshapeset)\n",
    "    for t in range(T):\n",
    "        H1_c.add_term(1, ('tsp_array', t, c))\n",
    "    H1_c.add_term(-1, ())\n",
    "    H1_c.power(2)\n",
    "    H1 += H1_c\n",
    "\n",
    "# H2: Restricción de que cada ciudad se visita exactamente en un tiempo\n",
    "H2 = BinPol(my_varshapeset)\n",
    "for t in range(T):\n",
    "    H2_t = BinPol(my_varshapeset)\n",
    "    for c in range(N):\n",
    "        H2_t.add_term(1, ('tsp_array', t, c))\n",
    "    H2_t.add_term(-1, ())\n",
    "    H2_t.power(2)\n",
    "    H2 += H2_t\n",
    "\n",
    "# Combinar los términos para formar el QUBO\n",
    "my_qubo = A * H + B * H1 + C * H2\n",
    "\n"
   ]
  },
  {
   "cell_type": "markdown",
   "id": "f0c596a2-2591-4055-96f8-883a2a40e41a",
   "metadata": {},
   "source": [
    "### Find the minima using QUBO Solver CPU"
   ]
  },
  {
   "cell_type": "code",
   "execution_count": 82,
   "id": "35e50bfb-7c4d-43d1-b673-f8e5a9f8f1cc",
   "metadata": {
    "scrolled": true
   },
   "outputs": [
    {
     "name": "stdout",
     "output_type": "stream",
     "text": [
      "\n",
      "********************************************************************************\n",
      "Scaling qubo, temperature_start, temperature_end and offset_increase_rate\n",
      "  factor:                    178939074.00000\n",
      "********************************************************************************\n",
      "\n",
      "use python sampling core\n",
      "\n",
      "********************************************************************************\n",
      "Effective values (including scaling factor)\n",
      "  temperature_start:           974500000.000\n",
      "  temperature_end:              90370000.000\n",
      "  offset_increase_rate:        259900000.000\n",
      "  duration:                            0.286 sec\n",
      "********************************************************************************\n",
      "\n",
      "use python annealing core\n",
      "Execution Time: 185.45 seconds\n",
      "Uso de memoria inicial: 102.69921875 MB\n",
      "Uso de memoria final: 152.37890625 MB\n",
      "Incremento de uso de memoria: 49.6796875 MB\n",
      "[0, 0, 1, 0, 0, 0, 0, 0, 0, 0, 0, 0, 0, 0, 0, 1, 1, 0, 0, 0, 0, 0, 0, 0, 0, 0, 0, 1, 0, 0, 0, 0, 0, 0, 0, 0, 0, 1, 0, 0, 0, 0, 0, 0, 0, 0, 1, 0, 0, 0, 0, 0, 1, 0, 0, 0, 0, 1, 0, 0, 0, 0, 0, 0]\n",
      "CPU Solver Formatted Result:\n",
      "[0, 0, 'Stuttgart', 0, 0, 0, 0, 0]\n",
      "[0, 0, 0, 0, 0, 0, 0, 'Barcelona']\n",
      "['Munich', 0, 0, 0, 0, 0, 0, 0]\n",
      "[0, 0, 0, 'Berlin', 0, 0, 0, 0]\n",
      "[0, 0, 0, 0, 0, 'Paris', 0, 0]\n",
      "[0, 0, 0, 0, 0, 0, 'Madrid', 0]\n",
      "[0, 0, 0, 0, 'Frankfurt', 0, 0, 0]\n",
      "[0, 'Hamburg', 0, 0, 0, 0, 0, 0]\n",
      "Route in Order:\n",
      "Stuttgart -> Barcelona -> Munich -> Berlin -> Paris -> Madrid -> Frankfurt -> Hamburg\n",
      "Total Distance: 12\n"
     ]
    }
   ],
   "source": [
    "from dadk.QUBOSolverCPU import *\n",
    "from dadk.QUBOSolverBase import *\n",
    "import time\n",
    "import psutil\n",
    "\n",
    "def get_memory_usage():\n",
    "    process = psutil.Process()\n",
    "    return process.memory_info().rss / 1024 / 1024  # Convertir a MB\n",
    "\n",
    "initial_memory = get_memory_usage()\n",
    "\n",
    "start_time = time.time()\n",
    "solver = QUBOSolverCPU(\n",
    "number_iterations=200000,\n",
    "number_runs=10,\n",
    "scaling_bit_precision=32,\n",
    "auto_tuning=AutoTuning.AUTO_SCALING_AND_SAMPLING)\n",
    "#cities = [\"Munich\", \"Hamburg\", \"Stuttgart\", \"Berlin\", \"Frankfurt\", \"Paris\", \"Madrid\", \"Barcelona\"]\n",
    "\n",
    "solution_list = solver.minimize(my_qubo)\n",
    "solution = solution_list.min_solution\n",
    "\n",
    "end_time = time.time()\n",
    "final_memory = get_memory_usage()\n",
    "execution_time = end_time - start_time\n",
    "print(f\"Execution Time: {execution_time:.2f} seconds\")\n",
    "print(\"Uso de memoria inicial:\", initial_memory, \"MB\")\n",
    "print(\"Uso de memoria final:\", final_memory, \"MB\")\n",
    "print(\"Incremento de uso de memoria:\", final_memory - initial_memory, \"MB\")\n",
    "print(solution.configuration)\n",
    "\n",
    "result = []\n",
    "\n",
    "\n",
    "# Process the configuration to extract the city names\n",
    "config = solution.configuration\n",
    "\n",
    "for t in range(T):\n",
    "    row = []\n",
    "    for c in range(N):\n",
    "        idx = t * N + c\n",
    "        if config[idx] == 1:\n",
    "            row.append(cities[c])\n",
    "        else:\n",
    "            row.append(0)\n",
    "    result.append(row)\n",
    "\n",
    "print(\"CPU Solver Formatted Result:\")\n",
    "\n",
    "for row in result:\n",
    "    print(row)\n",
    "\n",
    "\n",
    "# Extract the route in order\n",
    "route = []\n",
    "for t in range(T):\n",
    "    for c in range(N):\n",
    "        idx = t * N + c\n",
    "        if config[idx] == 1:\n",
    "            route.append(cities[c])\n",
    "            break  # Once we find the city for this time step, we can break the inner loop\n",
    "\n",
    "# Print the route\n",
    "print(\"Route in Order:\")\n",
    "print(\" -> \".join(route))\n",
    "# Calcular la distancia total\n",
    "\n",
    "total_distance = 0\n",
    "for i in range(len(route) - 1):\n",
    "    city_from = cities.index(route[i])\n",
    "    city_to = cities.index(route[i + 1])\n",
    "    total_distance += distance_matrix[city_from][city_to]\n",
    "\n",
    "# Para hacer que sea un viaje de ida y vuelta, agrega la distancia de la última ciudad de vuelta a la primera ciudad\n",
    "city_from = cities.index(route[-1])\n",
    "city_to = cities.index(route[0])\n",
    "total_distance += distance_matrix[city_from][city_to]\n",
    "\n",
    "# Imprimir la distancia total\n",
    "print(\"Total Distance:\", total_distance)\n"
   ]
  },
  {
   "cell_type": "markdown",
   "id": "81a5888f-4e59-487e-b650-3a9dd24f2a60",
   "metadata": {},
   "source": [
    "### Draw Solution"
   ]
  },
  {
   "cell_type": "code",
   "execution_count": 35,
   "id": "788964cf-e5de-466c-8c23-301dff0c9c7c",
   "metadata": {},
   "outputs": [
    {
     "name": "stdout",
     "output_type": "stream",
     "text": [
      "Value of constraint one city at each time: 1\n",
      "Value of constraint one time for each city: 1\n"
     ]
    },
    {
     "data": {
      "application/vnd.jupyter.widget-view+json": {
       "model_id": "ac97fa45deb842a894b32faddfa00a3b",
       "version_major": 2,
       "version_minor": 0
      },
      "image/png": "[encoded data removed]",
      "text/html": [
       "\n",
       "            <div style=\"display: inline-block;\">\n",
       "                <div class=\"jupyter-widgets widget-label\" style=\"text-align: center;\">\n",
       "                    Figure\n",
       "                </div>\n",
       "                <img src='data:image/png;base64,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' width=900.0/>\n",
       "            </div>\n",
       "        "
      ],
      "text/plain": [
       "Canvas(toolbar=Toolbar(toolitems=[('Home', 'Reset original view', 'home', 'home'), ('Back', 'Back to previous …"
      ]
     },
     "metadata": {},
     "output_type": "display_data"
    }
   ],
   "source": [
    "print(f'Value of constraint one city at each time: {H1.compute(solution.configuration)}')\n",
    "print(f'Value of constraint one time for each city: {H2.compute(solution.configuration)}')\n",
    "\n",
    "#- Start coding here -######################################################################################################################\n",
    "my_bit_array = solution.extract_bit_array(\"tsp_array\")\n",
    "my_bit_array.draw(order=[1,0])\n",
    "######################################################################################################################- Stop coding here -#"
   ]
  },
  {
   "cell_type": "code",
   "execution_count": null,
   "id": "77e5e01b-e630-4724-9604-81dcb69f63d1",
   "metadata": {},
   "outputs": [],
   "source": []
  },
  {
   "cell_type": "code",
   "execution_count": null,
   "id": "46efc72b-afc7-421c-88a3-acdaf45b4184",
   "metadata": {},
   "outputs": [],
   "source": []
  },
  {
   "cell_type": "code",
   "execution_count": null,
   "id": "68aa417c-a018-4425-b83f-14edf20d97c3",
   "metadata": {},
   "outputs": [],
   "source": []
  }
 ],
 "metadata": {
  "kernelspec": {
   "display_name": "Python 3 (ipykernel)",
   "language": "python",
   "name": "python3"
  },
  "language_info": {
   "codemirror_mode": {
    "name": "ipython",
    "version": 3
   },
   "file_extension": ".py",
   "mimetype": "text/x-python",
   "name": "python",
   "nbconvert_exporter": "python",
   "pygments_lexer": "ipython3",
   "version": "3.10.13"
  }
 },
 "nbformat": 4,
 "nbformat_minor": 5
}
